{
  "nbformat": 4,
  "nbformat_minor": 0,
  "metadata": {
    "colab": {
      "name": "Untitled0.ipynb",
      "provenance": [],
      "collapsed_sections": [],
      "authorship_tag": "ABX9TyMLWSRzxwRpNZDnVmh2IJRz",
      "include_colab_link": true
    },
    "kernelspec": {
      "name": "python3",
      "display_name": "Python 3"
    },
    "language_info": {
      "name": "python"
    }
  },
  "cells": [
    {
      "cell_type": "markdown",
      "metadata": {
        "id": "view-in-github",
        "colab_type": "text"
      },
      "source": [
        "<a href=\"https://colab.research.google.com/github/alexriley7/Hadoop_Data_Transform/blob/main/Hadoop_spark_dataTransform.ipynb\" target=\"_parent\"><img src=\"https://colab.research.google.com/assets/colab-badge.svg\" alt=\"Open In Colab\"/></a>"
      ]
    },
    {
      "cell_type": "code",
      "execution_count": null,
      "metadata": {
        "colab": {
          "base_uri": "https://localhost:8080/"
        },
        "id": "CDfghSpnV2RR",
        "outputId": "2c9d7683-e235-49c9-93b5-b4dfd000f0f3"
      },
      "outputs": [
        {
          "output_type": "execute_result",
          "data": {
            "text/plain": [
              "7"
            ]
          },
          "metadata": {},
          "execution_count": 1
        }
      ],
      "source": [
        "3+4\n"
      ]
    },
    {
      "cell_type": "markdown",
      "source": [
        "This is a comment here"
      ],
      "metadata": {
        "id": "y7Ol3kM0WEVV"
      }
    },
    {
      "cell_type": "code",
      "source": [
        "4-2\n"
      ],
      "metadata": {
        "colab": {
          "base_uri": "https://localhost:8080/"
        },
        "id": "TTLhgwcgWHGl",
        "outputId": "8a0bc17f-74ad-467f-fa8f-48e0a5af0f4b"
      },
      "execution_count": null,
      "outputs": [
        {
          "output_type": "execute_result",
          "data": {
            "text/plain": [
              "2"
            ]
          },
          "metadata": {},
          "execution_count": 2
        }
      ]
    },
    {
      "cell_type": "code",
      "source": [
        "!ls"
      ],
      "metadata": {
        "colab": {
          "base_uri": "https://localhost:8080/"
        },
        "id": "DlN15iiHWRYG",
        "outputId": "4eb2bca9-f501-488d-c822-3d37b31df67b"
      },
      "execution_count": null,
      "outputs": [
        {
          "output_type": "stream",
          "name": "stdout",
          "text": [
            "sample_data\n"
          ]
        }
      ]
    },
    {
      "cell_type": "code",
      "source": [
        "!wget https://raw.githubusercontent.com/futurexskill/bigdata/master/retailstore.csv\n"
      ],
      "metadata": {
        "colab": {
          "base_uri": "https://localhost:8080/"
        },
        "id": "Yeg4NXAfWht6",
        "outputId": "5def821d-5fe2-4244-b3bb-f335a08d077a"
      },
      "execution_count": null,
      "outputs": [
        {
          "output_type": "stream",
          "name": "stdout",
          "text": [
            "--2022-08-01 03:01:46--  https://raw.githubusercontent.com/futurexskill/bigdata/master/retailstore.csv\n",
            "Resolving raw.githubusercontent.com (raw.githubusercontent.com)... 185.199.109.133, 185.199.108.133, 185.199.111.133, ...\n",
            "Connecting to raw.githubusercontent.com (raw.githubusercontent.com)|185.199.109.133|:443... connected.\n",
            "HTTP request sent, awaiting response... 200 OK\n",
            "Length: 279 [text/plain]\n",
            "Saving to: ‘retailstore.csv’\n",
            "\n",
            "\rretailstore.csv       0%[                    ]       0  --.-KB/s               \rretailstore.csv     100%[===================>]     279  --.-KB/s    in 0s      \n",
            "\n",
            "2022-08-01 03:01:46 (7.48 MB/s) - ‘retailstore.csv’ saved [279/279]\n",
            "\n"
          ]
        }
      ]
    },
    {
      "cell_type": "code",
      "source": [
        "!wget https://dlcdn.apache.org/spark/spark-3.3.0/spark-3.3.0-bin-hadoop3.tgz\n",
        "\n"
      ],
      "metadata": {
        "colab": {
          "base_uri": "https://localhost:8080/"
        },
        "id": "MDA5FbNGWkFF",
        "outputId": "4485dbc0-996f-443f-cfc8-24eceee264b7"
      },
      "execution_count": 1,
      "outputs": [
        {
          "output_type": "stream",
          "name": "stdout",
          "text": [
            "--2022-08-04 08:28:58--  https://dlcdn.apache.org/spark/spark-3.3.0/spark-3.3.0-bin-hadoop3.tgz\n",
            "Resolving dlcdn.apache.org (dlcdn.apache.org)... 151.101.2.132, 2a04:4e42::644\n",
            "Connecting to dlcdn.apache.org (dlcdn.apache.org)|151.101.2.132|:443... connected.\n",
            "HTTP request sent, awaiting response... 200 OK\n",
            "Length: 299321244 (285M) [application/x-gzip]\n",
            "Saving to: ‘spark-3.3.0-bin-hadoop3.tgz’\n",
            "\n",
            "spark-3.3.0-bin-had 100%[===================>] 285.45M   239MB/s    in 1.2s    \n",
            "\n",
            "2022-08-04 08:29:00 (239 MB/s) - ‘spark-3.3.0-bin-hadoop3.tgz’ saved [299321244/299321244]\n",
            "\n"
          ]
        }
      ]
    },
    {
      "cell_type": "code",
      "source": [
        ""
      ],
      "metadata": {
        "id": "HGgm5eNeW4GB"
      },
      "execution_count": null,
      "outputs": []
    },
    {
      "cell_type": "code",
      "source": [
        "!ls"
      ],
      "metadata": {
        "colab": {
          "base_uri": "https://localhost:8080/"
        },
        "id": "8pOT0rD-W4Jm",
        "outputId": "0efe400a-e501-4564-de00-247ecf1a83a8"
      },
      "execution_count": null,
      "outputs": [
        {
          "output_type": "stream",
          "name": "stdout",
          "text": [
            "retailstore.csv  sample_data  spark-3.3.0-bin-hadoop3.tgz\n"
          ]
        }
      ]
    },
    {
      "cell_type": "code",
      "source": [
        "!tar xvf spark-3.3.0-bin-hadoop3.tgz"
      ],
      "metadata": {
        "colab": {
          "base_uri": "https://localhost:8080/"
        },
        "id": "2LANLtaJW6bx",
        "outputId": "b2b1be6d-4ea1-4e90-e87f-171ce1298da2"
      },
      "execution_count": 2,
      "outputs": [
        {
          "output_type": "stream",
          "name": "stdout",
          "text": [
            "spark-3.3.0-bin-hadoop3/\n",
            "spark-3.3.0-bin-hadoop3/NOTICE\n",
            "spark-3.3.0-bin-hadoop3/kubernetes/\n",
            "spark-3.3.0-bin-hadoop3/kubernetes/tests/\n",
            "spark-3.3.0-bin-hadoop3/kubernetes/tests/python_executable_check.py\n",
            "spark-3.3.0-bin-hadoop3/kubernetes/tests/autoscale.py\n",
            "spark-3.3.0-bin-hadoop3/kubernetes/tests/worker_memory_check.py\n",
            "spark-3.3.0-bin-hadoop3/kubernetes/tests/py_container_checks.py\n",
            "spark-3.3.0-bin-hadoop3/kubernetes/tests/decommissioning.py\n",
            "spark-3.3.0-bin-hadoop3/kubernetes/tests/pyfiles.py\n",
            "spark-3.3.0-bin-hadoop3/kubernetes/tests/decommissioning_cleanup.py\n",
            "spark-3.3.0-bin-hadoop3/kubernetes/dockerfiles/\n",
            "spark-3.3.0-bin-hadoop3/kubernetes/dockerfiles/spark/\n",
            "spark-3.3.0-bin-hadoop3/kubernetes/dockerfiles/spark/decom.sh\n",
            "spark-3.3.0-bin-hadoop3/kubernetes/dockerfiles/spark/entrypoint.sh\n",
            "spark-3.3.0-bin-hadoop3/kubernetes/dockerfiles/spark/bindings/\n",
            "spark-3.3.0-bin-hadoop3/kubernetes/dockerfiles/spark/bindings/R/\n",
            "spark-3.3.0-bin-hadoop3/kubernetes/dockerfiles/spark/bindings/R/Dockerfile\n",
            "spark-3.3.0-bin-hadoop3/kubernetes/dockerfiles/spark/bindings/python/\n",
            "spark-3.3.0-bin-hadoop3/kubernetes/dockerfiles/spark/bindings/python/Dockerfile\n",
            "spark-3.3.0-bin-hadoop3/kubernetes/dockerfiles/spark/Dockerfile\n",
            "spark-3.3.0-bin-hadoop3/kubernetes/dockerfiles/spark/Dockerfile.java17\n",
            "spark-3.3.0-bin-hadoop3/jars/\n",
            "spark-3.3.0-bin-hadoop3/jars/spark-network-shuffle_2.12-3.3.0.jar\n",
            "spark-3.3.0-bin-hadoop3/jars/shapeless_2.12-2.3.7.jar\n",
            "spark-3.3.0-bin-hadoop3/jars/arrow-format-7.0.0.jar\n",
            "spark-3.3.0-bin-hadoop3/jars/metrics-jvm-4.2.7.jar\n",
            "spark-3.3.0-bin-hadoop3/jars/spark-tags_2.12-3.3.0.jar\n",
            "spark-3.3.0-bin-hadoop3/jars/okhttp-3.12.12.jar\n",
            "spark-3.3.0-bin-hadoop3/jars/hive-shims-common-2.3.9.jar\n",
            "spark-3.3.0-bin-hadoop3/jars/spire_2.12-0.17.0.jar\n",
            "spark-3.3.0-bin-hadoop3/jars/logging-interceptor-3.12.12.jar\n",
            "spark-3.3.0-bin-hadoop3/jars/hive-serde-2.3.9.jar\n",
            "spark-3.3.0-bin-hadoop3/jars/objenesis-3.2.jar\n",
            "spark-3.3.0-bin-hadoop3/jars/spark-streaming_2.12-3.3.0.jar\n",
            "spark-3.3.0-bin-hadoop3/jars/avro-1.11.0.jar\n",
            "spark-3.3.0-bin-hadoop3/jars/zookeeper-3.6.2.jar\n",
            "spark-3.3.0-bin-hadoop3/jars/spark-kvstore_2.12-3.3.0.jar\n",
            "spark-3.3.0-bin-hadoop3/jars/kryo-shaded-4.0.2.jar\n",
            "spark-3.3.0-bin-hadoop3/jars/hive-jdbc-2.3.9.jar\n",
            "spark-3.3.0-bin-hadoop3/jars/jackson-annotations-2.13.3.jar\n",
            "spark-3.3.0-bin-hadoop3/jars/commons-logging-1.1.3.jar\n",
            "spark-3.3.0-bin-hadoop3/jars/commons-compiler-3.0.16.jar\n",
            "spark-3.3.0-bin-hadoop3/jars/spark-sql_2.12-3.3.0.jar\n",
            "spark-3.3.0-bin-hadoop3/jars/jdo-api-3.0.1.jar\n",
            "spark-3.3.0-bin-hadoop3/jars/pickle-1.2.jar\n",
            "spark-3.3.0-bin-hadoop3/jars/JLargeArrays-1.5.jar\n",
            "spark-3.3.0-bin-hadoop3/jars/kubernetes-model-apiextensions-5.12.2.jar\n",
            "spark-3.3.0-bin-hadoop3/jars/parquet-common-1.12.2.jar\n",
            "spark-3.3.0-bin-hadoop3/jars/httpcore-4.4.14.jar\n",
            "spark-3.3.0-bin-hadoop3/jars/commons-codec-1.15.jar\n",
            "spark-3.3.0-bin-hadoop3/jars/parquet-format-structures-1.12.2.jar\n",
            "spark-3.3.0-bin-hadoop3/jars/commons-io-2.11.0.jar\n",
            "spark-3.3.0-bin-hadoop3/jars/stax-api-1.0.1.jar\n",
            "spark-3.3.0-bin-hadoop3/jars/hive-storage-api-2.7.2.jar\n",
            "spark-3.3.0-bin-hadoop3/jars/kubernetes-model-certificates-5.12.2.jar\n",
            "spark-3.3.0-bin-hadoop3/jars/zookeeper-jute-3.6.2.jar\n",
            "spark-3.3.0-bin-hadoop3/jars/spark-yarn_2.12-3.3.0.jar\n",
            "spark-3.3.0-bin-hadoop3/jars/commons-collections4-4.4.jar\n",
            "spark-3.3.0-bin-hadoop3/jars/jline-2.14.6.jar\n",
            "spark-3.3.0-bin-hadoop3/jars/dropwizard-metrics-hadoop-metrics2-reporter-0.1.2.jar\n",
            "spark-3.3.0-bin-hadoop3/jars/commons-pool-1.5.4.jar\n",
            "spark-3.3.0-bin-hadoop3/jars/snakeyaml-1.30.jar\n",
            "spark-3.3.0-bin-hadoop3/jars/xbean-asm9-shaded-4.20.jar\n",
            "spark-3.3.0-bin-hadoop3/jars/lz4-java-1.8.0.jar\n",
            "spark-3.3.0-bin-hadoop3/jars/cats-kernel_2.12-2.1.1.jar\n",
            "spark-3.3.0-bin-hadoop3/jars/jta-1.1.jar\n",
            "spark-3.3.0-bin-hadoop3/jars/istack-commons-runtime-3.0.8.jar\n",
            "spark-3.3.0-bin-hadoop3/jars/jackson-module-scala_2.12-2.13.3.jar\n",
            "spark-3.3.0-bin-hadoop3/jars/hive-common-2.3.9.jar\n",
            "spark-3.3.0-bin-hadoop3/jars/shims-0.9.25.jar\n",
            "spark-3.3.0-bin-hadoop3/jars/compress-lzf-1.1.jar\n",
            "spark-3.3.0-bin-hadoop3/jars/commons-collections-3.2.2.jar\n",
            "spark-3.3.0-bin-hadoop3/jars/audience-annotations-0.5.0.jar\n",
            "spark-3.3.0-bin-hadoop3/jars/joda-time-2.10.13.jar\n",
            "spark-3.3.0-bin-hadoop3/jars/jpam-1.1.jar\n",
            "spark-3.3.0-bin-hadoop3/jars/jakarta.annotation-api-1.3.5.jar\n",
            "spark-3.3.0-bin-hadoop3/jars/kubernetes-model-coordination-5.12.2.jar\n",
            "spark-3.3.0-bin-hadoop3/jars/tink-1.6.1.jar\n",
            "spark-3.3.0-bin-hadoop3/jars/metrics-json-4.2.7.jar\n",
            "spark-3.3.0-bin-hadoop3/jars/spark-kubernetes_2.12-3.3.0.jar\n",
            "spark-3.3.0-bin-hadoop3/jars/jersey-common-2.34.jar\n",
            "spark-3.3.0-bin-hadoop3/jars/kubernetes-model-common-5.12.2.jar\n",
            "spark-3.3.0-bin-hadoop3/jars/spark-graphx_2.12-3.3.0.jar\n",
            "spark-3.3.0-bin-hadoop3/jars/parquet-hadoop-1.12.2.jar\n",
            "spark-3.3.0-bin-hadoop3/jars/curator-recipes-2.13.0.jar\n",
            "spark-3.3.0-bin-hadoop3/jars/zstd-jni-1.5.2-1.jar\n",
            "spark-3.3.0-bin-hadoop3/jars/commons-math3-3.6.1.jar\n",
            "spark-3.3.0-bin-hadoop3/jars/spark-tags_2.12-3.3.0-tests.jar\n",
            "spark-3.3.0-bin-hadoop3/jars/orc-shims-1.7.4.jar\n",
            "spark-3.3.0-bin-hadoop3/jars/netty-transport-4.1.74.Final.jar\n",
            "spark-3.3.0-bin-hadoop3/jars/netty-tcnative-classes-2.0.48.Final.jar\n",
            "spark-3.3.0-bin-hadoop3/jars/spark-launcher_2.12-3.3.0.jar\n",
            "spark-3.3.0-bin-hadoop3/jars/antlr4-runtime-4.8.jar\n",
            "spark-3.3.0-bin-hadoop3/jars/javax.jdo-3.2.0-m3.jar\n",
            "spark-3.3.0-bin-hadoop3/jars/spark-hive-thriftserver_2.12-3.3.0.jar\n",
            "spark-3.3.0-bin-hadoop3/jars/paranamer-2.8.jar\n",
            "spark-3.3.0-bin-hadoop3/jars/spark-network-common_2.12-3.3.0.jar\n",
            "spark-3.3.0-bin-hadoop3/jars/netty-all-4.1.74.Final.jar\n",
            "spark-3.3.0-bin-hadoop3/jars/arrow-memory-core-7.0.0.jar\n",
            "spark-3.3.0-bin-hadoop3/jars/orc-core-1.7.4.jar\n",
            "spark-3.3.0-bin-hadoop3/jars/kubernetes-model-storageclass-5.12.2.jar\n",
            "spark-3.3.0-bin-hadoop3/jars/flatbuffers-java-1.12.0.jar\n",
            "spark-3.3.0-bin-hadoop3/jars/kubernetes-model-autoscaling-5.12.2.jar\n",
            "spark-3.3.0-bin-hadoop3/jars/json4s-core_2.12-3.7.0-M11.jar\n",
            "spark-3.3.0-bin-hadoop3/jars/stream-2.9.6.jar\n",
            "spark-3.3.0-bin-hadoop3/jars/log4j-core-2.17.2.jar\n",
            "spark-3.3.0-bin-hadoop3/jars/arpack-2.2.1.jar\n",
            "spark-3.3.0-bin-hadoop3/jars/avro-ipc-1.11.0.jar\n",
            "spark-3.3.0-bin-hadoop3/jars/hive-shims-2.3.9.jar\n",
            "spark-3.3.0-bin-hadoop3/jars/datanucleus-api-jdo-4.2.4.jar\n",
            "spark-3.3.0-bin-hadoop3/jars/gson-2.2.4.jar\n",
            "spark-3.3.0-bin-hadoop3/jars/jersey-container-servlet-2.34.jar\n",
            "spark-3.3.0-bin-hadoop3/jars/commons-compress-1.21.jar\n",
            "spark-3.3.0-bin-hadoop3/jars/curator-client-2.13.0.jar\n",
            "spark-3.3.0-bin-hadoop3/jars/opencsv-2.3.jar\n",
            "spark-3.3.0-bin-hadoop3/jars/hive-exec-2.3.9-core.jar\n",
            "spark-3.3.0-bin-hadoop3/jars/jsr305-3.0.0.jar\n",
            "spark-3.3.0-bin-hadoop3/jars/netty-transport-native-epoll-4.1.74.Final-linux-x86_64.jar\n",
            "spark-3.3.0-bin-hadoop3/jars/derby-10.14.2.0.jar\n",
            "spark-3.3.0-bin-hadoop3/jars/spark-catalyst_2.12-3.3.0.jar\n",
            "spark-3.3.0-bin-hadoop3/jars/commons-dbcp-1.4.jar\n",
            "spark-3.3.0-bin-hadoop3/jars/scala-reflect-2.12.15.jar\n",
            "spark-3.3.0-bin-hadoop3/jars/okio-1.14.0.jar\n",
            "spark-3.3.0-bin-hadoop3/jars/hk2-api-2.6.1.jar\n",
            "spark-3.3.0-bin-hadoop3/jars/netty-transport-native-epoll-4.1.74.Final-linux-aarch_64.jar\n",
            "spark-3.3.0-bin-hadoop3/jars/hive-shims-0.23-2.3.9.jar\n",
            "spark-3.3.0-bin-hadoop3/jars/spark-hive_2.12-3.3.0.jar\n",
            "spark-3.3.0-bin-hadoop3/jars/jakarta.servlet-api-4.0.3.jar\n",
            "spark-3.3.0-bin-hadoop3/jars/commons-lang3-3.12.0.jar\n",
            "spark-3.3.0-bin-hadoop3/jars/automaton-1.11-8.jar\n",
            "spark-3.3.0-bin-hadoop3/jars/commons-lang-2.6.jar\n",
            "spark-3.3.0-bin-hadoop3/jars/kubernetes-model-core-5.12.2.jar\n",
            "spark-3.3.0-bin-hadoop3/jars/ivy-2.5.0.jar\n",
            "spark-3.3.0-bin-hadoop3/jars/hk2-utils-2.6.1.jar\n",
            "spark-3.3.0-bin-hadoop3/jars/parquet-column-1.12.2.jar\n",
            "spark-3.3.0-bin-hadoop3/jars/kubernetes-model-events-5.12.2.jar\n",
            "spark-3.3.0-bin-hadoop3/jars/kubernetes-model-node-5.12.2.jar\n",
            "spark-3.3.0-bin-hadoop3/jars/velocity-1.5.jar\n",
            "spark-3.3.0-bin-hadoop3/jars/netty-buffer-4.1.74.Final.jar\n",
            "spark-3.3.0-bin-hadoop3/jars/httpclient-4.5.13.jar\n",
            "spark-3.3.0-bin-hadoop3/jars/JTransforms-3.1.jar\n",
            "spark-3.3.0-bin-hadoop3/jars/netty-handler-4.1.74.Final.jar\n",
            "spark-3.3.0-bin-hadoop3/jars/json4s-scalap_2.12-3.7.0-M11.jar\n",
            "spark-3.3.0-bin-hadoop3/jars/slf4j-api-1.7.32.jar\n",
            "spark-3.3.0-bin-hadoop3/jars/kubernetes-model-rbac-5.12.2.jar\n",
            "spark-3.3.0-bin-hadoop3/jars/spark-repl_2.12-3.3.0.jar\n",
            "spark-3.3.0-bin-hadoop3/jars/kubernetes-model-discovery-5.12.2.jar\n",
            "spark-3.3.0-bin-hadoop3/jars/RoaringBitmap-0.9.25.jar\n",
            "spark-3.3.0-bin-hadoop3/jars/jersey-server-2.34.jar\n",
            "spark-3.3.0-bin-hadoop3/jars/netty-transport-classes-kqueue-4.1.74.Final.jar\n",
            "spark-3.3.0-bin-hadoop3/jars/aircompressor-0.21.jar\n",
            "spark-3.3.0-bin-hadoop3/jars/arrow-vector-7.0.0.jar\n",
            "spark-3.3.0-bin-hadoop3/jars/jackson-core-2.13.3.jar\n",
            "spark-3.3.0-bin-hadoop3/jars/jcl-over-slf4j-1.7.32.jar\n",
            "spark-3.3.0-bin-hadoop3/jars/metrics-core-4.2.7.jar\n",
            "spark-3.3.0-bin-hadoop3/jars/spark-core_2.12-3.3.0.jar\n",
            "spark-3.3.0-bin-hadoop3/jars/jakarta.validation-api-2.0.2.jar\n",
            "spark-3.3.0-bin-hadoop3/jars/jul-to-slf4j-1.7.32.jar\n",
            "spark-3.3.0-bin-hadoop3/jars/netty-transport-native-kqueue-4.1.74.Final-osx-x86_64.jar\n",
            "spark-3.3.0-bin-hadoop3/jars/guava-14.0.1.jar\n",
            "spark-3.3.0-bin-hadoop3/jars/parquet-jackson-1.12.2.jar\n",
            "spark-3.3.0-bin-hadoop3/jars/zjsonpatch-0.3.0.jar\n",
            "spark-3.3.0-bin-hadoop3/jars/hive-service-rpc-3.1.2.jar\n",
            "spark-3.3.0-bin-hadoop3/jars/metrics-graphite-4.2.7.jar\n",
            "spark-3.3.0-bin-hadoop3/jars/oro-2.0.8.jar\n",
            "spark-3.3.0-bin-hadoop3/jars/commons-text-1.9.jar\n",
            "spark-3.3.0-bin-hadoop3/jars/libfb303-0.9.3.jar\n",
            "spark-3.3.0-bin-hadoop3/jars/core-1.1.2.jar\n",
            "spark-3.3.0-bin-hadoop3/jars/avro-mapred-1.11.0.jar\n",
            "spark-3.3.0-bin-hadoop3/jars/datanucleus-rdbms-4.1.19.jar\n",
            "spark-3.3.0-bin-hadoop3/jars/super-csv-2.2.0.jar\n",
            "spark-3.3.0-bin-hadoop3/jars/hadoop-yarn-server-web-proxy-3.3.2.jar\n",
            "spark-3.3.0-bin-hadoop3/jars/scala-compiler-2.12.15.jar\n",
            "spark-3.3.0-bin-hadoop3/jars/log4j-api-2.17.2.jar\n",
            "spark-3.3.0-bin-hadoop3/jars/osgi-resource-locator-1.0.3.jar\n",
            "spark-3.3.0-bin-hadoop3/jars/spark-sketch_2.12-3.3.0.jar\n",
            "spark-3.3.0-bin-hadoop3/jars/hadoop-client-api-3.3.2.jar\n",
            "spark-3.3.0-bin-hadoop3/jars/arrow-memory-netty-7.0.0.jar\n",
            "spark-3.3.0-bin-hadoop3/jars/json-1.8.jar\n",
            "spark-3.3.0-bin-hadoop3/jars/kubernetes-model-policy-5.12.2.jar\n",
            "spark-3.3.0-bin-hadoop3/jars/antlr-runtime-3.5.2.jar\n",
            "spark-3.3.0-bin-hadoop3/jars/jackson-datatype-jsr310-2.13.3.jar\n",
            "spark-3.3.0-bin-hadoop3/jars/jackson-databind-2.13.3.jar\n",
            "spark-3.3.0-bin-hadoop3/jars/spark-mllib_2.12-3.3.0.jar\n",
            "spark-3.3.0-bin-hadoop3/jars/netty-transport-classes-epoll-4.1.74.Final.jar\n",
            "spark-3.3.0-bin-hadoop3/jars/threeten-extra-1.5.0.jar\n",
            "spark-3.3.0-bin-hadoop3/jars/kubernetes-client-5.12.2.jar\n",
            "spark-3.3.0-bin-hadoop3/jars/scala-library-2.12.15.jar\n",
            "spark-3.3.0-bin-hadoop3/jars/kubernetes-model-metrics-5.12.2.jar\n",
            "spark-3.3.0-bin-hadoop3/jars/snappy-java-1.1.8.4.jar\n",
            "spark-3.3.0-bin-hadoop3/jars/activation-1.1.1.jar\n",
            "spark-3.3.0-bin-hadoop3/jars/annotations-17.0.0.jar\n",
            "spark-3.3.0-bin-hadoop3/jars/commons-crypto-1.1.0.jar\n",
            "spark-3.3.0-bin-hadoop3/jars/log4j-1.2-api-2.17.2.jar\n",
            "spark-3.3.0-bin-hadoop3/jars/libthrift-0.12.0.jar\n",
            "spark-3.3.0-bin-hadoop3/jars/HikariCP-2.5.1.jar\n",
            "spark-3.3.0-bin-hadoop3/jars/generex-1.0.2.jar\n",
            "spark-3.3.0-bin-hadoop3/jars/leveldbjni-all-1.8.jar\n",
            "spark-3.3.0-bin-hadoop3/jars/jaxb-runtime-2.3.2.jar\n",
            "spark-3.3.0-bin-hadoop3/jars/rocksdbjni-6.20.3.jar\n",
            "spark-3.3.0-bin-hadoop3/jars/netty-transport-native-unix-common-4.1.74.Final.jar\n",
            "spark-3.3.0-bin-hadoop3/jars/lapack-2.2.1.jar\n",
            "spark-3.3.0-bin-hadoop3/jars/jackson-core-asl-1.9.13.jar\n",
            "spark-3.3.0-bin-hadoop3/jars/spark-mllib-local_2.12-3.3.0.jar\n",
            "spark-3.3.0-bin-hadoop3/jars/hive-cli-2.3.9.jar\n",
            "spark-3.3.0-bin-hadoop3/jars/hive-beeline-2.3.9.jar\n",
            "spark-3.3.0-bin-hadoop3/jars/scala-xml_2.12-1.2.0.jar\n",
            "spark-3.3.0-bin-hadoop3/jars/hk2-locator-2.6.1.jar\n",
            "spark-3.3.0-bin-hadoop3/jars/kubernetes-model-apps-5.12.2.jar\n",
            "spark-3.3.0-bin-hadoop3/jars/metrics-jmx-4.2.7.jar\n",
            "spark-3.3.0-bin-hadoop3/jars/jackson-mapper-asl-1.9.13.jar\n",
            "spark-3.3.0-bin-hadoop3/jars/blas-2.2.1.jar\n",
            "spark-3.3.0-bin-hadoop3/jars/ST4-4.0.4.jar\n",
            "spark-3.3.0-bin-hadoop3/jars/jackson-dataformat-yaml-2.13.3.jar\n",
            "spark-3.3.0-bin-hadoop3/jars/chill_2.12-0.10.0.jar\n",
            "spark-3.3.0-bin-hadoop3/jars/json4s-jackson_2.12-3.7.0-M11.jar\n",
            "spark-3.3.0-bin-hadoop3/jars/netty-resolver-4.1.74.Final.jar\n",
            "spark-3.3.0-bin-hadoop3/jars/breeze-macros_2.12-1.2.jar\n",
            "spark-3.3.0-bin-hadoop3/jars/xz-1.8.jar\n",
            "spark-3.3.0-bin-hadoop3/jars/minlog-1.3.0.jar\n",
            "spark-3.3.0-bin-hadoop3/jars/jersey-hk2-2.34.jar\n",
            "spark-3.3.0-bin-hadoop3/jars/netty-common-4.1.74.Final.jar\n",
            "spark-3.3.0-bin-hadoop3/jars/jakarta.ws.rs-api-2.1.6.jar\n",
            "spark-3.3.0-bin-hadoop3/jars/spark-unsafe_2.12-3.3.0.jar\n",
            "spark-3.3.0-bin-hadoop3/jars/jersey-container-servlet-core-2.34.jar\n",
            "spark-3.3.0-bin-hadoop3/jars/aopalliance-repackaged-2.6.1.jar\n",
            "spark-3.3.0-bin-hadoop3/jars/netty-transport-native-kqueue-4.1.74.Final-osx-aarch_64.jar\n",
            "spark-3.3.0-bin-hadoop3/jars/bonecp-0.8.0.RELEASE.jar\n",
            "spark-3.3.0-bin-hadoop3/jars/jodd-core-3.5.2.jar\n",
            "spark-3.3.0-bin-hadoop3/jars/orc-mapreduce-1.7.4.jar\n",
            "spark-3.3.0-bin-hadoop3/jars/spire-util_2.12-0.17.0.jar\n",
            "spark-3.3.0-bin-hadoop3/jars/protobuf-java-2.5.0.jar\n",
            "spark-3.3.0-bin-hadoop3/jars/jersey-client-2.34.jar\n",
            "spark-3.3.0-bin-hadoop3/jars/datanucleus-core-4.1.17.jar\n",
            "spark-3.3.0-bin-hadoop3/jars/janino-3.0.16.jar\n",
            "spark-3.3.0-bin-hadoop3/jars/spire-platform_2.12-0.17.0.jar\n",
            "spark-3.3.0-bin-hadoop3/jars/javolution-5.5.1.jar\n",
            "spark-3.3.0-bin-hadoop3/jars/transaction-api-1.1.jar\n",
            "spark-3.3.0-bin-hadoop3/jars/mesos-1.4.3-shaded-protobuf.jar\n",
            "spark-3.3.0-bin-hadoop3/jars/curator-framework-2.13.0.jar\n",
            "spark-3.3.0-bin-hadoop3/jars/parquet-encoding-1.12.2.jar\n",
            "spark-3.3.0-bin-hadoop3/jars/jakarta.inject-2.6.1.jar\n",
            "spark-3.3.0-bin-hadoop3/jars/hive-llap-common-2.3.9.jar\n",
            "spark-3.3.0-bin-hadoop3/jars/commons-cli-1.5.0.jar\n",
            "spark-3.3.0-bin-hadoop3/jars/jakarta.xml.bind-api-2.3.2.jar\n",
            "spark-3.3.0-bin-hadoop3/jars/kubernetes-model-flowcontrol-5.12.2.jar\n",
            "spark-3.3.0-bin-hadoop3/jars/algebra_2.12-2.0.1.jar\n",
            "spark-3.3.0-bin-hadoop3/jars/hadoop-shaded-guava-1.1.1.jar\n",
            "spark-3.3.0-bin-hadoop3/jars/arpack_combined_all-0.1.jar\n",
            "spark-3.3.0-bin-hadoop3/jars/hive-vector-code-gen-2.3.9.jar\n",
            "spark-3.3.0-bin-hadoop3/jars/kubernetes-model-admissionregistration-5.12.2.jar\n",
            "spark-3.3.0-bin-hadoop3/jars/spark-mesos_2.12-3.3.0.jar\n",
            "spark-3.3.0-bin-hadoop3/jars/json4s-ast_2.12-3.7.0-M11.jar\n",
            "spark-3.3.0-bin-hadoop3/jars/log4j-slf4j-impl-2.17.2.jar\n",
            "spark-3.3.0-bin-hadoop3/jars/javassist-3.25.0-GA.jar\n",
            "spark-3.3.0-bin-hadoop3/jars/scala-collection-compat_2.12-2.1.1.jar\n",
            "spark-3.3.0-bin-hadoop3/jars/kubernetes-model-networking-5.12.2.jar\n",
            "spark-3.3.0-bin-hadoop3/jars/py4j-0.10.9.5.jar\n",
            "spark-3.3.0-bin-hadoop3/jars/netty-codec-4.1.74.Final.jar\n",
            "spark-3.3.0-bin-hadoop3/jars/hadoop-client-runtime-3.3.2.jar\n",
            "spark-3.3.0-bin-hadoop3/jars/univocity-parsers-2.9.1.jar\n",
            "spark-3.3.0-bin-hadoop3/jars/hive-shims-scheduler-2.3.9.jar\n",
            "spark-3.3.0-bin-hadoop3/jars/kubernetes-model-extensions-5.12.2.jar\n",
            "spark-3.3.0-bin-hadoop3/jars/breeze_2.12-1.2.jar\n",
            "spark-3.3.0-bin-hadoop3/jars/chill-java-0.10.0.jar\n",
            "spark-3.3.0-bin-hadoop3/jars/spire-macros_2.12-0.17.0.jar\n",
            "spark-3.3.0-bin-hadoop3/jars/scala-parser-combinators_2.12-1.1.2.jar\n",
            "spark-3.3.0-bin-hadoop3/jars/hive-metastore-2.3.9.jar\n",
            "spark-3.3.0-bin-hadoop3/jars/kubernetes-model-scheduling-5.12.2.jar\n",
            "spark-3.3.0-bin-hadoop3/jars/kubernetes-model-batch-5.12.2.jar\n",
            "spark-3.3.0-bin-hadoop3/data/\n",
            "spark-3.3.0-bin-hadoop3/data/mllib/\n",
            "spark-3.3.0-bin-hadoop3/data/mllib/sample_lda_data.txt\n",
            "spark-3.3.0-bin-hadoop3/data/mllib/sample_libsvm_data.txt\n",
            "spark-3.3.0-bin-hadoop3/data/mllib/sample_svm_data.txt\n",
            "spark-3.3.0-bin-hadoop3/data/mllib/sample_multiclass_classification_data.txt\n",
            "spark-3.3.0-bin-hadoop3/data/mllib/sample_linear_regression_data.txt\n",
            "spark-3.3.0-bin-hadoop3/data/mllib/sample_lda_libsvm_data.txt\n",
            "spark-3.3.0-bin-hadoop3/data/mllib/sample_fpgrowth.txt\n",
            "spark-3.3.0-bin-hadoop3/data/mllib/sample_binary_classification_data.txt\n",
            "spark-3.3.0-bin-hadoop3/data/mllib/sample_isotonic_regression_libsvm_data.txt\n",
            "spark-3.3.0-bin-hadoop3/data/mllib/sample_movielens_data.txt\n",
            "spark-3.3.0-bin-hadoop3/data/mllib/als/\n",
            "spark-3.3.0-bin-hadoop3/data/mllib/als/test.data\n",
            "spark-3.3.0-bin-hadoop3/data/mllib/als/sample_movielens_ratings.txt\n",
            "spark-3.3.0-bin-hadoop3/data/mllib/sample_kmeans_data.txt\n",
            "spark-3.3.0-bin-hadoop3/data/mllib/pic_data.txt\n",
            "spark-3.3.0-bin-hadoop3/data/mllib/images/\n",
            "spark-3.3.0-bin-hadoop3/data/mllib/images/origin/\n",
            "spark-3.3.0-bin-hadoop3/data/mllib/images/origin/kittens/\n",
            "spark-3.3.0-bin-hadoop3/data/mllib/images/origin/kittens/54893.jpg\n",
            "spark-3.3.0-bin-hadoop3/data/mllib/images/origin/kittens/not-image.txt\n",
            "spark-3.3.0-bin-hadoop3/data/mllib/images/origin/kittens/DP802813.jpg\n",
            "spark-3.3.0-bin-hadoop3/data/mllib/images/origin/kittens/29.5.a_b_EGDP022204.jpg\n",
            "spark-3.3.0-bin-hadoop3/data/mllib/images/origin/kittens/DP153539.jpg\n",
            "spark-3.3.0-bin-hadoop3/data/mllib/images/origin/license.txt\n",
            "spark-3.3.0-bin-hadoop3/data/mllib/images/origin/multi-channel/\n",
            "spark-3.3.0-bin-hadoop3/data/mllib/images/origin/multi-channel/BGRA.png\n",
            "spark-3.3.0-bin-hadoop3/data/mllib/images/origin/multi-channel/BGRA_alpha_60.png\n",
            "spark-3.3.0-bin-hadoop3/data/mllib/images/origin/multi-channel/grayscale.jpg\n",
            "spark-3.3.0-bin-hadoop3/data/mllib/images/origin/multi-channel/chr30.4.184.jpg\n",
            "spark-3.3.0-bin-hadoop3/data/mllib/images/license.txt\n",
            "spark-3.3.0-bin-hadoop3/data/mllib/ridge-data/\n",
            "spark-3.3.0-bin-hadoop3/data/mllib/ridge-data/lpsa.data\n",
            "spark-3.3.0-bin-hadoop3/data/mllib/kmeans_data.txt\n",
            "spark-3.3.0-bin-hadoop3/data/mllib/streaming_kmeans_data_test.txt\n",
            "spark-3.3.0-bin-hadoop3/data/mllib/pagerank_data.txt\n",
            "spark-3.3.0-bin-hadoop3/data/mllib/gmm_data.txt\n",
            "spark-3.3.0-bin-hadoop3/data/graphx/\n",
            "spark-3.3.0-bin-hadoop3/data/graphx/users.txt\n",
            "spark-3.3.0-bin-hadoop3/data/graphx/followers.txt\n",
            "spark-3.3.0-bin-hadoop3/data/streaming/\n",
            "spark-3.3.0-bin-hadoop3/data/streaming/AFINN-111.txt\n",
            "spark-3.3.0-bin-hadoop3/R/\n",
            "spark-3.3.0-bin-hadoop3/R/lib/\n",
            "spark-3.3.0-bin-hadoop3/R/lib/sparkr.zip\n",
            "spark-3.3.0-bin-hadoop3/R/lib/SparkR/\n",
            "spark-3.3.0-bin-hadoop3/R/lib/SparkR/tests/\n",
            "spark-3.3.0-bin-hadoop3/R/lib/SparkR/tests/testthat/\n",
            "spark-3.3.0-bin-hadoop3/R/lib/SparkR/tests/testthat/test_basic.R\n",
            "spark-3.3.0-bin-hadoop3/R/lib/SparkR/DESCRIPTION\n",
            "spark-3.3.0-bin-hadoop3/R/lib/SparkR/profile/\n",
            "spark-3.3.0-bin-hadoop3/R/lib/SparkR/profile/shell.R\n",
            "spark-3.3.0-bin-hadoop3/R/lib/SparkR/profile/general.R\n",
            "spark-3.3.0-bin-hadoop3/R/lib/SparkR/INDEX\n",
            "spark-3.3.0-bin-hadoop3/R/lib/SparkR/Meta/\n",
            "spark-3.3.0-bin-hadoop3/R/lib/SparkR/Meta/features.rds\n",
            "spark-3.3.0-bin-hadoop3/R/lib/SparkR/Meta/links.rds\n",
            "spark-3.3.0-bin-hadoop3/R/lib/SparkR/Meta/nsInfo.rds\n",
            "spark-3.3.0-bin-hadoop3/R/lib/SparkR/Meta/package.rds\n",
            "spark-3.3.0-bin-hadoop3/R/lib/SparkR/Meta/vignette.rds\n",
            "spark-3.3.0-bin-hadoop3/R/lib/SparkR/Meta/Rd.rds\n",
            "spark-3.3.0-bin-hadoop3/R/lib/SparkR/Meta/hsearch.rds\n",
            "spark-3.3.0-bin-hadoop3/R/lib/SparkR/help/\n",
            "spark-3.3.0-bin-hadoop3/R/lib/SparkR/help/SparkR.rdb\n",
            "spark-3.3.0-bin-hadoop3/R/lib/SparkR/help/aliases.rds\n",
            "spark-3.3.0-bin-hadoop3/R/lib/SparkR/help/SparkR.rdx\n",
            "spark-3.3.0-bin-hadoop3/R/lib/SparkR/help/AnIndex\n",
            "spark-3.3.0-bin-hadoop3/R/lib/SparkR/help/paths.rds\n",
            "spark-3.3.0-bin-hadoop3/R/lib/SparkR/R/\n",
            "spark-3.3.0-bin-hadoop3/R/lib/SparkR/R/SparkR.rdb\n",
            "spark-3.3.0-bin-hadoop3/R/lib/SparkR/R/SparkR.rdx\n",
            "spark-3.3.0-bin-hadoop3/R/lib/SparkR/R/SparkR\n",
            "spark-3.3.0-bin-hadoop3/R/lib/SparkR/NAMESPACE\n",
            "spark-3.3.0-bin-hadoop3/R/lib/SparkR/doc/\n",
            "spark-3.3.0-bin-hadoop3/R/lib/SparkR/doc/sparkr-vignettes.Rmd\n",
            "spark-3.3.0-bin-hadoop3/R/lib/SparkR/doc/index.html\n",
            "spark-3.3.0-bin-hadoop3/R/lib/SparkR/doc/sparkr-vignettes.html\n",
            "spark-3.3.0-bin-hadoop3/R/lib/SparkR/doc/sparkr-vignettes.R\n",
            "spark-3.3.0-bin-hadoop3/R/lib/SparkR/html/\n",
            "spark-3.3.0-bin-hadoop3/R/lib/SparkR/html/00Index.html\n",
            "spark-3.3.0-bin-hadoop3/R/lib/SparkR/html/R.css\n",
            "spark-3.3.0-bin-hadoop3/R/lib/SparkR/worker/\n",
            "spark-3.3.0-bin-hadoop3/R/lib/SparkR/worker/worker.R\n",
            "spark-3.3.0-bin-hadoop3/R/lib/SparkR/worker/daemon.R\n",
            "spark-3.3.0-bin-hadoop3/README.md\n",
            "spark-3.3.0-bin-hadoop3/RELEASE\n",
            "spark-3.3.0-bin-hadoop3/yarn/\n",
            "spark-3.3.0-bin-hadoop3/yarn/spark-3.3.0-yarn-shuffle.jar\n",
            "spark-3.3.0-bin-hadoop3/LICENSE\n",
            "spark-3.3.0-bin-hadoop3/sbin/\n",
            "spark-3.3.0-bin-hadoop3/sbin/start-workers.sh\n",
            "spark-3.3.0-bin-hadoop3/sbin/stop-mesos-shuffle-service.sh\n",
            "spark-3.3.0-bin-hadoop3/sbin/start-master.sh\n",
            "spark-3.3.0-bin-hadoop3/sbin/workers.sh\n",
            "spark-3.3.0-bin-hadoop3/sbin/start-worker.sh\n",
            "spark-3.3.0-bin-hadoop3/sbin/spark-config.sh\n",
            "spark-3.3.0-bin-hadoop3/sbin/start-history-server.sh\n",
            "spark-3.3.0-bin-hadoop3/sbin/start-slaves.sh\n",
            "spark-3.3.0-bin-hadoop3/sbin/spark-daemon.sh\n",
            "spark-3.3.0-bin-hadoop3/sbin/stop-worker.sh\n",
            "spark-3.3.0-bin-hadoop3/sbin/stop-mesos-dispatcher.sh\n",
            "spark-3.3.0-bin-hadoop3/sbin/decommission-worker.sh\n",
            "spark-3.3.0-bin-hadoop3/sbin/start-mesos-shuffle-service.sh\n",
            "spark-3.3.0-bin-hadoop3/sbin/decommission-slave.sh\n",
            "spark-3.3.0-bin-hadoop3/sbin/slaves.sh\n",
            "spark-3.3.0-bin-hadoop3/sbin/stop-history-server.sh\n",
            "spark-3.3.0-bin-hadoop3/sbin/start-thriftserver.sh\n",
            "spark-3.3.0-bin-hadoop3/sbin/stop-thriftserver.sh\n",
            "spark-3.3.0-bin-hadoop3/sbin/start-slave.sh\n",
            "spark-3.3.0-bin-hadoop3/sbin/start-all.sh\n",
            "spark-3.3.0-bin-hadoop3/sbin/stop-slave.sh\n",
            "spark-3.3.0-bin-hadoop3/sbin/spark-daemons.sh\n",
            "spark-3.3.0-bin-hadoop3/sbin/stop-workers.sh\n",
            "spark-3.3.0-bin-hadoop3/sbin/stop-slaves.sh\n",
            "spark-3.3.0-bin-hadoop3/sbin/stop-all.sh\n",
            "spark-3.3.0-bin-hadoop3/sbin/start-mesos-dispatcher.sh\n",
            "spark-3.3.0-bin-hadoop3/sbin/stop-master.sh\n",
            "spark-3.3.0-bin-hadoop3/examples/\n",
            "spark-3.3.0-bin-hadoop3/examples/src/\n",
            "spark-3.3.0-bin-hadoop3/examples/src/main/\n",
            "spark-3.3.0-bin-hadoop3/examples/src/main/r/\n",
            "spark-3.3.0-bin-hadoop3/examples/src/main/r/ml/\n",
            "spark-3.3.0-bin-hadoop3/examples/src/main/r/ml/survreg.R\n",
            "spark-3.3.0-bin-hadoop3/examples/src/main/r/ml/glm.R\n",
            "spark-3.3.0-bin-hadoop3/examples/src/main/r/ml/prefixSpan.R\n",
            "spark-3.3.0-bin-hadoop3/examples/src/main/r/ml/lm_with_elastic_net.R\n",
            "spark-3.3.0-bin-hadoop3/examples/src/main/r/ml/powerIterationClustering.R\n",
            "spark-3.3.0-bin-hadoop3/examples/src/main/r/ml/lda.R\n",
            "spark-3.3.0-bin-hadoop3/examples/src/main/r/ml/kstest.R\n",
            "spark-3.3.0-bin-hadoop3/examples/src/main/r/ml/isoreg.R\n",
            "spark-3.3.0-bin-hadoop3/examples/src/main/r/ml/ml.R\n",
            "spark-3.3.0-bin-hadoop3/examples/src/main/r/ml/naiveBayes.R\n",
            "spark-3.3.0-bin-hadoop3/examples/src/main/r/ml/fmRegressor.R\n",
            "spark-3.3.0-bin-hadoop3/examples/src/main/r/ml/mlp.R\n",
            "spark-3.3.0-bin-hadoop3/examples/src/main/r/ml/als.R\n",
            "spark-3.3.0-bin-hadoop3/examples/src/main/r/ml/kmeans.R\n",
            "spark-3.3.0-bin-hadoop3/examples/src/main/r/ml/svmLinear.R\n",
            "spark-3.3.0-bin-hadoop3/examples/src/main/r/ml/fmClassifier.R\n",
            "spark-3.3.0-bin-hadoop3/examples/src/main/r/ml/logit.R\n",
            "spark-3.3.0-bin-hadoop3/examples/src/main/r/ml/randomForest.R\n",
            "spark-3.3.0-bin-hadoop3/examples/src/main/r/ml/gbt.R\n",
            "spark-3.3.0-bin-hadoop3/examples/src/main/r/ml/decisionTree.R\n",
            "spark-3.3.0-bin-hadoop3/examples/src/main/r/ml/gaussianMixture.R\n",
            "spark-3.3.0-bin-hadoop3/examples/src/main/r/ml/bisectingKmeans.R\n",
            "spark-3.3.0-bin-hadoop3/examples/src/main/r/ml/fpm.R\n",
            "spark-3.3.0-bin-hadoop3/examples/src/main/r/dataframe.R\n",
            "spark-3.3.0-bin-hadoop3/examples/src/main/r/RSparkSQLExample.R\n",
            "spark-3.3.0-bin-hadoop3/examples/src/main/r/data-manipulation.R\n",
            "spark-3.3.0-bin-hadoop3/examples/src/main/r/streaming/\n",
            "spark-3.3.0-bin-hadoop3/examples/src/main/r/streaming/structured_network_wordcount.R\n",
            "spark-3.3.0-bin-hadoop3/examples/src/main/scala/\n",
            "spark-3.3.0-bin-hadoop3/examples/src/main/scala/org/\n",
            "spark-3.3.0-bin-hadoop3/examples/src/main/scala/org/apache/\n",
            "spark-3.3.0-bin-hadoop3/examples/src/main/scala/org/apache/spark/\n",
            "spark-3.3.0-bin-hadoop3/examples/src/main/scala/org/apache/spark/examples/\n",
            "spark-3.3.0-bin-hadoop3/examples/src/main/scala/org/apache/spark/examples/SparkPageRank.scala\n",
            "spark-3.3.0-bin-hadoop3/examples/src/main/scala/org/apache/spark/examples/SkewedGroupByTest.scala\n",
            "spark-3.3.0-bin-hadoop3/examples/src/main/scala/org/apache/spark/examples/AccumulatorMetricsTest.scala\n",
            "spark-3.3.0-bin-hadoop3/examples/src/main/scala/org/apache/spark/examples/HdfsTest.scala\n",
            "spark-3.3.0-bin-hadoop3/examples/src/main/scala/org/apache/spark/examples/ml/\n",
            "spark-3.3.0-bin-hadoop3/examples/src/main/scala/org/apache/spark/examples/ml/Word2VecExample.scala\n",
            "spark-3.3.0-bin-hadoop3/examples/src/main/scala/org/apache/spark/examples/ml/DeveloperApiExample.scala\n",
            "spark-3.3.0-bin-hadoop3/examples/src/main/scala/org/apache/spark/examples/ml/MinHashLSHExample.scala\n",
            "spark-3.3.0-bin-hadoop3/examples/src/main/scala/org/apache/spark/examples/ml/IndexToStringExample.scala\n",
            "spark-3.3.0-bin-hadoop3/examples/src/main/scala/org/apache/spark/examples/ml/BisectingKMeansExample.scala\n",
            "spark-3.3.0-bin-hadoop3/examples/src/main/scala/org/apache/spark/examples/ml/CorrelationExample.scala\n",
            "spark-3.3.0-bin-hadoop3/examples/src/main/scala/org/apache/spark/examples/ml/MulticlassLogisticRegressionWithElasticNetExample.scala\n",
            "spark-3.3.0-bin-hadoop3/examples/src/main/scala/org/apache/spark/examples/ml/VectorSizeHintExample.scala\n",
            "spark-3.3.0-bin-hadoop3/examples/src/main/scala/org/apache/spark/examples/ml/NGramExample.scala\n",
            "spark-3.3.0-bin-hadoop3/examples/src/main/scala/org/apache/spark/examples/ml/BucketedRandomProjectionLSHExample.scala\n",
            "spark-3.3.0-bin-hadoop3/examples/src/main/scala/org/apache/spark/examples/ml/BinarizerExample.scala\n",
            "spark-3.3.0-bin-hadoop3/examples/src/main/scala/org/apache/spark/examples/ml/RandomForestExample.scala\n",
            "spark-3.3.0-bin-hadoop3/examples/src/main/scala/org/apache/spark/examples/ml/StandardScalerExample.scala\n",
            "spark-3.3.0-bin-hadoop3/examples/src/main/scala/org/apache/spark/examples/ml/LogisticRegressionExample.scala\n",
            "spark-3.3.0-bin-hadoop3/examples/src/main/scala/org/apache/spark/examples/ml/FeatureHasherExample.scala\n",
            "spark-3.3.0-bin-hadoop3/examples/src/main/scala/org/apache/spark/examples/ml/OneVsRestExample.scala\n",
            "spark-3.3.0-bin-hadoop3/examples/src/main/scala/org/apache/spark/examples/ml/StopWordsRemoverExample.scala\n",
            "spark-3.3.0-bin-hadoop3/examples/src/main/scala/org/apache/spark/examples/ml/LinearSVCExample.scala\n",
            "spark-3.3.0-bin-hadoop3/examples/src/main/scala/org/apache/spark/examples/ml/GaussianMixtureExample.scala\n",
            "spark-3.3.0-bin-hadoop3/examples/src/main/scala/org/apache/spark/examples/ml/MaxAbsScalerExample.scala\n",
            "spark-3.3.0-bin-hadoop3/examples/src/main/scala/org/apache/spark/examples/ml/VarianceThresholdSelectorExample.scala\n",
            "spark-3.3.0-bin-hadoop3/examples/src/main/scala/org/apache/spark/examples/ml/GBTExample.scala\n",
            "spark-3.3.0-bin-hadoop3/examples/src/main/scala/org/apache/spark/examples/ml/IsotonicRegressionExample.scala\n",
            "spark-3.3.0-bin-hadoop3/examples/src/main/scala/org/apache/spark/examples/ml/ModelSelectionViaCrossValidationExample.scala\n",
            "spark-3.3.0-bin-hadoop3/examples/src/main/scala/org/apache/spark/examples/ml/EstimatorTransformerParamExample.scala\n",
            "spark-3.3.0-bin-hadoop3/examples/src/main/scala/org/apache/spark/examples/ml/DecisionTreeRegressionExample.scala\n",
            "spark-3.3.0-bin-hadoop3/examples/src/main/scala/org/apache/spark/examples/ml/RandomForestRegressorExample.scala\n",
            "spark-3.3.0-bin-hadoop3/examples/src/main/scala/org/apache/spark/examples/ml/PrefixSpanExample.scala\n",
            "spark-3.3.0-bin-hadoop3/examples/src/main/scala/org/apache/spark/examples/ml/KMeansExample.scala\n",
            "spark-3.3.0-bin-hadoop3/examples/src/main/scala/org/apache/spark/examples/ml/ModelSelectionViaTrainValidationSplitExample.scala\n",
            "spark-3.3.0-bin-hadoop3/examples/src/main/scala/org/apache/spark/examples/ml/LogisticRegressionSummaryExample.scala\n",
            "spark-3.3.0-bin-hadoop3/examples/src/main/scala/org/apache/spark/examples/ml/MultilayerPerceptronClassifierExample.scala\n",
            "spark-3.3.0-bin-hadoop3/examples/src/main/scala/org/apache/spark/examples/ml/PCAExample.scala\n",
            "spark-3.3.0-bin-hadoop3/examples/src/main/scala/org/apache/spark/examples/ml/DCTExample.scala\n",
            "spark-3.3.0-bin-hadoop3/examples/src/main/scala/org/apache/spark/examples/ml/FPGrowthExample.scala\n",
            "spark-3.3.0-bin-hadoop3/examples/src/main/scala/org/apache/spark/examples/ml/ElementwiseProductExample.scala\n",
            "spark-3.3.0-bin-hadoop3/examples/src/main/scala/org/apache/spark/examples/ml/GeneralizedLinearRegressionExample.scala\n",
            "spark-3.3.0-bin-hadoop3/examples/src/main/scala/org/apache/spark/examples/ml/UnivariateFeatureSelectorExample.scala\n",
            "spark-3.3.0-bin-hadoop3/examples/src/main/scala/org/apache/spark/examples/ml/CountVectorizerExample.scala\n",
            "spark-3.3.0-bin-hadoop3/examples/src/main/scala/org/apache/spark/examples/ml/MinMaxScalerExample.scala\n",
            "spark-3.3.0-bin-hadoop3/examples/src/main/scala/org/apache/spark/examples/ml/ChiSquareTestExample.scala\n",
            "spark-3.3.0-bin-hadoop3/examples/src/main/scala/org/apache/spark/examples/ml/LogisticRegressionWithElasticNetExample.scala\n",
            "spark-3.3.0-bin-hadoop3/examples/src/main/scala/org/apache/spark/examples/ml/FMRegressorExample.scala\n",
            "spark-3.3.0-bin-hadoop3/examples/src/main/scala/org/apache/spark/examples/ml/VectorSlicerExample.scala\n",
            "spark-3.3.0-bin-hadoop3/examples/src/main/scala/org/apache/spark/examples/ml/LinearRegressionExample.scala\n",
            "spark-3.3.0-bin-hadoop3/examples/src/main/scala/org/apache/spark/examples/ml/StringIndexerExample.scala\n",
            "spark-3.3.0-bin-hadoop3/examples/src/main/scala/org/apache/spark/examples/ml/GradientBoostedTreeRegressorExample.scala\n",
            "spark-3.3.0-bin-hadoop3/examples/src/main/scala/org/apache/spark/examples/ml/ALSExample.scala\n",
            "spark-3.3.0-bin-hadoop3/examples/src/main/scala/org/apache/spark/examples/ml/DecisionTreeClassificationExample.scala\n",
            "spark-3.3.0-bin-hadoop3/examples/src/main/scala/org/apache/spark/examples/ml/PolynomialExpansionExample.scala\n",
            "spark-3.3.0-bin-hadoop3/examples/src/main/scala/org/apache/spark/examples/ml/FMClassifierExample.scala\n",
            "spark-3.3.0-bin-hadoop3/examples/src/main/scala/org/apache/spark/examples/ml/UnaryTransformerExample.scala\n",
            "spark-3.3.0-bin-hadoop3/examples/src/main/scala/org/apache/spark/examples/ml/ImputerExample.scala\n",
            "spark-3.3.0-bin-hadoop3/examples/src/main/scala/org/apache/spark/examples/ml/TokenizerExample.scala\n",
            "spark-3.3.0-bin-hadoop3/examples/src/main/scala/org/apache/spark/examples/ml/DecisionTreeExample.scala\n",
            "spark-3.3.0-bin-hadoop3/examples/src/main/scala/org/apache/spark/examples/ml/GradientBoostedTreeClassifierExample.scala\n",
            "spark-3.3.0-bin-hadoop3/examples/src/main/scala/org/apache/spark/examples/ml/PowerIterationClusteringExample.scala\n",
            "spark-3.3.0-bin-hadoop3/examples/src/main/scala/org/apache/spark/examples/ml/SQLTransformerExample.scala\n",
            "spark-3.3.0-bin-hadoop3/examples/src/main/scala/org/apache/spark/examples/ml/SummarizerExample.scala\n",
            "spark-3.3.0-bin-hadoop3/examples/src/main/scala/org/apache/spark/examples/ml/DataFrameExample.scala\n",
            "spark-3.3.0-bin-hadoop3/examples/src/main/scala/org/apache/spark/examples/ml/BucketizerExample.scala\n",
            "spark-3.3.0-bin-hadoop3/examples/src/main/scala/org/apache/spark/examples/ml/TfIdfExample.scala\n",
            "spark-3.3.0-bin-hadoop3/examples/src/main/scala/org/apache/spark/examples/ml/AFTSurvivalRegressionExample.scala\n",
            "spark-3.3.0-bin-hadoop3/examples/src/main/scala/org/apache/spark/examples/ml/QuantileDiscretizerExample.scala\n",
            "spark-3.3.0-bin-hadoop3/examples/src/main/scala/org/apache/spark/examples/ml/OneHotEncoderExample.scala\n",
            "spark-3.3.0-bin-hadoop3/examples/src/main/scala/org/apache/spark/examples/ml/PipelineExample.scala\n",
            "spark-3.3.0-bin-hadoop3/examples/src/main/scala/org/apache/spark/examples/ml/InteractionExample.scala\n",
            "spark-3.3.0-bin-hadoop3/examples/src/main/scala/org/apache/spark/examples/ml/LDAExample.scala\n",
            "spark-3.3.0-bin-hadoop3/examples/src/main/scala/org/apache/spark/examples/ml/RFormulaExample.scala\n",
            "spark-3.3.0-bin-hadoop3/examples/src/main/scala/org/apache/spark/examples/ml/VectorIndexerExample.scala\n",
            "spark-3.3.0-bin-hadoop3/examples/src/main/scala/org/apache/spark/examples/ml/VectorAssemblerExample.scala\n",
            "spark-3.3.0-bin-hadoop3/examples/src/main/scala/org/apache/spark/examples/ml/NormalizerExample.scala\n",
            "spark-3.3.0-bin-hadoop3/examples/src/main/scala/org/apache/spark/examples/ml/ChiSqSelectorExample.scala\n",
            "spark-3.3.0-bin-hadoop3/examples/src/main/scala/org/apache/spark/examples/ml/NaiveBayesExample.scala\n",
            "spark-3.3.0-bin-hadoop3/examples/src/main/scala/org/apache/spark/examples/ml/RandomForestClassifierExample.scala\n",
            "spark-3.3.0-bin-hadoop3/examples/src/main/scala/org/apache/spark/examples/ml/LinearRegressionWithElasticNetExample.scala\n",
            "spark-3.3.0-bin-hadoop3/examples/src/main/scala/org/apache/spark/examples/ml/RobustScalerExample.scala\n",
            "spark-3.3.0-bin-hadoop3/examples/src/main/scala/org/apache/spark/examples/LogQuery.scala\n",
            "spark-3.3.0-bin-hadoop3/examples/src/main/scala/org/apache/spark/examples/SparkRemoteFileTest.scala\n",
            "spark-3.3.0-bin-hadoop3/examples/src/main/scala/org/apache/spark/examples/ExceptionHandlingTest.scala\n",
            "spark-3.3.0-bin-hadoop3/examples/src/main/scala/org/apache/spark/examples/pythonconverters/\n",
            "spark-3.3.0-bin-hadoop3/examples/src/main/scala/org/apache/spark/examples/pythonconverters/AvroConverters.scala\n",
            "spark-3.3.0-bin-hadoop3/examples/src/main/scala/org/apache/spark/examples/BroadcastTest.scala\n",
            "spark-3.3.0-bin-hadoop3/examples/src/main/scala/org/apache/spark/examples/SparkHdfsLR.scala\n",
            "spark-3.3.0-bin-hadoop3/examples/src/main/scala/org/apache/spark/examples/mllib/\n",
            "spark-3.3.0-bin-hadoop3/examples/src/main/scala/org/apache/spark/examples/mllib/Word2VecExample.scala\n",
            "spark-3.3.0-bin-hadoop3/examples/src/main/scala/org/apache/spark/examples/mllib/GradientBoostedTreesRunner.scala\n",
            "spark-3.3.0-bin-hadoop3/examples/src/main/scala/org/apache/spark/examples/mllib/RandomRDDGeneration.scala\n",
            "spark-3.3.0-bin-hadoop3/examples/src/main/scala/org/apache/spark/examples/mllib/PMMLModelExportExample.scala\n",
            "spark-3.3.0-bin-hadoop3/examples/src/main/scala/org/apache/spark/examples/mllib/BisectingKMeansExample.scala\n",
            "spark-3.3.0-bin-hadoop3/examples/src/main/scala/org/apache/spark/examples/mllib/DecisionTreeRunner.scala\n",
            "spark-3.3.0-bin-hadoop3/examples/src/main/scala/org/apache/spark/examples/mllib/MultiLabelMetricsExample.scala\n",
            "spark-3.3.0-bin-hadoop3/examples/src/main/scala/org/apache/spark/examples/mllib/CorrelationsExample.scala\n",
            "spark-3.3.0-bin-hadoop3/examples/src/main/scala/org/apache/spark/examples/mllib/LBFGSExample.scala\n",
            "spark-3.3.0-bin-hadoop3/examples/src/main/scala/org/apache/spark/examples/mllib/TFIDFExample.scala\n",
            "spark-3.3.0-bin-hadoop3/examples/src/main/scala/org/apache/spark/examples/mllib/StandardScalerExample.scala\n",
            "spark-3.3.0-bin-hadoop3/examples/src/main/scala/org/apache/spark/examples/mllib/LogisticRegressionWithLBFGSExample.scala\n",
            "spark-3.3.0-bin-hadoop3/examples/src/main/scala/org/apache/spark/examples/mllib/StreamingTestExample.scala\n",
            "spark-3.3.0-bin-hadoop3/examples/src/main/scala/org/apache/spark/examples/mllib/BinaryClassification.scala\n",
            "spark-3.3.0-bin-hadoop3/examples/src/main/scala/org/apache/spark/examples/mllib/DenseKMeans.scala\n",
            "spark-3.3.0-bin-hadoop3/examples/src/main/scala/org/apache/spark/examples/mllib/GradientBoostingClassificationExample.scala\n",
            "spark-3.3.0-bin-hadoop3/examples/src/main/scala/org/apache/spark/examples/mllib/RankingMetricsExample.scala\n",
            "spark-3.3.0-bin-hadoop3/examples/src/main/scala/org/apache/spark/examples/mllib/GaussianMixtureExample.scala\n",
            "spark-3.3.0-bin-hadoop3/examples/src/main/scala/org/apache/spark/examples/mllib/MultivariateSummarizer.scala\n",
            "spark-3.3.0-bin-hadoop3/examples/src/main/scala/org/apache/spark/examples/mllib/IsotonicRegressionExample.scala\n",
            "spark-3.3.0-bin-hadoop3/examples/src/main/scala/org/apache/spark/examples/mllib/PCAOnSourceVectorExample.scala\n",
            "spark-3.3.0-bin-hadoop3/examples/src/main/scala/org/apache/spark/examples/mllib/Correlations.scala\n",
            "spark-3.3.0-bin-hadoop3/examples/src/main/scala/org/apache/spark/examples/mllib/HypothesisTestingExample.scala\n",
            "spark-3.3.0-bin-hadoop3/examples/src/main/scala/org/apache/spark/examples/mllib/DecisionTreeRegressionExample.scala\n",
            "spark-3.3.0-bin-hadoop3/examples/src/main/scala/org/apache/spark/examples/mllib/AssociationRulesExample.scala\n",
            "spark-3.3.0-bin-hadoop3/examples/src/main/scala/org/apache/spark/examples/mllib/StreamingLogisticRegression.scala\n",
            "spark-3.3.0-bin-hadoop3/examples/src/main/scala/org/apache/spark/examples/mllib/SVDExample.scala\n",
            "spark-3.3.0-bin-hadoop3/examples/src/main/scala/org/apache/spark/examples/mllib/PrefixSpanExample.scala\n",
            "spark-3.3.0-bin-hadoop3/examples/src/main/scala/org/apache/spark/examples/mllib/KMeansExample.scala\n",
            "spark-3.3.0-bin-hadoop3/examples/src/main/scala/org/apache/spark/examples/mllib/SparseNaiveBayes.scala\n",
            "spark-3.3.0-bin-hadoop3/examples/src/main/scala/org/apache/spark/examples/mllib/AbstractParams.scala\n",
            "spark-3.3.0-bin-hadoop3/examples/src/main/scala/org/apache/spark/examples/mllib/BinaryClassificationMetricsExample.scala\n",
            "spark-3.3.0-bin-hadoop3/examples/src/main/scala/org/apache/spark/examples/mllib/SampledRDDs.scala\n",
            "spark-3.3.0-bin-hadoop3/examples/src/main/scala/org/apache/spark/examples/mllib/FPGrowthExample.scala\n",
            "spark-3.3.0-bin-hadoop3/examples/src/main/scala/org/apache/spark/examples/mllib/ElementwiseProductExample.scala\n",
            "spark-3.3.0-bin-hadoop3/examples/src/main/scala/org/apache/spark/examples/mllib/RecommendationExample.scala\n",
            "spark-3.3.0-bin-hadoop3/examples/src/main/scala/org/apache/spark/examples/mllib/TallSkinnySVD.scala\n",
            "spark-3.3.0-bin-hadoop3/examples/src/main/scala/org/apache/spark/examples/mllib/HypothesisTestingKolmogorovSmirnovTestExample.scala\n",
            "spark-3.3.0-bin-hadoop3/examples/src/main/scala/org/apache/spark/examples/mllib/GradientBoostingRegressionExample.scala\n",
            "spark-3.3.0-bin-hadoop3/examples/src/main/scala/org/apache/spark/examples/mllib/StreamingKMeansExample.scala\n",
            "spark-3.3.0-bin-hadoop3/examples/src/main/scala/org/apache/spark/examples/mllib/CosineSimilarity.scala\n",
            "spark-3.3.0-bin-hadoop3/examples/src/main/scala/org/apache/spark/examples/mllib/RandomForestRegressionExample.scala\n",
            "spark-3.3.0-bin-hadoop3/examples/src/main/scala/org/apache/spark/examples/mllib/StreamingLinearRegressionExample.scala\n",
            "spark-3.3.0-bin-hadoop3/examples/src/main/scala/org/apache/spark/examples/mllib/StratifiedSamplingExample.scala\n",
            "spark-3.3.0-bin-hadoop3/examples/src/main/scala/org/apache/spark/examples/mllib/DecisionTreeClassificationExample.scala\n",
            "spark-3.3.0-bin-hadoop3/examples/src/main/scala/org/apache/spark/examples/mllib/TallSkinnyPCA.scala\n",
            "spark-3.3.0-bin-hadoop3/examples/src/main/scala/org/apache/spark/examples/mllib/RandomForestClassificationExample.scala\n",
            "spark-3.3.0-bin-hadoop3/examples/src/main/scala/org/apache/spark/examples/mllib/SimpleFPGrowth.scala\n",
            "spark-3.3.0-bin-hadoop3/examples/src/main/scala/org/apache/spark/examples/mllib/LatentDirichletAllocationExample.scala\n",
            "spark-3.3.0-bin-hadoop3/examples/src/main/scala/org/apache/spark/examples/mllib/KernelDensityEstimationExample.scala\n",
            "spark-3.3.0-bin-hadoop3/examples/src/main/scala/org/apache/spark/examples/mllib/PowerIterationClusteringExample.scala\n",
            "spark-3.3.0-bin-hadoop3/examples/src/main/scala/org/apache/spark/examples/mllib/SVMWithSGDExample.scala\n",
            "spark-3.3.0-bin-hadoop3/examples/src/main/scala/org/apache/spark/examples/mllib/LDAExample.scala\n",
            "spark-3.3.0-bin-hadoop3/examples/src/main/scala/org/apache/spark/examples/mllib/MovieLensALS.scala\n",
            "spark-3.3.0-bin-hadoop3/examples/src/main/scala/org/apache/spark/examples/mllib/NormalizerExample.scala\n",
            "spark-3.3.0-bin-hadoop3/examples/src/main/scala/org/apache/spark/examples/mllib/MulticlassMetricsExample.scala\n",
            "spark-3.3.0-bin-hadoop3/examples/src/main/scala/org/apache/spark/examples/mllib/ChiSqSelectorExample.scala\n",
            "spark-3.3.0-bin-hadoop3/examples/src/main/scala/org/apache/spark/examples/mllib/SummaryStatisticsExample.scala\n",
            "spark-3.3.0-bin-hadoop3/examples/src/main/scala/org/apache/spark/examples/mllib/PCAOnRowMatrixExample.scala\n",
            "spark-3.3.0-bin-hadoop3/examples/src/main/scala/org/apache/spark/examples/mllib/NaiveBayesExample.scala\n",
            "spark-3.3.0-bin-hadoop3/examples/src/main/scala/org/apache/spark/examples/SparkTC.scala\n",
            "spark-3.3.0-bin-hadoop3/examples/src/main/scala/org/apache/spark/examples/DriverSubmissionTest.scala\n",
            "spark-3.3.0-bin-hadoop3/examples/src/main/scala/org/apache/spark/examples/MultiBroadcastTest.scala\n",
            "spark-3.3.0-bin-hadoop3/examples/src/main/scala/org/apache/spark/examples/SparkLR.scala\n",
            "spark-3.3.0-bin-hadoop3/examples/src/main/scala/org/apache/spark/examples/SparkPi.scala\n",
            "spark-3.3.0-bin-hadoop3/examples/src/main/scala/org/apache/spark/examples/graphx/\n",
            "spark-3.3.0-bin-hadoop3/examples/src/main/scala/org/apache/spark/examples/graphx/ConnectedComponentsExample.scala\n",
            "spark-3.3.0-bin-hadoop3/examples/src/main/scala/org/apache/spark/examples/graphx/LiveJournalPageRank.scala\n",
            "spark-3.3.0-bin-hadoop3/examples/src/main/scala/org/apache/spark/examples/graphx/AggregateMessagesExample.scala\n",
            "spark-3.3.0-bin-hadoop3/examples/src/main/scala/org/apache/spark/examples/graphx/SSSPExample.scala\n",
            "spark-3.3.0-bin-hadoop3/examples/src/main/scala/org/apache/spark/examples/graphx/SynthBenchmark.scala\n",
            "spark-3.3.0-bin-hadoop3/examples/src/main/scala/org/apache/spark/examples/graphx/TriangleCountingExample.scala\n",
            "spark-3.3.0-bin-hadoop3/examples/src/main/scala/org/apache/spark/examples/graphx/PageRankExample.scala\n",
            "spark-3.3.0-bin-hadoop3/examples/src/main/scala/org/apache/spark/examples/graphx/ComprehensiveExample.scala\n",
            "spark-3.3.0-bin-hadoop3/examples/src/main/scala/org/apache/spark/examples/graphx/Analytics.scala\n",
            "spark-3.3.0-bin-hadoop3/examples/src/main/scala/org/apache/spark/examples/SparkKMeans.scala\n",
            "spark-3.3.0-bin-hadoop3/examples/src/main/scala/org/apache/spark/examples/streaming/\n",
            "spark-3.3.0-bin-hadoop3/examples/src/main/scala/org/apache/spark/examples/streaming/clickstream/\n",
            "spark-3.3.0-bin-hadoop3/examples/src/main/scala/org/apache/spark/examples/streaming/clickstream/PageViewGenerator.scala\n",
            "spark-3.3.0-bin-hadoop3/examples/src/main/scala/org/apache/spark/examples/streaming/clickstream/PageViewStream.scala\n",
            "spark-3.3.0-bin-hadoop3/examples/src/main/scala/org/apache/spark/examples/streaming/DirectKafkaWordCount.scala\n",
            "spark-3.3.0-bin-hadoop3/examples/src/main/scala/org/apache/spark/examples/streaming/HdfsWordCount.scala\n",
            "spark-3.3.0-bin-hadoop3/examples/src/main/scala/org/apache/spark/examples/streaming/DirectKerberizedKafkaWordCount.scala\n",
            "spark-3.3.0-bin-hadoop3/examples/src/main/scala/org/apache/spark/examples/streaming/RecoverableNetworkWordCount.scala\n",
            "spark-3.3.0-bin-hadoop3/examples/src/main/scala/org/apache/spark/examples/streaming/NetworkWordCount.scala\n",
            "spark-3.3.0-bin-hadoop3/examples/src/main/scala/org/apache/spark/examples/streaming/QueueStream.scala\n",
            "spark-3.3.0-bin-hadoop3/examples/src/main/scala/org/apache/spark/examples/streaming/SqlNetworkWordCount.scala\n",
            "spark-3.3.0-bin-hadoop3/examples/src/main/scala/org/apache/spark/examples/streaming/CustomReceiver.scala\n",
            "spark-3.3.0-bin-hadoop3/examples/src/main/scala/org/apache/spark/examples/streaming/RawNetworkGrep.scala\n",
            "spark-3.3.0-bin-hadoop3/examples/src/main/scala/org/apache/spark/examples/streaming/StatefulNetworkWordCount.scala\n",
            "spark-3.3.0-bin-hadoop3/examples/src/main/scala/org/apache/spark/examples/streaming/StreamingExamples.scala\n",
            "spark-3.3.0-bin-hadoop3/examples/src/main/scala/org/apache/spark/examples/LocalLR.scala\n",
            "spark-3.3.0-bin-hadoop3/examples/src/main/scala/org/apache/spark/examples/LocalKMeans.scala\n",
            "spark-3.3.0-bin-hadoop3/examples/src/main/scala/org/apache/spark/examples/GroupByTest.scala\n",
            "spark-3.3.0-bin-hadoop3/examples/src/main/scala/org/apache/spark/examples/LocalALS.scala\n",
            "spark-3.3.0-bin-hadoop3/examples/src/main/scala/org/apache/spark/examples/sql/\n",
            "spark-3.3.0-bin-hadoop3/examples/src/main/scala/org/apache/spark/examples/sql/SimpleTypedAggregator.scala\n",
            "spark-3.3.0-bin-hadoop3/examples/src/main/scala/org/apache/spark/examples/sql/UserDefinedUntypedAggregation.scala\n",
            "spark-3.3.0-bin-hadoop3/examples/src/main/scala/org/apache/spark/examples/sql/hive/\n",
            "spark-3.3.0-bin-hadoop3/examples/src/main/scala/org/apache/spark/examples/sql/hive/SparkHiveExample.scala\n",
            "spark-3.3.0-bin-hadoop3/examples/src/main/scala/org/apache/spark/examples/sql/RDDRelation.scala\n",
            "spark-3.3.0-bin-hadoop3/examples/src/main/scala/org/apache/spark/examples/sql/SparkSQLExample.scala\n",
            "spark-3.3.0-bin-hadoop3/examples/src/main/scala/org/apache/spark/examples/sql/SQLDataSourceExample.scala\n",
            "spark-3.3.0-bin-hadoop3/examples/src/main/scala/org/apache/spark/examples/sql/streaming/\n",
            "spark-3.3.0-bin-hadoop3/examples/src/main/scala/org/apache/spark/examples/sql/streaming/StructuredKerberizedKafkaWordCount.scala\n",
            "spark-3.3.0-bin-hadoop3/examples/src/main/scala/org/apache/spark/examples/sql/streaming/StructuredComplexSessionization.scala\n",
            "spark-3.3.0-bin-hadoop3/examples/src/main/scala/org/apache/spark/examples/sql/streaming/StructuredNetworkWordCount.scala\n",
            "spark-3.3.0-bin-hadoop3/examples/src/main/scala/org/apache/spark/examples/sql/streaming/StructuredNetworkWordCountWindowed.scala\n",
            "spark-3.3.0-bin-hadoop3/examples/src/main/scala/org/apache/spark/examples/sql/streaming/StructuredKafkaWordCount.scala\n",
            "spark-3.3.0-bin-hadoop3/examples/src/main/scala/org/apache/spark/examples/sql/streaming/StructuredSessionization.scala\n",
            "spark-3.3.0-bin-hadoop3/examples/src/main/scala/org/apache/spark/examples/sql/UserDefinedTypedAggregation.scala\n",
            "spark-3.3.0-bin-hadoop3/examples/src/main/scala/org/apache/spark/examples/sql/UserDefinedScalar.scala\n",
            "spark-3.3.0-bin-hadoop3/examples/src/main/scala/org/apache/spark/examples/sql/jdbc/\n",
            "spark-3.3.0-bin-hadoop3/examples/src/main/scala/org/apache/spark/examples/sql/jdbc/ExampleJdbcConnectionProvider.scala\n",
            "spark-3.3.0-bin-hadoop3/examples/src/main/scala/org/apache/spark/examples/SimpleSkewedGroupByTest.scala\n",
            "spark-3.3.0-bin-hadoop3/examples/src/main/scala/org/apache/spark/examples/extensions/\n",
            "spark-3.3.0-bin-hadoop3/examples/src/main/scala/org/apache/spark/examples/extensions/SparkSessionExtensionsTest.scala\n",
            "spark-3.3.0-bin-hadoop3/examples/src/main/scala/org/apache/spark/examples/extensions/SessionExtensionsWithoutLoader.scala\n",
            "spark-3.3.0-bin-hadoop3/examples/src/main/scala/org/apache/spark/examples/extensions/SessionExtensionsWithLoader.scala\n",
            "spark-3.3.0-bin-hadoop3/examples/src/main/scala/org/apache/spark/examples/extensions/AgeExample.scala\n",
            "spark-3.3.0-bin-hadoop3/examples/src/main/scala/org/apache/spark/examples/LocalFileLR.scala\n",
            "spark-3.3.0-bin-hadoop3/examples/src/main/scala/org/apache/spark/examples/MiniReadWriteTest.scala\n",
            "spark-3.3.0-bin-hadoop3/examples/src/main/scala/org/apache/spark/examples/LocalPi.scala\n",
            "spark-3.3.0-bin-hadoop3/examples/src/main/scala/org/apache/spark/examples/DFSReadWriteTest.scala\n",
            "spark-3.3.0-bin-hadoop3/examples/src/main/scala/org/apache/spark/examples/SparkALS.scala\n",
            "spark-3.3.0-bin-hadoop3/examples/src/main/resources/\n",
            "spark-3.3.0-bin-hadoop3/examples/src/main/resources/people.json\n",
            "spark-3.3.0-bin-hadoop3/examples/src/main/resources/users.avro\n",
            "spark-3.3.0-bin-hadoop3/examples/src/main/resources/people.csv\n",
            "spark-3.3.0-bin-hadoop3/examples/src/main/resources/users.parquet\n",
            "spark-3.3.0-bin-hadoop3/examples/src/main/resources/META-INF/\n",
            "spark-3.3.0-bin-hadoop3/examples/src/main/resources/META-INF/services/\n",
            "spark-3.3.0-bin-hadoop3/examples/src/main/resources/META-INF/services/org.apache.spark.sql.SparkSessionExtensionsProvider\n",
            "spark-3.3.0-bin-hadoop3/examples/src/main/resources/META-INF/services/org.apache.spark.sql.jdbc.JdbcConnectionProvider\n",
            "spark-3.3.0-bin-hadoop3/examples/src/main/resources/users.orc\n",
            "spark-3.3.0-bin-hadoop3/examples/src/main/resources/dir1/\n",
            "spark-3.3.0-bin-hadoop3/examples/src/main/resources/dir1/file1.parquet\n",
            "spark-3.3.0-bin-hadoop3/examples/src/main/resources/dir1/dir2/\n",
            "spark-3.3.0-bin-hadoop3/examples/src/main/resources/dir1/dir2/file2.parquet\n",
            "spark-3.3.0-bin-hadoop3/examples/src/main/resources/dir1/file3.json\n",
            "spark-3.3.0-bin-hadoop3/examples/src/main/resources/user.avsc\n",
            "spark-3.3.0-bin-hadoop3/examples/src/main/resources/full_user.avsc\n",
            "spark-3.3.0-bin-hadoop3/examples/src/main/resources/kv1.txt\n",
            "spark-3.3.0-bin-hadoop3/examples/src/main/resources/people.txt\n",
            "spark-3.3.0-bin-hadoop3/examples/src/main/resources/employees.json\n",
            "spark-3.3.0-bin-hadoop3/examples/src/main/java/\n",
            "spark-3.3.0-bin-hadoop3/examples/src/main/java/org/\n",
            "spark-3.3.0-bin-hadoop3/examples/src/main/java/org/apache/\n",
            "spark-3.3.0-bin-hadoop3/examples/src/main/java/org/apache/spark/\n",
            "spark-3.3.0-bin-hadoop3/examples/src/main/java/org/apache/spark/examples/\n",
            "spark-3.3.0-bin-hadoop3/examples/src/main/java/org/apache/spark/examples/ml/\n",
            "spark-3.3.0-bin-hadoop3/examples/src/main/java/org/apache/spark/examples/ml/JavaStringIndexerExample.java\n",
            "spark-3.3.0-bin-hadoop3/examples/src/main/java/org/apache/spark/examples/ml/JavaChiSqSelectorExample.java\n",
            "spark-3.3.0-bin-hadoop3/examples/src/main/java/org/apache/spark/examples/ml/JavaLabeledDocument.java\n",
            "spark-3.3.0-bin-hadoop3/examples/src/main/java/org/apache/spark/examples/ml/JavaLogisticRegressionWithElasticNetExample.java\n",
            "spark-3.3.0-bin-hadoop3/examples/src/main/java/org/apache/spark/examples/ml/JavaPolynomialExpansionExample.java\n",
            "spark-3.3.0-bin-hadoop3/examples/src/main/java/org/apache/spark/examples/ml/JavaTfIdfExample.java\n",
            "spark-3.3.0-bin-hadoop3/examples/src/main/java/org/apache/spark/examples/ml/JavaBucketizerExample.java\n",
            "spark-3.3.0-bin-hadoop3/examples/src/main/java/org/apache/spark/examples/ml/JavaLogisticRegressionSummaryExample.java\n",
            "spark-3.3.0-bin-hadoop3/examples/src/main/java/org/apache/spark/examples/ml/JavaSummarizerExample.java\n",
            "spark-3.3.0-bin-hadoop3/examples/src/main/java/org/apache/spark/examples/ml/JavaQuantileDiscretizerExample.java\n",
            "spark-3.3.0-bin-hadoop3/examples/src/main/java/org/apache/spark/examples/ml/JavaBinarizerExample.java\n",
            "spark-3.3.0-bin-hadoop3/examples/src/main/java/org/apache/spark/examples/ml/JavaOneHotEncoderExample.java\n",
            "spark-3.3.0-bin-hadoop3/examples/src/main/java/org/apache/spark/examples/ml/JavaStandardScalerExample.java\n",
            "spark-3.3.0-bin-hadoop3/examples/src/main/java/org/apache/spark/examples/ml/JavaDCTExample.java\n",
            "spark-3.3.0-bin-hadoop3/examples/src/main/java/org/apache/spark/examples/ml/JavaDecisionTreeRegressionExample.java\n",
            "spark-3.3.0-bin-hadoop3/examples/src/main/java/org/apache/spark/examples/ml/JavaRandomForestClassifierExample.java\n",
            "spark-3.3.0-bin-hadoop3/examples/src/main/java/org/apache/spark/examples/ml/JavaOneVsRestExample.java\n",
            "spark-3.3.0-bin-hadoop3/examples/src/main/java/org/apache/spark/examples/ml/JavaGeneralizedLinearRegressionExample.java\n",
            "spark-3.3.0-bin-hadoop3/examples/src/main/java/org/apache/spark/examples/ml/JavaGaussianMixtureExample.java\n",
            "spark-3.3.0-bin-hadoop3/examples/src/main/java/org/apache/spark/examples/ml/JavaWord2VecExample.java\n",
            "spark-3.3.0-bin-hadoop3/examples/src/main/java/org/apache/spark/examples/ml/JavaNormalizerExample.java\n",
            "spark-3.3.0-bin-hadoop3/examples/src/main/java/org/apache/spark/examples/ml/JavaLDAExample.java\n",
            "spark-3.3.0-bin-hadoop3/examples/src/main/java/org/apache/spark/examples/ml/JavaCountVectorizerExample.java\n",
            "spark-3.3.0-bin-hadoop3/examples/src/main/java/org/apache/spark/examples/ml/JavaMultilayerPerceptronClassifierExample.java\n",
            "spark-3.3.0-bin-hadoop3/examples/src/main/java/org/apache/spark/examples/ml/JavaMinMaxScalerExample.java\n",
            "spark-3.3.0-bin-hadoop3/examples/src/main/java/org/apache/spark/examples/ml/JavaCorrelationExample.java\n",
            "spark-3.3.0-bin-hadoop3/examples/src/main/java/org/apache/spark/examples/ml/JavaNGramExample.java\n",
            "spark-3.3.0-bin-hadoop3/examples/src/main/java/org/apache/spark/examples/ml/JavaImputerExample.java\n",
            "spark-3.3.0-bin-hadoop3/examples/src/main/java/org/apache/spark/examples/ml/JavaMinHashLSHExample.java\n",
            "spark-3.3.0-bin-hadoop3/examples/src/main/java/org/apache/spark/examples/ml/JavaVectorSizeHintExample.java\n",
            "spark-3.3.0-bin-hadoop3/examples/src/main/java/org/apache/spark/examples/ml/JavaFMClassifierExample.java\n",
            "spark-3.3.0-bin-hadoop3/examples/src/main/java/org/apache/spark/examples/ml/JavaFeatureHasherExample.java\n",
            "spark-3.3.0-bin-hadoop3/examples/src/main/java/org/apache/spark/examples/ml/JavaModelSelectionViaTrainValidationSplitExample.java\n",
            "spark-3.3.0-bin-hadoop3/examples/src/main/java/org/apache/spark/examples/ml/JavaSQLTransformerExample.java\n",
            "spark-3.3.0-bin-hadoop3/examples/src/main/java/org/apache/spark/examples/ml/JavaKMeansExample.java\n",
            "spark-3.3.0-bin-hadoop3/examples/src/main/java/org/apache/spark/examples/ml/JavaVectorAssemblerExample.java\n",
            "spark-3.3.0-bin-hadoop3/examples/src/main/java/org/apache/spark/examples/ml/JavaGradientBoostedTreeRegressorExample.java\n",
            "spark-3.3.0-bin-hadoop3/examples/src/main/java/org/apache/spark/examples/ml/JavaPrefixSpanExample.java\n",
            "spark-3.3.0-bin-hadoop3/examples/src/main/java/org/apache/spark/examples/ml/JavaFMRegressorExample.java\n",
            "spark-3.3.0-bin-hadoop3/examples/src/main/java/org/apache/spark/examples/ml/JavaNaiveBayesExample.java\n",
            "spark-3.3.0-bin-hadoop3/examples/src/main/java/org/apache/spark/examples/ml/JavaMulticlassLogisticRegressionWithElasticNetExample.java\n",
            "spark-3.3.0-bin-hadoop3/examples/src/main/java/org/apache/spark/examples/ml/JavaModelSelectionViaCrossValidationExample.java\n",
            "spark-3.3.0-bin-hadoop3/examples/src/main/java/org/apache/spark/examples/ml/JavaDocument.java\n",
            "spark-3.3.0-bin-hadoop3/examples/src/main/java/org/apache/spark/examples/ml/JavaUnivariateFeatureSelectorExample.java\n",
            "spark-3.3.0-bin-hadoop3/examples/src/main/java/org/apache/spark/examples/ml/JavaGradientBoostedTreeClassifierExample.java\n",
            "spark-3.3.0-bin-hadoop3/examples/src/main/java/org/apache/spark/examples/ml/JavaRandomForestRegressorExample.java\n",
            "spark-3.3.0-bin-hadoop3/examples/src/main/java/org/apache/spark/examples/ml/JavaAFTSurvivalRegressionExample.java\n",
            "spark-3.3.0-bin-hadoop3/examples/src/main/java/org/apache/spark/examples/ml/JavaIsotonicRegressionExample.java\n",
            "spark-3.3.0-bin-hadoop3/examples/src/main/java/org/apache/spark/examples/ml/JavaElementwiseProductExample.java\n",
            "spark-3.3.0-bin-hadoop3/examples/src/main/java/org/apache/spark/examples/ml/JavaALSExample.java\n",
            "spark-3.3.0-bin-hadoop3/examples/src/main/java/org/apache/spark/examples/ml/JavaBucketedRandomProjectionLSHExample.java\n",
            "spark-3.3.0-bin-hadoop3/examples/src/main/java/org/apache/spark/examples/ml/JavaVarianceThresholdSelectorExample.java\n",
            "spark-3.3.0-bin-hadoop3/examples/src/main/java/org/apache/spark/examples/ml/JavaVectorSlicerExample.java\n",
            "spark-3.3.0-bin-hadoop3/examples/src/main/java/org/apache/spark/examples/ml/JavaTokenizerExample.java\n",
            "spark-3.3.0-bin-hadoop3/examples/src/main/java/org/apache/spark/examples/ml/JavaRFormulaExample.java\n",
            "spark-3.3.0-bin-hadoop3/examples/src/main/java/org/apache/spark/examples/ml/JavaEstimatorTransformerParamExample.java\n",
            "spark-3.3.0-bin-hadoop3/examples/src/main/java/org/apache/spark/examples/ml/JavaPowerIterationClusteringExample.java\n",
            "spark-3.3.0-bin-hadoop3/examples/src/main/java/org/apache/spark/examples/ml/JavaBisectingKMeansExample.java\n",
            "spark-3.3.0-bin-hadoop3/examples/src/main/java/org/apache/spark/examples/ml/JavaMaxAbsScalerExample.java\n",
            "spark-3.3.0-bin-hadoop3/examples/src/main/java/org/apache/spark/examples/ml/JavaDecisionTreeClassificationExample.java\n",
            "spark-3.3.0-bin-hadoop3/examples/src/main/java/org/apache/spark/examples/ml/JavaPCAExample.java\n",
            "spark-3.3.0-bin-hadoop3/examples/src/main/java/org/apache/spark/examples/ml/JavaPipelineExample.java\n",
            "spark-3.3.0-bin-hadoop3/examples/src/main/java/org/apache/spark/examples/ml/JavaStopWordsRemoverExample.java\n",
            "spark-3.3.0-bin-hadoop3/examples/src/main/java/org/apache/spark/examples/ml/JavaIndexToStringExample.java\n",
            "spark-3.3.0-bin-hadoop3/examples/src/main/java/org/apache/spark/examples/ml/JavaFPGrowthExample.java\n",
            "spark-3.3.0-bin-hadoop3/examples/src/main/java/org/apache/spark/examples/ml/JavaVectorIndexerExample.java\n",
            "spark-3.3.0-bin-hadoop3/examples/src/main/java/org/apache/spark/examples/ml/JavaInteractionExample.java\n",
            "spark-3.3.0-bin-hadoop3/examples/src/main/java/org/apache/spark/examples/ml/JavaChiSquareTestExample.java\n",
            "spark-3.3.0-bin-hadoop3/examples/src/main/java/org/apache/spark/examples/ml/JavaRobustScalerExample.java\n",
            "spark-3.3.0-bin-hadoop3/examples/src/main/java/org/apache/spark/examples/ml/JavaLinearRegressionWithElasticNetExample.java\n",
            "spark-3.3.0-bin-hadoop3/examples/src/main/java/org/apache/spark/examples/ml/JavaLinearSVCExample.java\n",
            "spark-3.3.0-bin-hadoop3/examples/src/main/java/org/apache/spark/examples/JavaWordCount.java\n",
            "spark-3.3.0-bin-hadoop3/examples/src/main/java/org/apache/spark/examples/JavaHdfsLR.java\n",
            "spark-3.3.0-bin-hadoop3/examples/src/main/java/org/apache/spark/examples/JavaStatusTrackerDemo.java\n",
            "spark-3.3.0-bin-hadoop3/examples/src/main/java/org/apache/spark/examples/mllib/\n",
            "spark-3.3.0-bin-hadoop3/examples/src/main/java/org/apache/spark/examples/mllib/JavaChiSqSelectorExample.java\n",
            "spark-3.3.0-bin-hadoop3/examples/src/main/java/org/apache/spark/examples/mllib/JavaHypothesisTestingKolmogorovSmirnovTestExample.java\n",
            "spark-3.3.0-bin-hadoop3/examples/src/main/java/org/apache/spark/examples/mllib/JavaRandomForestRegressionExample.java\n",
            "spark-3.3.0-bin-hadoop3/examples/src/main/java/org/apache/spark/examples/mllib/JavaSimpleFPGrowth.java\n",
            "spark-3.3.0-bin-hadoop3/examples/src/main/java/org/apache/spark/examples/mllib/JavaRandomForestClassificationExample.java\n",
            "spark-3.3.0-bin-hadoop3/examples/src/main/java/org/apache/spark/examples/mllib/JavaMulticlassClassificationMetricsExample.java\n",
            "spark-3.3.0-bin-hadoop3/examples/src/main/java/org/apache/spark/examples/mllib/JavaKernelDensityEstimationExample.java\n",
            "spark-3.3.0-bin-hadoop3/examples/src/main/java/org/apache/spark/examples/mllib/JavaSummaryStatisticsExample.java\n",
            "spark-3.3.0-bin-hadoop3/examples/src/main/java/org/apache/spark/examples/mllib/JavaDecisionTreeRegressionExample.java\n",
            "spark-3.3.0-bin-hadoop3/examples/src/main/java/org/apache/spark/examples/mllib/JavaGradientBoostingClassificationExample.java\n",
            "spark-3.3.0-bin-hadoop3/examples/src/main/java/org/apache/spark/examples/mllib/JavaGaussianMixtureExample.java\n",
            "spark-3.3.0-bin-hadoop3/examples/src/main/java/org/apache/spark/examples/mllib/JavaStratifiedSamplingExample.java\n",
            "spark-3.3.0-bin-hadoop3/examples/src/main/java/org/apache/spark/examples/mllib/JavaSVDExample.java\n",
            "spark-3.3.0-bin-hadoop3/examples/src/main/java/org/apache/spark/examples/mllib/JavaAssociationRulesExample.java\n",
            "spark-3.3.0-bin-hadoop3/examples/src/main/java/org/apache/spark/examples/mllib/JavaALS.java\n",
            "spark-3.3.0-bin-hadoop3/examples/src/main/java/org/apache/spark/examples/mllib/JavaKMeansExample.java\n",
            "spark-3.3.0-bin-hadoop3/examples/src/main/java/org/apache/spark/examples/mllib/JavaSVMWithSGDExample.java\n",
            "spark-3.3.0-bin-hadoop3/examples/src/main/java/org/apache/spark/examples/mllib/JavaPrefixSpanExample.java\n",
            "spark-3.3.0-bin-hadoop3/examples/src/main/java/org/apache/spark/examples/mllib/JavaNaiveBayesExample.java\n",
            "spark-3.3.0-bin-hadoop3/examples/src/main/java/org/apache/spark/examples/mllib/JavaLogisticRegressionWithLBFGSExample.java\n",
            "spark-3.3.0-bin-hadoop3/examples/src/main/java/org/apache/spark/examples/mllib/JavaLBFGSExample.java\n",
            "spark-3.3.0-bin-hadoop3/examples/src/main/java/org/apache/spark/examples/mllib/JavaGradientBoostingRegressionExample.java\n",
            "spark-3.3.0-bin-hadoop3/examples/src/main/java/org/apache/spark/examples/mllib/JavaRankingMetricsExample.java\n",
            "spark-3.3.0-bin-hadoop3/examples/src/main/java/org/apache/spark/examples/mllib/JavaIsotonicRegressionExample.java\n",
            "spark-3.3.0-bin-hadoop3/examples/src/main/java/org/apache/spark/examples/mllib/JavaElementwiseProductExample.java\n",
            "spark-3.3.0-bin-hadoop3/examples/src/main/java/org/apache/spark/examples/mllib/JavaCorrelationsExample.java\n",
            "spark-3.3.0-bin-hadoop3/examples/src/main/java/org/apache/spark/examples/mllib/JavaPowerIterationClusteringExample.java\n",
            "spark-3.3.0-bin-hadoop3/examples/src/main/java/org/apache/spark/examples/mllib/JavaBisectingKMeansExample.java\n",
            "spark-3.3.0-bin-hadoop3/examples/src/main/java/org/apache/spark/examples/mllib/JavaDecisionTreeClassificationExample.java\n",
            "spark-3.3.0-bin-hadoop3/examples/src/main/java/org/apache/spark/examples/mllib/JavaPCAExample.java\n",
            "spark-3.3.0-bin-hadoop3/examples/src/main/java/org/apache/spark/examples/mllib/JavaRecommendationExample.java\n",
            "spark-3.3.0-bin-hadoop3/examples/src/main/java/org/apache/spark/examples/mllib/JavaLatentDirichletAllocationExample.java\n",
            "spark-3.3.0-bin-hadoop3/examples/src/main/java/org/apache/spark/examples/mllib/JavaHypothesisTestingExample.java\n",
            "spark-3.3.0-bin-hadoop3/examples/src/main/java/org/apache/spark/examples/mllib/JavaMultiLabelClassificationMetricsExample.java\n",
            "spark-3.3.0-bin-hadoop3/examples/src/main/java/org/apache/spark/examples/mllib/JavaBinaryClassificationMetricsExample.java\n",
            "spark-3.3.0-bin-hadoop3/examples/src/main/java/org/apache/spark/examples/mllib/JavaStreamingTestExample.java\n",
            "spark-3.3.0-bin-hadoop3/examples/src/main/java/org/apache/spark/examples/JavaPageRank.java\n",
            "spark-3.3.0-bin-hadoop3/examples/src/main/java/org/apache/spark/examples/JavaLogQuery.java\n",
            "spark-3.3.0-bin-hadoop3/examples/src/main/java/org/apache/spark/examples/streaming/\n",
            "spark-3.3.0-bin-hadoop3/examples/src/main/java/org/apache/spark/examples/streaming/JavaStatefulNetworkWordCount.java\n",
            "spark-3.3.0-bin-hadoop3/examples/src/main/java/org/apache/spark/examples/streaming/JavaCustomReceiver.java\n",
            "spark-3.3.0-bin-hadoop3/examples/src/main/java/org/apache/spark/examples/streaming/JavaRecord.java\n",
            "spark-3.3.0-bin-hadoop3/examples/src/main/java/org/apache/spark/examples/streaming/JavaNetworkWordCount.java\n",
            "spark-3.3.0-bin-hadoop3/examples/src/main/java/org/apache/spark/examples/streaming/JavaDirectKerberizedKafkaWordCount.java\n",
            "spark-3.3.0-bin-hadoop3/examples/src/main/java/org/apache/spark/examples/streaming/JavaDirectKafkaWordCount.java\n",
            "spark-3.3.0-bin-hadoop3/examples/src/main/java/org/apache/spark/examples/streaming/JavaSqlNetworkWordCount.java\n",
            "spark-3.3.0-bin-hadoop3/examples/src/main/java/org/apache/spark/examples/streaming/JavaRecoverableNetworkWordCount.java\n",
            "spark-3.3.0-bin-hadoop3/examples/src/main/java/org/apache/spark/examples/streaming/JavaQueueStream.java\n",
            "spark-3.3.0-bin-hadoop3/examples/src/main/java/org/apache/spark/examples/JavaSparkPi.java\n",
            "spark-3.3.0-bin-hadoop3/examples/src/main/java/org/apache/spark/examples/sql/\n",
            "spark-3.3.0-bin-hadoop3/examples/src/main/java/org/apache/spark/examples/sql/JavaUserDefinedScalar.java\n",
            "spark-3.3.0-bin-hadoop3/examples/src/main/java/org/apache/spark/examples/sql/hive/\n",
            "spark-3.3.0-bin-hadoop3/examples/src/main/java/org/apache/spark/examples/sql/hive/JavaSparkHiveExample.java\n",
            "spark-3.3.0-bin-hadoop3/examples/src/main/java/org/apache/spark/examples/sql/JavaUserDefinedTypedAggregation.java\n",
            "spark-3.3.0-bin-hadoop3/examples/src/main/java/org/apache/spark/examples/sql/JavaSQLDataSourceExample.java\n",
            "spark-3.3.0-bin-hadoop3/examples/src/main/java/org/apache/spark/examples/sql/JavaSparkSQLExample.java\n",
            "spark-3.3.0-bin-hadoop3/examples/src/main/java/org/apache/spark/examples/sql/JavaUserDefinedUntypedAggregation.java\n",
            "spark-3.3.0-bin-hadoop3/examples/src/main/java/org/apache/spark/examples/sql/streaming/\n",
            "spark-3.3.0-bin-hadoop3/examples/src/main/java/org/apache/spark/examples/sql/streaming/JavaStructuredKafkaWordCount.java\n",
            "spark-3.3.0-bin-hadoop3/examples/src/main/java/org/apache/spark/examples/sql/streaming/JavaStructuredComplexSessionization.java\n",
            "spark-3.3.0-bin-hadoop3/examples/src/main/java/org/apache/spark/examples/sql/streaming/JavaStructuredNetworkWordCountWindowed.java\n",
            "spark-3.3.0-bin-hadoop3/examples/src/main/java/org/apache/spark/examples/sql/streaming/JavaStructuredSessionization.java\n",
            "spark-3.3.0-bin-hadoop3/examples/src/main/java/org/apache/spark/examples/sql/streaming/JavaStructuredNetworkWordCount.java\n",
            "spark-3.3.0-bin-hadoop3/examples/src/main/java/org/apache/spark/examples/sql/streaming/JavaStructuredKerberizedKafkaWordCount.java\n",
            "spark-3.3.0-bin-hadoop3/examples/src/main/java/org/apache/spark/examples/JavaTC.java\n",
            "spark-3.3.0-bin-hadoop3/examples/src/main/scripts/\n",
            "spark-3.3.0-bin-hadoop3/examples/src/main/scripts/getGpusResources.sh\n",
            "spark-3.3.0-bin-hadoop3/examples/src/main/python/\n",
            "spark-3.3.0-bin-hadoop3/examples/src/main/python/kmeans.py\n",
            "spark-3.3.0-bin-hadoop3/examples/src/main/python/ml/\n",
            "spark-3.3.0-bin-hadoop3/examples/src/main/python/ml/dct_example.py\n",
            "spark-3.3.0-bin-hadoop3/examples/src/main/python/ml/count_vectorizer_example.py\n",
            "spark-3.3.0-bin-hadoop3/examples/src/main/python/ml/chisq_selector_example.py\n",
            "spark-3.3.0-bin-hadoop3/examples/src/main/python/ml/gradient_boosted_tree_regressor_example.py\n",
            "spark-3.3.0-bin-hadoop3/examples/src/main/python/ml/tf_idf_example.py\n",
            "spark-3.3.0-bin-hadoop3/examples/src/main/python/ml/cross_validator.py\n",
            "spark-3.3.0-bin-hadoop3/examples/src/main/python/ml/linear_regression_with_elastic_net.py\n",
            "spark-3.3.0-bin-hadoop3/examples/src/main/python/ml/normalizer_example.py\n",
            "spark-3.3.0-bin-hadoop3/examples/src/main/python/ml/fm_regressor_example.py\n",
            "spark-3.3.0-bin-hadoop3/examples/src/main/python/ml/univariate_feature_selector_example.py\n",
            "spark-3.3.0-bin-hadoop3/examples/src/main/python/ml/polynomial_expansion_example.py\n",
            "spark-3.3.0-bin-hadoop3/examples/src/main/python/ml/pipeline_example.py\n",
            "spark-3.3.0-bin-hadoop3/examples/src/main/python/ml/generalized_linear_regression_example.py\n",
            "spark-3.3.0-bin-hadoop3/examples/src/main/python/ml/multilayer_perceptron_classification.py\n",
            "spark-3.3.0-bin-hadoop3/examples/src/main/python/ml/bisecting_k_means_example.py\n",
            "spark-3.3.0-bin-hadoop3/examples/src/main/python/ml/chi_square_test_example.py\n",
            "spark-3.3.0-bin-hadoop3/examples/src/main/python/ml/train_validation_split.py\n",
            "spark-3.3.0-bin-hadoop3/examples/src/main/python/ml/stopwords_remover_example.py\n",
            "spark-3.3.0-bin-hadoop3/examples/src/main/python/ml/linearsvc.py\n",
            "spark-3.3.0-bin-hadoop3/examples/src/main/python/ml/lda_example.py\n",
            "spark-3.3.0-bin-hadoop3/examples/src/main/python/ml/random_forest_regressor_example.py\n",
            "spark-3.3.0-bin-hadoop3/examples/src/main/python/ml/vector_assembler_example.py\n",
            "spark-3.3.0-bin-hadoop3/examples/src/main/python/ml/word2vec_example.py\n",
            "spark-3.3.0-bin-hadoop3/examples/src/main/python/ml/string_indexer_example.py\n",
            "spark-3.3.0-bin-hadoop3/examples/src/main/python/ml/decision_tree_classification_example.py\n",
            "spark-3.3.0-bin-hadoop3/examples/src/main/python/ml/index_to_string_example.py\n",
            "spark-3.3.0-bin-hadoop3/examples/src/main/python/ml/bucketizer_example.py\n",
            "spark-3.3.0-bin-hadoop3/examples/src/main/python/ml/vector_size_hint_example.py\n",
            "spark-3.3.0-bin-hadoop3/examples/src/main/python/ml/vector_indexer_example.py\n",
            "spark-3.3.0-bin-hadoop3/examples/src/main/python/ml/tokenizer_example.py\n",
            "spark-3.3.0-bin-hadoop3/examples/src/main/python/ml/robust_scaler_example.py\n",
            "spark-3.3.0-bin-hadoop3/examples/src/main/python/ml/standard_scaler_example.py\n",
            "spark-3.3.0-bin-hadoop3/examples/src/main/python/ml/kmeans_example.py\n",
            "spark-3.3.0-bin-hadoop3/examples/src/main/python/ml/power_iteration_clustering_example.py\n",
            "spark-3.3.0-bin-hadoop3/examples/src/main/python/ml/naive_bayes_example.py\n",
            "spark-3.3.0-bin-hadoop3/examples/src/main/python/ml/pca_example.py\n",
            "spark-3.3.0-bin-hadoop3/examples/src/main/python/ml/aft_survival_regression.py\n",
            "spark-3.3.0-bin-hadoop3/examples/src/main/python/ml/min_max_scaler_example.py\n",
            "spark-3.3.0-bin-hadoop3/examples/src/main/python/ml/elementwise_product_example.py\n",
            "spark-3.3.0-bin-hadoop3/examples/src/main/python/ml/dataframe_example.py\n",
            "spark-3.3.0-bin-hadoop3/examples/src/main/python/ml/n_gram_example.py\n",
            "spark-3.3.0-bin-hadoop3/examples/src/main/python/ml/rformula_example.py\n",
            "spark-3.3.0-bin-hadoop3/examples/src/main/python/ml/one_vs_rest_example.py\n",
            "spark-3.3.0-bin-hadoop3/examples/src/main/python/ml/als_example.py\n",
            "spark-3.3.0-bin-hadoop3/examples/src/main/python/ml/onehot_encoder_example.py\n",
            "spark-3.3.0-bin-hadoop3/examples/src/main/python/ml/vector_slicer_example.py\n",
            "spark-3.3.0-bin-hadoop3/examples/src/main/python/ml/logistic_regression_with_elastic_net.py\n",
            "spark-3.3.0-bin-hadoop3/examples/src/main/python/ml/sql_transformer.py\n",
            "spark-3.3.0-bin-hadoop3/examples/src/main/python/ml/multiclass_logistic_regression_with_elastic_net.py\n",
            "spark-3.3.0-bin-hadoop3/examples/src/main/python/ml/summarizer_example.py\n",
            "spark-3.3.0-bin-hadoop3/examples/src/main/python/ml/quantile_discretizer_example.py\n",
            "spark-3.3.0-bin-hadoop3/examples/src/main/python/ml/feature_hasher_example.py\n",
            "spark-3.3.0-bin-hadoop3/examples/src/main/python/ml/imputer_example.py\n",
            "spark-3.3.0-bin-hadoop3/examples/src/main/python/ml/bucketed_random_projection_lsh_example.py\n",
            "spark-3.3.0-bin-hadoop3/examples/src/main/python/ml/estimator_transformer_param_example.py\n",
            "spark-3.3.0-bin-hadoop3/examples/src/main/python/ml/gradient_boosted_tree_classifier_example.py\n",
            "spark-3.3.0-bin-hadoop3/examples/src/main/python/ml/logistic_regression_summary_example.py\n",
            "spark-3.3.0-bin-hadoop3/examples/src/main/python/ml/decision_tree_regression_example.py\n",
            "spark-3.3.0-bin-hadoop3/examples/src/main/python/ml/__init__,py\n",
            "spark-3.3.0-bin-hadoop3/examples/src/main/python/ml/fm_classifier_example.py\n",
            "spark-3.3.0-bin-hadoop3/examples/src/main/python/ml/gaussian_mixture_example.py\n",
            "spark-3.3.0-bin-hadoop3/examples/src/main/python/ml/fpgrowth_example.py\n",
            "spark-3.3.0-bin-hadoop3/examples/src/main/python/ml/variance_threshold_selector_example.py\n",
            "spark-3.3.0-bin-hadoop3/examples/src/main/python/ml/random_forest_classifier_example.py\n",
            "spark-3.3.0-bin-hadoop3/examples/src/main/python/ml/correlation_example.py\n",
            "spark-3.3.0-bin-hadoop3/examples/src/main/python/ml/min_hash_lsh_example.py\n",
            "spark-3.3.0-bin-hadoop3/examples/src/main/python/ml/binarizer_example.py\n",
            "spark-3.3.0-bin-hadoop3/examples/src/main/python/ml/prefixspan_example.py\n",
            "spark-3.3.0-bin-hadoop3/examples/src/main/python/ml/max_abs_scaler_example.py\n",
            "spark-3.3.0-bin-hadoop3/examples/src/main/python/ml/isotonic_regression_example.py\n",
            "spark-3.3.0-bin-hadoop3/examples/src/main/python/ml/interaction_example.py\n",
            "spark-3.3.0-bin-hadoop3/examples/src/main/python/logistic_regression.py\n",
            "spark-3.3.0-bin-hadoop3/examples/src/main/python/__init__.py\n",
            "spark-3.3.0-bin-hadoop3/examples/src/main/python/als.py\n",
            "spark-3.3.0-bin-hadoop3/examples/src/main/python/mllib/\n",
            "spark-3.3.0-bin-hadoop3/examples/src/main/python/mllib/word2vec.py\n",
            "spark-3.3.0-bin-hadoop3/examples/src/main/python/mllib/correlations_example.py\n",
            "spark-3.3.0-bin-hadoop3/examples/src/main/python/mllib/gradient_boosting_classification_example.py\n",
            "spark-3.3.0-bin-hadoop3/examples/src/main/python/mllib/kernel_density_estimation_example.py\n",
            "spark-3.3.0-bin-hadoop3/examples/src/main/python/mllib/hypothesis_testing_example.py\n",
            "spark-3.3.0-bin-hadoop3/examples/src/main/python/mllib/svd_example.py\n",
            "spark-3.3.0-bin-hadoop3/examples/src/main/python/mllib/kmeans.py\n",
            "spark-3.3.0-bin-hadoop3/examples/src/main/python/mllib/latent_dirichlet_allocation_example.py\n",
            "spark-3.3.0-bin-hadoop3/examples/src/main/python/mllib/tf_idf_example.py\n",
            "spark-3.3.0-bin-hadoop3/examples/src/main/python/mllib/correlations.py\n",
            "spark-3.3.0-bin-hadoop3/examples/src/main/python/mllib/random_forest_regression_example.py\n",
            "spark-3.3.0-bin-hadoop3/examples/src/main/python/mllib/normalizer_example.py\n",
            "spark-3.3.0-bin-hadoop3/examples/src/main/python/mllib/logistic_regression.py\n",
            "spark-3.3.0-bin-hadoop3/examples/src/main/python/mllib/multi_label_metrics_example.py\n",
            "spark-3.3.0-bin-hadoop3/examples/src/main/python/mllib/gradient_boosting_regression_example.py\n",
            "spark-3.3.0-bin-hadoop3/examples/src/main/python/mllib/random_forest_classification_example.py\n",
            "spark-3.3.0-bin-hadoop3/examples/src/main/python/mllib/__init__.py\n",
            "spark-3.3.0-bin-hadoop3/examples/src/main/python/mllib/streaming_linear_regression_example.py\n",
            "spark-3.3.0-bin-hadoop3/examples/src/main/python/mllib/sampled_rdds.py\n",
            "spark-3.3.0-bin-hadoop3/examples/src/main/python/mllib/bisecting_k_means_example.py\n",
            "spark-3.3.0-bin-hadoop3/examples/src/main/python/mllib/logistic_regression_with_lbfgs_example.py\n",
            "spark-3.3.0-bin-hadoop3/examples/src/main/python/mllib/k_means_example.py\n",
            "spark-3.3.0-bin-hadoop3/examples/src/main/python/mllib/streaming_k_means_example.py\n",
            "spark-3.3.0-bin-hadoop3/examples/src/main/python/mllib/word2vec_example.py\n",
            "spark-3.3.0-bin-hadoop3/examples/src/main/python/mllib/multi_class_metrics_example.py\n",
            "spark-3.3.0-bin-hadoop3/examples/src/main/python/mllib/decision_tree_classification_example.py\n",
            "spark-3.3.0-bin-hadoop3/examples/src/main/python/mllib/summary_statistics_example.py\n",
            "spark-3.3.0-bin-hadoop3/examples/src/main/python/mllib/binary_classification_metrics_example.py\n",
            "spark-3.3.0-bin-hadoop3/examples/src/main/python/mllib/standard_scaler_example.py\n",
            "spark-3.3.0-bin-hadoop3/examples/src/main/python/mllib/power_iteration_clustering_example.py\n",
            "spark-3.3.0-bin-hadoop3/examples/src/main/python/mllib/gaussian_mixture_model.py\n",
            "spark-3.3.0-bin-hadoop3/examples/src/main/python/mllib/regression_metrics_example.py\n",
            "spark-3.3.0-bin-hadoop3/examples/src/main/python/mllib/naive_bayes_example.py\n",
            "spark-3.3.0-bin-hadoop3/examples/src/main/python/mllib/elementwise_product_example.py\n",
            "spark-3.3.0-bin-hadoop3/examples/src/main/python/mllib/linear_regression_with_sgd_example.py\n",
            "spark-3.3.0-bin-hadoop3/examples/src/main/python/mllib/pca_rowmatrix_example.py\n",
            "spark-3.3.0-bin-hadoop3/examples/src/main/python/mllib/hypothesis_testing_kolmogorov_smirnov_test_example.py\n",
            "spark-3.3.0-bin-hadoop3/examples/src/main/python/mllib/random_rdd_generation.py\n",
            "spark-3.3.0-bin-hadoop3/examples/src/main/python/mllib/decision_tree_regression_example.py\n",
            "spark-3.3.0-bin-hadoop3/examples/src/main/python/mllib/gaussian_mixture_example.py\n",
            "spark-3.3.0-bin-hadoop3/examples/src/main/python/mllib/recommendation_example.py\n",
            "spark-3.3.0-bin-hadoop3/examples/src/main/python/mllib/fpgrowth_example.py\n",
            "spark-3.3.0-bin-hadoop3/examples/src/main/python/mllib/ranking_metrics_example.py\n",
            "spark-3.3.0-bin-hadoop3/examples/src/main/python/mllib/svm_with_sgd_example.py\n",
            "spark-3.3.0-bin-hadoop3/examples/src/main/python/mllib/isotonic_regression_example.py\n",
            "spark-3.3.0-bin-hadoop3/examples/src/main/python/mllib/stratified_sampling_example.py\n",
            "spark-3.3.0-bin-hadoop3/examples/src/main/python/wordcount.py\n",
            "spark-3.3.0-bin-hadoop3/examples/src/main/python/status_api_demo.py\n",
            "spark-3.3.0-bin-hadoop3/examples/src/main/python/pagerank.py\n",
            "spark-3.3.0-bin-hadoop3/examples/src/main/python/sort.py\n",
            "spark-3.3.0-bin-hadoop3/examples/src/main/python/transitive_closure.py\n",
            "spark-3.3.0-bin-hadoop3/examples/src/main/python/avro_inputformat.py\n",
            "spark-3.3.0-bin-hadoop3/examples/src/main/python/pi.py\n",
            "spark-3.3.0-bin-hadoop3/examples/src/main/python/streaming/\n",
            "spark-3.3.0-bin-hadoop3/examples/src/main/python/streaming/queue_stream.py\n",
            "spark-3.3.0-bin-hadoop3/examples/src/main/python/streaming/__init__.py\n",
            "spark-3.3.0-bin-hadoop3/examples/src/main/python/streaming/stateful_network_wordcount.py\n",
            "spark-3.3.0-bin-hadoop3/examples/src/main/python/streaming/network_wordjoinsentiments.py\n",
            "spark-3.3.0-bin-hadoop3/examples/src/main/python/streaming/sql_network_wordcount.py\n",
            "spark-3.3.0-bin-hadoop3/examples/src/main/python/streaming/network_wordcount.py\n",
            "spark-3.3.0-bin-hadoop3/examples/src/main/python/streaming/hdfs_wordcount.py\n",
            "spark-3.3.0-bin-hadoop3/examples/src/main/python/streaming/recoverable_network_wordcount.py\n",
            "spark-3.3.0-bin-hadoop3/examples/src/main/python/sql/\n",
            "spark-3.3.0-bin-hadoop3/examples/src/main/python/sql/datasource.py\n",
            "spark-3.3.0-bin-hadoop3/examples/src/main/python/sql/__init__.py\n",
            "spark-3.3.0-bin-hadoop3/examples/src/main/python/sql/hive.py\n",
            "spark-3.3.0-bin-hadoop3/examples/src/main/python/sql/arrow.py\n",
            "spark-3.3.0-bin-hadoop3/examples/src/main/python/sql/streaming/\n",
            "spark-3.3.0-bin-hadoop3/examples/src/main/python/sql/streaming/structured_network_wordcount_windowed.py\n",
            "spark-3.3.0-bin-hadoop3/examples/src/main/python/sql/streaming/structured_network_wordcount.py\n",
            "spark-3.3.0-bin-hadoop3/examples/src/main/python/sql/streaming/structured_sessionization.py\n",
            "spark-3.3.0-bin-hadoop3/examples/src/main/python/sql/streaming/__init__,py\n",
            "spark-3.3.0-bin-hadoop3/examples/src/main/python/sql/streaming/structured_kafka_wordcount.py\n",
            "spark-3.3.0-bin-hadoop3/examples/src/main/python/sql/basic.py\n",
            "spark-3.3.0-bin-hadoop3/examples/src/main/python/parquet_inputformat.py\n",
            "spark-3.3.0-bin-hadoop3/examples/jars/\n",
            "spark-3.3.0-bin-hadoop3/examples/jars/spark-examples_2.12-3.3.0.jar\n",
            "spark-3.3.0-bin-hadoop3/examples/jars/scopt_2.12-3.7.1.jar\n",
            "spark-3.3.0-bin-hadoop3/conf/\n",
            "spark-3.3.0-bin-hadoop3/conf/metrics.properties.template\n",
            "spark-3.3.0-bin-hadoop3/conf/workers.template\n",
            "spark-3.3.0-bin-hadoop3/conf/fairscheduler.xml.template\n",
            "spark-3.3.0-bin-hadoop3/conf/spark-defaults.conf.template\n",
            "spark-3.3.0-bin-hadoop3/conf/spark-env.sh.template\n",
            "spark-3.3.0-bin-hadoop3/conf/log4j2.properties.template\n",
            "spark-3.3.0-bin-hadoop3/bin/\n",
            "spark-3.3.0-bin-hadoop3/bin/sparkR.cmd\n",
            "spark-3.3.0-bin-hadoop3/bin/sparkR\n",
            "spark-3.3.0-bin-hadoop3/bin/spark-submit\n",
            "spark-3.3.0-bin-hadoop3/bin/pyspark2.cmd\n",
            "spark-3.3.0-bin-hadoop3/bin/spark-class\n",
            "spark-3.3.0-bin-hadoop3/bin/pyspark.cmd\n",
            "spark-3.3.0-bin-hadoop3/bin/spark-submit2.cmd\n",
            "spark-3.3.0-bin-hadoop3/bin/load-spark-env.cmd\n",
            "spark-3.3.0-bin-hadoop3/bin/spark-sql\n",
            "spark-3.3.0-bin-hadoop3/bin/docker-image-tool.sh\n",
            "spark-3.3.0-bin-hadoop3/bin/find-spark-home.cmd\n",
            "spark-3.3.0-bin-hadoop3/bin/load-spark-env.sh\n",
            "spark-3.3.0-bin-hadoop3/bin/pyspark\n",
            "spark-3.3.0-bin-hadoop3/bin/spark-shell.cmd\n",
            "spark-3.3.0-bin-hadoop3/bin/spark-shell2.cmd\n",
            "spark-3.3.0-bin-hadoop3/bin/spark-submit.cmd\n",
            "spark-3.3.0-bin-hadoop3/bin/beeline.cmd\n",
            "spark-3.3.0-bin-hadoop3/bin/find-spark-home\n",
            "spark-3.3.0-bin-hadoop3/bin/spark-class.cmd\n",
            "spark-3.3.0-bin-hadoop3/bin/sparkR2.cmd\n",
            "spark-3.3.0-bin-hadoop3/bin/beeline\n",
            "spark-3.3.0-bin-hadoop3/bin/spark-class2.cmd\n",
            "spark-3.3.0-bin-hadoop3/bin/spark-sql.cmd\n",
            "spark-3.3.0-bin-hadoop3/bin/run-example\n",
            "spark-3.3.0-bin-hadoop3/bin/spark-shell\n",
            "spark-3.3.0-bin-hadoop3/bin/run-example.cmd\n",
            "spark-3.3.0-bin-hadoop3/bin/spark-sql2.cmd\n",
            "spark-3.3.0-bin-hadoop3/python/\n",
            "spark-3.3.0-bin-hadoop3/python/.gitignore\n",
            "spark-3.3.0-bin-hadoop3/python/run-tests-with-coverage\n",
            "spark-3.3.0-bin-hadoop3/python/mypy.ini\n",
            "spark-3.3.0-bin-hadoop3/python/MANIFEST.in\n",
            "spark-3.3.0-bin-hadoop3/python/README.md\n",
            "spark-3.3.0-bin-hadoop3/python/test_coverage/\n",
            "spark-3.3.0-bin-hadoop3/python/test_coverage/coverage_daemon.py\n",
            "spark-3.3.0-bin-hadoop3/python/test_coverage/conf/\n",
            "spark-3.3.0-bin-hadoop3/python/test_coverage/conf/spark-defaults.conf\n",
            "spark-3.3.0-bin-hadoop3/python/test_coverage/sitecustomize.py\n",
            "spark-3.3.0-bin-hadoop3/python/run-tests.py\n",
            "spark-3.3.0-bin-hadoop3/python/setup.py\n",
            "spark-3.3.0-bin-hadoop3/python/test_support/\n",
            "spark-3.3.0-bin-hadoop3/python/test_support/userlibrary.py\n",
            "spark-3.3.0-bin-hadoop3/python/test_support/hello/\n",
            "spark-3.3.0-bin-hadoop3/python/test_support/hello/sub_hello/\n",
            "spark-3.3.0-bin-hadoop3/python/test_support/hello/sub_hello/sub_hello.txt\n",
            "spark-3.3.0-bin-hadoop3/python/test_support/hello/hello.txt\n",
            "spark-3.3.0-bin-hadoop3/python/test_support/userlib-0.1.zip\n",
            "spark-3.3.0-bin-hadoop3/python/test_support/SimpleHTTPServer.py\n",
            "spark-3.3.0-bin-hadoop3/python/test_support/sql/\n",
            "spark-3.3.0-bin-hadoop3/python/test_support/sql/people.json\n",
            "spark-3.3.0-bin-hadoop3/python/test_support/sql/people_array.json\n",
            "spark-3.3.0-bin-hadoop3/python/test_support/sql/people_array_utf16le.json\n",
            "spark-3.3.0-bin-hadoop3/python/test_support/sql/text-test.txt\n",
            "spark-3.3.0-bin-hadoop3/python/test_support/sql/ages.csv\n",
            "spark-3.3.0-bin-hadoop3/python/test_support/sql/parquet_partitioned/\n",
            "spark-3.3.0-bin-hadoop3/python/test_support/sql/parquet_partitioned/year=2015/\n",
            "spark-3.3.0-bin-hadoop3/python/test_support/sql/parquet_partitioned/year=2015/month=10/\n",
            "spark-3.3.0-bin-hadoop3/python/test_support/sql/parquet_partitioned/year=2015/month=10/day=26/\n",
            "spark-3.3.0-bin-hadoop3/python/test_support/sql/parquet_partitioned/year=2015/month=10/day=26/.part-r-00005.gz.parquet.crc\n",
            "spark-3.3.0-bin-hadoop3/python/test_support/sql/parquet_partitioned/year=2015/month=10/day=26/part-r-00005.gz.parquet\n",
            "spark-3.3.0-bin-hadoop3/python/test_support/sql/parquet_partitioned/year=2015/month=10/day=25/\n",
            "spark-3.3.0-bin-hadoop3/python/test_support/sql/parquet_partitioned/year=2015/month=10/day=25/.part-r-00002.gz.parquet.crc\n",
            "spark-3.3.0-bin-hadoop3/python/test_support/sql/parquet_partitioned/year=2015/month=10/day=25/.part-r-00004.gz.parquet.crc\n",
            "spark-3.3.0-bin-hadoop3/python/test_support/sql/parquet_partitioned/year=2015/month=10/day=25/part-r-00004.gz.parquet\n",
            "spark-3.3.0-bin-hadoop3/python/test_support/sql/parquet_partitioned/year=2015/month=10/day=25/part-r-00002.gz.parquet\n",
            "spark-3.3.0-bin-hadoop3/python/test_support/sql/parquet_partitioned/year=2015/month=9/\n",
            "spark-3.3.0-bin-hadoop3/python/test_support/sql/parquet_partitioned/year=2015/month=9/day=1/\n",
            "spark-3.3.0-bin-hadoop3/python/test_support/sql/parquet_partitioned/year=2015/month=9/day=1/.part-r-00007.gz.parquet.crc\n",
            "spark-3.3.0-bin-hadoop3/python/test_support/sql/parquet_partitioned/year=2015/month=9/day=1/part-r-00007.gz.parquet\n",
            "spark-3.3.0-bin-hadoop3/python/test_support/sql/parquet_partitioned/_metadata\n",
            "spark-3.3.0-bin-hadoop3/python/test_support/sql/parquet_partitioned/year=2014/\n",
            "spark-3.3.0-bin-hadoop3/python/test_support/sql/parquet_partitioned/year=2014/month=9/\n",
            "spark-3.3.0-bin-hadoop3/python/test_support/sql/parquet_partitioned/year=2014/month=9/day=1/\n",
            "spark-3.3.0-bin-hadoop3/python/test_support/sql/parquet_partitioned/year=2014/month=9/day=1/.part-r-00008.gz.parquet.crc\n",
            "spark-3.3.0-bin-hadoop3/python/test_support/sql/parquet_partitioned/year=2014/month=9/day=1/part-r-00008.gz.parquet\n",
            "spark-3.3.0-bin-hadoop3/python/test_support/sql/parquet_partitioned/_common_metadata\n",
            "spark-3.3.0-bin-hadoop3/python/test_support/sql/parquet_partitioned/_SUCCESS\n",
            "spark-3.3.0-bin-hadoop3/python/test_support/sql/orc_partitioned/\n",
            "spark-3.3.0-bin-hadoop3/python/test_support/sql/orc_partitioned/b=1/\n",
            "spark-3.3.0-bin-hadoop3/python/test_support/sql/orc_partitioned/b=1/c=1/\n",
            "spark-3.3.0-bin-hadoop3/python/test_support/sql/orc_partitioned/b=1/c=1/part-r-00000-829af031-b970-49d6-ad39-30460a0be2c8.orc\n",
            "spark-3.3.0-bin-hadoop3/python/test_support/sql/orc_partitioned/b=1/c=1/.part-r-00000-829af031-b970-49d6-ad39-30460a0be2c8.orc.crc\n",
            "spark-3.3.0-bin-hadoop3/python/test_support/sql/orc_partitioned/b=0/\n",
            "spark-3.3.0-bin-hadoop3/python/test_support/sql/orc_partitioned/b=0/c=0/\n",
            "spark-3.3.0-bin-hadoop3/python/test_support/sql/orc_partitioned/b=0/c=0/part-r-00000-829af031-b970-49d6-ad39-30460a0be2c8.orc\n",
            "spark-3.3.0-bin-hadoop3/python/test_support/sql/orc_partitioned/b=0/c=0/.part-r-00000-829af031-b970-49d6-ad39-30460a0be2c8.orc.crc\n",
            "spark-3.3.0-bin-hadoop3/python/test_support/sql/orc_partitioned/_SUCCESS\n",
            "spark-3.3.0-bin-hadoop3/python/test_support/sql/ages_newlines.csv\n",
            "spark-3.3.0-bin-hadoop3/python/test_support/sql/streaming/\n",
            "spark-3.3.0-bin-hadoop3/python/test_support/sql/streaming/text-test.txt\n",
            "spark-3.3.0-bin-hadoop3/python/test_support/sql/people1.json\n",
            "spark-3.3.0-bin-hadoop3/python/pyspark/\n",
            "spark-3.3.0-bin-hadoop3/python/pyspark/tests/\n",
            "spark-3.3.0-bin-hadoop3/python/pyspark/tests/test_rddbarrier.py\n",
            "spark-3.3.0-bin-hadoop3/python/pyspark/tests/test_worker.py\n",
            "spark-3.3.0-bin-hadoop3/python/pyspark/tests/test_serializers.py\n",
            "spark-3.3.0-bin-hadoop3/python/pyspark/tests/test_util.py\n",
            "spark-3.3.0-bin-hadoop3/python/pyspark/tests/test_rdd.py\n",
            "spark-3.3.0-bin-hadoop3/python/pyspark/tests/test_statcounter.py\n",
            "spark-3.3.0-bin-hadoop3/python/pyspark/tests/__init__.py\n",
            "spark-3.3.0-bin-hadoop3/python/pyspark/tests/test_broadcast.py\n",
            "spark-3.3.0-bin-hadoop3/python/pyspark/tests/test_appsubmit.py\n",
            "spark-3.3.0-bin-hadoop3/python/pyspark/tests/test_profiler.py\n",
            "spark-3.3.0-bin-hadoop3/python/pyspark/tests/test_pin_thread.py\n",
            "spark-3.3.0-bin-hadoop3/python/pyspark/tests/test_install_spark.py\n",
            "spark-3.3.0-bin-hadoop3/python/pyspark/tests/typing/\n",
            "spark-3.3.0-bin-hadoop3/python/pyspark/tests/typing/test_resultiterable.yml\n",
            "spark-3.3.0-bin-hadoop3/python/pyspark/tests/typing/test_context.yml\n",
            "spark-3.3.0-bin-hadoop3/python/pyspark/tests/typing/test_rdd.yml\n",
            "spark-3.3.0-bin-hadoop3/python/pyspark/tests/typing/test_core.yml\n",
            "spark-3.3.0-bin-hadoop3/python/pyspark/tests/test_shuffle.py\n",
            "spark-3.3.0-bin-hadoop3/python/pyspark/tests/test_join.py\n",
            "spark-3.3.0-bin-hadoop3/python/pyspark/tests/test_taskcontext.py\n",
            "spark-3.3.0-bin-hadoop3/python/pyspark/tests/test_context.py\n",
            "spark-3.3.0-bin-hadoop3/python/pyspark/tests/test_readwrite.py\n",
            "spark-3.3.0-bin-hadoop3/python/pyspark/tests/test_conf.py\n",
            "spark-3.3.0-bin-hadoop3/python/pyspark/tests/test_daemon.py\n",
            "spark-3.3.0-bin-hadoop3/python/pyspark/pandas/\n",
            "spark-3.3.0-bin-hadoop3/python/pyspark/pandas/tests/\n",
            "spark-3.3.0-bin-hadoop3/python/pyspark/pandas/tests/test_series.py\n",
            "spark-3.3.0-bin-hadoop3/python/pyspark/pandas/tests/test_utils.py\n",
            "spark-3.3.0-bin-hadoop3/python/pyspark/pandas/tests/test_dataframe.py\n",
            "spark-3.3.0-bin-hadoop3/python/pyspark/pandas/tests/indexes/\n",
            "spark-3.3.0-bin-hadoop3/python/pyspark/pandas/tests/indexes/__init__.py\n",
            "spark-3.3.0-bin-hadoop3/python/pyspark/pandas/tests/indexes/test_timedelta.py\n",
            "spark-3.3.0-bin-hadoop3/python/pyspark/pandas/tests/indexes/test_category.py\n",
            "spark-3.3.0-bin-hadoop3/python/pyspark/pandas/tests/indexes/test_datetime.py\n",
            "spark-3.3.0-bin-hadoop3/python/pyspark/pandas/tests/indexes/test_base.py\n",
            "spark-3.3.0-bin-hadoop3/python/pyspark/pandas/tests/test_window.py\n",
            "spark-3.3.0-bin-hadoop3/python/pyspark/pandas/tests/test_indexops_spark.py\n",
            "spark-3.3.0-bin-hadoop3/python/pyspark/pandas/tests/__init__.py\n",
            "spark-3.3.0-bin-hadoop3/python/pyspark/pandas/tests/test_stats.py\n",
            "spark-3.3.0-bin-hadoop3/python/pyspark/pandas/tests/test_extension.py\n",
            "spark-3.3.0-bin-hadoop3/python/pyspark/pandas/tests/test_default_index.py\n",
            "spark-3.3.0-bin-hadoop3/python/pyspark/pandas/tests/test_expanding.py\n",
            "spark-3.3.0-bin-hadoop3/python/pyspark/pandas/tests/test_series_datetime.py\n",
            "spark-3.3.0-bin-hadoop3/python/pyspark/pandas/tests/test_indexing.py\n",
            "spark-3.3.0-bin-hadoop3/python/pyspark/pandas/tests/test_typedef.py\n",
            "spark-3.3.0-bin-hadoop3/python/pyspark/pandas/tests/test_numpy_compat.py\n",
            "spark-3.3.0-bin-hadoop3/python/pyspark/pandas/tests/test_dataframe_spark_io.py\n",
            "spark-3.3.0-bin-hadoop3/python/pyspark/pandas/tests/test_repr.py\n",
            "spark-3.3.0-bin-hadoop3/python/pyspark/pandas/tests/test_ops_on_diff_frames_groupby_expanding.py\n",
            "spark-3.3.0-bin-hadoop3/python/pyspark/pandas/tests/test_namespace.py\n",
            "spark-3.3.0-bin-hadoop3/python/pyspark/pandas/tests/test_ops_on_diff_frames_groupby.py\n",
            "spark-3.3.0-bin-hadoop3/python/pyspark/pandas/tests/test_series_conversion.py\n",
            "spark-3.3.0-bin-hadoop3/python/pyspark/pandas/tests/test_internal.py\n",
            "spark-3.3.0-bin-hadoop3/python/pyspark/pandas/tests/test_series_string.py\n",
            "spark-3.3.0-bin-hadoop3/python/pyspark/pandas/tests/test_groupby.py\n",
            "spark-3.3.0-bin-hadoop3/python/pyspark/pandas/tests/test_csv.py\n",
            "spark-3.3.0-bin-hadoop3/python/pyspark/pandas/tests/test_ops_on_diff_frames_groupby_rolling.py\n",
            "spark-3.3.0-bin-hadoop3/python/pyspark/pandas/tests/test_dataframe_conversion.py\n",
            "spark-3.3.0-bin-hadoop3/python/pyspark/pandas/tests/data_type_ops/\n",
            "spark-3.3.0-bin-hadoop3/python/pyspark/pandas/tests/data_type_ops/test_categorical_ops.py\n",
            "spark-3.3.0-bin-hadoop3/python/pyspark/pandas/tests/data_type_ops/test_complex_ops.py\n",
            "spark-3.3.0-bin-hadoop3/python/pyspark/pandas/tests/data_type_ops/test_boolean_ops.py\n",
            "spark-3.3.0-bin-hadoop3/python/pyspark/pandas/tests/data_type_ops/test_string_ops.py\n",
            "spark-3.3.0-bin-hadoop3/python/pyspark/pandas/tests/data_type_ops/__init__.py\n",
            "spark-3.3.0-bin-hadoop3/python/pyspark/pandas/tests/data_type_ops/testing_utils.py\n",
            "spark-3.3.0-bin-hadoop3/python/pyspark/pandas/tests/data_type_ops/test_udt_ops.py\n",
            "spark-3.3.0-bin-hadoop3/python/pyspark/pandas/tests/data_type_ops/test_num_ops.py\n",
            "spark-3.3.0-bin-hadoop3/python/pyspark/pandas/tests/data_type_ops/test_date_ops.py\n",
            "spark-3.3.0-bin-hadoop3/python/pyspark/pandas/tests/data_type_ops/test_timedelta_ops.py\n",
            "spark-3.3.0-bin-hadoop3/python/pyspark/pandas/tests/data_type_ops/test_null_ops.py\n",
            "spark-3.3.0-bin-hadoop3/python/pyspark/pandas/tests/data_type_ops/test_datetime_ops.py\n",
            "spark-3.3.0-bin-hadoop3/python/pyspark/pandas/tests/data_type_ops/test_binary_ops.py\n",
            "spark-3.3.0-bin-hadoop3/python/pyspark/pandas/tests/data_type_ops/test_base.py\n",
            "spark-3.3.0-bin-hadoop3/python/pyspark/pandas/tests/test_frame_spark.py\n",
            "spark-3.3.0-bin-hadoop3/python/pyspark/pandas/tests/test_config.py\n",
            "spark-3.3.0-bin-hadoop3/python/pyspark/pandas/tests/test_categorical.py\n",
            "spark-3.3.0-bin-hadoop3/python/pyspark/pandas/tests/plot/\n",
            "spark-3.3.0-bin-hadoop3/python/pyspark/pandas/tests/plot/__init__.py\n",
            "spark-3.3.0-bin-hadoop3/python/pyspark/pandas/tests/plot/test_frame_plot.py\n",
            "spark-3.3.0-bin-hadoop3/python/pyspark/pandas/tests/plot/test_frame_plot_matplotlib.py\n",
            "spark-3.3.0-bin-hadoop3/python/pyspark/pandas/tests/plot/test_frame_plot_plotly.py\n",
            "spark-3.3.0-bin-hadoop3/python/pyspark/pandas/tests/plot/test_series_plot_matplotlib.py\n",
            "spark-3.3.0-bin-hadoop3/python/pyspark/pandas/tests/plot/test_series_plot_plotly.py\n",
            "spark-3.3.0-bin-hadoop3/python/pyspark/pandas/tests/plot/test_series_plot.py\n",
            "spark-3.3.0-bin-hadoop3/python/pyspark/pandas/tests/test_ops_on_diff_frames.py\n",
            "spark-3.3.0-bin-hadoop3/python/pyspark/pandas/tests/test_rolling.py\n",
            "spark-3.3.0-bin-hadoop3/python/pyspark/pandas/tests/test_reshape.py\n",
            "spark-3.3.0-bin-hadoop3/python/pyspark/pandas/tests/test_sql.py\n",
            "spark-3.3.0-bin-hadoop3/python/pyspark/pandas/tests/test_spark_functions.py\n",
            "spark-3.3.0-bin-hadoop3/python/pyspark/pandas/sql_processor.py\n",
            "spark-3.3.0-bin-hadoop3/python/pyspark/pandas/numpy_compat.py\n",
            "spark-3.3.0-bin-hadoop3/python/pyspark/pandas/usage_logging/\n",
            "spark-3.3.0-bin-hadoop3/python/pyspark/pandas/usage_logging/__init__.py\n",
            "spark-3.3.0-bin-hadoop3/python/pyspark/pandas/usage_logging/usage_logger.py\n",
            "spark-3.3.0-bin-hadoop3/python/pyspark/pandas/spark/\n",
            "spark-3.3.0-bin-hadoop3/python/pyspark/pandas/spark/functions.py\n",
            "spark-3.3.0-bin-hadoop3/python/pyspark/pandas/spark/__init__.py\n",
            "spark-3.3.0-bin-hadoop3/python/pyspark/pandas/spark/accessors.py\n",
            "spark-3.3.0-bin-hadoop3/python/pyspark/pandas/spark/utils.py\n",
            "spark-3.3.0-bin-hadoop3/python/pyspark/pandas/base.py\n",
            "spark-3.3.0-bin-hadoop3/python/pyspark/pandas/sql_formatter.py\n",
            "spark-3.3.0-bin-hadoop3/python/pyspark/pandas/frame.py\n",
            "spark-3.3.0-bin-hadoop3/python/pyspark/pandas/window.py\n",
            "spark-3.3.0-bin-hadoop3/python/pyspark/pandas/indexes/\n",
            "spark-3.3.0-bin-hadoop3/python/pyspark/pandas/indexes/base.py\n",
            "spark-3.3.0-bin-hadoop3/python/pyspark/pandas/indexes/__init__.py\n",
            "spark-3.3.0-bin-hadoop3/python/pyspark/pandas/indexes/timedelta.py\n",
            "spark-3.3.0-bin-hadoop3/python/pyspark/pandas/indexes/numeric.py\n",
            "spark-3.3.0-bin-hadoop3/python/pyspark/pandas/indexes/datetimes.py\n",
            "spark-3.3.0-bin-hadoop3/python/pyspark/pandas/indexes/category.py\n",
            "spark-3.3.0-bin-hadoop3/python/pyspark/pandas/indexes/multi.py\n",
            "spark-3.3.0-bin-hadoop3/python/pyspark/pandas/namespace.py\n",
            "spark-3.3.0-bin-hadoop3/python/pyspark/pandas/mlflow.py\n",
            "spark-3.3.0-bin-hadoop3/python/pyspark/pandas/indexing.py\n",
            "spark-3.3.0-bin-hadoop3/python/pyspark/pandas/strings.py\n",
            "spark-3.3.0-bin-hadoop3/python/pyspark/pandas/__init__.py\n",
            "spark-3.3.0-bin-hadoop3/python/pyspark/pandas/extensions.py\n",
            "spark-3.3.0-bin-hadoop3/python/pyspark/pandas/accessors.py\n",
            "spark-3.3.0-bin-hadoop3/python/pyspark/pandas/config.py\n",
            "spark-3.3.0-bin-hadoop3/python/pyspark/pandas/groupby.py\n",
            "spark-3.3.0-bin-hadoop3/python/pyspark/pandas/internal.py\n",
            "spark-3.3.0-bin-hadoop3/python/pyspark/pandas/missing/\n",
            "spark-3.3.0-bin-hadoop3/python/pyspark/pandas/missing/frame.py\n",
            "spark-3.3.0-bin-hadoop3/python/pyspark/pandas/missing/window.py\n",
            "spark-3.3.0-bin-hadoop3/python/pyspark/pandas/missing/__init__.py\n",
            "spark-3.3.0-bin-hadoop3/python/pyspark/pandas/missing/groupby.py\n",
            "spark-3.3.0-bin-hadoop3/python/pyspark/pandas/missing/series.py\n",
            "spark-3.3.0-bin-hadoop3/python/pyspark/pandas/missing/indexes.py\n",
            "spark-3.3.0-bin-hadoop3/python/pyspark/pandas/missing/common.py\n",
            "spark-3.3.0-bin-hadoop3/python/pyspark/pandas/ml.py\n",
            "spark-3.3.0-bin-hadoop3/python/pyspark/pandas/series.py\n",
            "spark-3.3.0-bin-hadoop3/python/pyspark/pandas/_typing.py\n",
            "spark-3.3.0-bin-hadoop3/python/pyspark/pandas/datetimes.py\n",
            "spark-3.3.0-bin-hadoop3/python/pyspark/pandas/utils.py\n",
            "spark-3.3.0-bin-hadoop3/python/pyspark/pandas/data_type_ops/\n",
            "spark-3.3.0-bin-hadoop3/python/pyspark/pandas/data_type_ops/complex_ops.py\n",
            "spark-3.3.0-bin-hadoop3/python/pyspark/pandas/data_type_ops/binary_ops.py\n",
            "spark-3.3.0-bin-hadoop3/python/pyspark/pandas/data_type_ops/base.py\n",
            "spark-3.3.0-bin-hadoop3/python/pyspark/pandas/data_type_ops/categorical_ops.py\n",
            "spark-3.3.0-bin-hadoop3/python/pyspark/pandas/data_type_ops/string_ops.py\n",
            "spark-3.3.0-bin-hadoop3/python/pyspark/pandas/data_type_ops/timedelta_ops.py\n",
            "spark-3.3.0-bin-hadoop3/python/pyspark/pandas/data_type_ops/__init__.py\n",
            "spark-3.3.0-bin-hadoop3/python/pyspark/pandas/data_type_ops/date_ops.py\n",
            "spark-3.3.0-bin-hadoop3/python/pyspark/pandas/data_type_ops/udt_ops.py\n",
            "spark-3.3.0-bin-hadoop3/python/pyspark/pandas/data_type_ops/null_ops.py\n",
            "spark-3.3.0-bin-hadoop3/python/pyspark/pandas/data_type_ops/datetime_ops.py\n",
            "spark-3.3.0-bin-hadoop3/python/pyspark/pandas/data_type_ops/num_ops.py\n",
            "spark-3.3.0-bin-hadoop3/python/pyspark/pandas/data_type_ops/boolean_ops.py\n",
            "spark-3.3.0-bin-hadoop3/python/pyspark/pandas/plot/\n",
            "spark-3.3.0-bin-hadoop3/python/pyspark/pandas/plot/core.py\n",
            "spark-3.3.0-bin-hadoop3/python/pyspark/pandas/plot/__init__.py\n",
            "spark-3.3.0-bin-hadoop3/python/pyspark/pandas/plot/plotly.py\n",
            "spark-3.3.0-bin-hadoop3/python/pyspark/pandas/plot/matplotlib.py\n",
            "spark-3.3.0-bin-hadoop3/python/pyspark/pandas/typedef/\n",
            "spark-3.3.0-bin-hadoop3/python/pyspark/pandas/typedef/__init__.py\n",
            "spark-3.3.0-bin-hadoop3/python/pyspark/pandas/typedef/typehints.py\n",
            "spark-3.3.0-bin-hadoop3/python/pyspark/pandas/categorical.py\n",
            "spark-3.3.0-bin-hadoop3/python/pyspark/pandas/generic.py\n",
            "spark-3.3.0-bin-hadoop3/python/pyspark/pandas/exceptions.py\n",
            "spark-3.3.0-bin-hadoop3/python/pyspark/_typing.pyi\n",
            "spark-3.3.0-bin-hadoop3/python/pyspark/testing/\n",
            "spark-3.3.0-bin-hadoop3/python/pyspark/testing/mlutils.py\n",
            "spark-3.3.0-bin-hadoop3/python/pyspark/testing/__init__.py\n",
            "spark-3.3.0-bin-hadoop3/python/pyspark/testing/mllibutils.py\n",
            "spark-3.3.0-bin-hadoop3/python/pyspark/testing/pandasutils.py\n",
            "spark-3.3.0-bin-hadoop3/python/pyspark/testing/utils.py\n",
            "spark-3.3.0-bin-hadoop3/python/pyspark/testing/sqlutils.py\n",
            "spark-3.3.0-bin-hadoop3/python/pyspark/testing/streamingutils.py\n",
            "spark-3.3.0-bin-hadoop3/python/pyspark/accumulators.py\n",
            "spark-3.3.0-bin-hadoop3/python/pyspark/rddsampler.py\n",
            "spark-3.3.0-bin-hadoop3/python/pyspark/install.py\n",
            "spark-3.3.0-bin-hadoop3/python/pyspark/ml/\n",
            "spark-3.3.0-bin-hadoop3/python/pyspark/ml/tests/\n",
            "spark-3.3.0-bin-hadoop3/python/pyspark/ml/tests/test_algorithms.py\n",
            "spark-3.3.0-bin-hadoop3/python/pyspark/ml/tests/test_evaluation.py\n",
            "spark-3.3.0-bin-hadoop3/python/pyspark/ml/tests/test_util.py\n",
            "spark-3.3.0-bin-hadoop3/python/pyspark/ml/tests/test_feature.py\n",
            "spark-3.3.0-bin-hadoop3/python/pyspark/ml/tests/test_pipeline.py\n",
            "spark-3.3.0-bin-hadoop3/python/pyspark/ml/tests/test_wrapper.py\n",
            "spark-3.3.0-bin-hadoop3/python/pyspark/ml/tests/__init__.py\n",
            "spark-3.3.0-bin-hadoop3/python/pyspark/ml/tests/test_tuning.py\n",
            "spark-3.3.0-bin-hadoop3/python/pyspark/ml/tests/test_persistence.py\n",
            "spark-3.3.0-bin-hadoop3/python/pyspark/ml/tests/test_param.py\n",
            "spark-3.3.0-bin-hadoop3/python/pyspark/ml/tests/typing/\n",
            "spark-3.3.0-bin-hadoop3/python/pyspark/ml/tests/typing/test_clustering.yaml\n",
            "spark-3.3.0-bin-hadoop3/python/pyspark/ml/tests/typing/test_regression.yml\n",
            "spark-3.3.0-bin-hadoop3/python/pyspark/ml/tests/typing/test_param.yml\n",
            "spark-3.3.0-bin-hadoop3/python/pyspark/ml/tests/typing/test_evaluation.yml\n",
            "spark-3.3.0-bin-hadoop3/python/pyspark/ml/tests/typing/test_classification.yml\n",
            "spark-3.3.0-bin-hadoop3/python/pyspark/ml/tests/typing/test_readable.yml\n",
            "spark-3.3.0-bin-hadoop3/python/pyspark/ml/tests/typing/test_feature.yml\n",
            "spark-3.3.0-bin-hadoop3/python/pyspark/ml/tests/test_training_summary.py\n",
            "spark-3.3.0-bin-hadoop3/python/pyspark/ml/tests/test_linalg.py\n",
            "spark-3.3.0-bin-hadoop3/python/pyspark/ml/tests/test_image.py\n",
            "spark-3.3.0-bin-hadoop3/python/pyspark/ml/tests/test_stat.py\n",
            "spark-3.3.0-bin-hadoop3/python/pyspark/ml/tests/test_base.py\n",
            "spark-3.3.0-bin-hadoop3/python/pyspark/ml/_typing.pyi\n",
            "spark-3.3.0-bin-hadoop3/python/pyspark/ml/functions.py\n",
            "spark-3.3.0-bin-hadoop3/python/pyspark/ml/tuning.py\n",
            "spark-3.3.0-bin-hadoop3/python/pyspark/ml/pipeline.py\n",
            "spark-3.3.0-bin-hadoop3/python/pyspark/ml/base.py\n",
            "spark-3.3.0-bin-hadoop3/python/pyspark/ml/feature.py\n",
            "spark-3.3.0-bin-hadoop3/python/pyspark/ml/__init__.py\n",
            "spark-3.3.0-bin-hadoop3/python/pyspark/ml/stat.py\n",
            "spark-3.3.0-bin-hadoop3/python/pyspark/ml/image.py\n",
            "spark-3.3.0-bin-hadoop3/python/pyspark/ml/classification.py\n",
            "spark-3.3.0-bin-hadoop3/python/pyspark/ml/recommendation.py\n",
            "spark-3.3.0-bin-hadoop3/python/pyspark/ml/regression.py\n",
            "spark-3.3.0-bin-hadoop3/python/pyspark/ml/param/\n",
            "spark-3.3.0-bin-hadoop3/python/pyspark/ml/param/_shared_params_code_gen.py\n",
            "spark-3.3.0-bin-hadoop3/python/pyspark/ml/param/__init__.py\n",
            "spark-3.3.0-bin-hadoop3/python/pyspark/ml/param/shared.py\n",
            "spark-3.3.0-bin-hadoop3/python/pyspark/ml/tree.py\n",
            "spark-3.3.0-bin-hadoop3/python/pyspark/ml/fpm.py\n",
            "spark-3.3.0-bin-hadoop3/python/pyspark/ml/wrapper.py\n",
            "spark-3.3.0-bin-hadoop3/python/pyspark/ml/clustering.py\n",
            "spark-3.3.0-bin-hadoop3/python/pyspark/ml/common.py\n",
            "spark-3.3.0-bin-hadoop3/python/pyspark/ml/linalg/\n",
            "spark-3.3.0-bin-hadoop3/python/pyspark/ml/linalg/__init__.py\n",
            "spark-3.3.0-bin-hadoop3/python/pyspark/ml/evaluation.py\n",
            "spark-3.3.0-bin-hadoop3/python/pyspark/ml/util.py\n",
            "spark-3.3.0-bin-hadoop3/python/pyspark/find_spark_home.py\n",
            "spark-3.3.0-bin-hadoop3/python/pyspark/serializers.py\n",
            "spark-3.3.0-bin-hadoop3/python/pyspark/java_gateway.py\n",
            "spark-3.3.0-bin-hadoop3/python/pyspark/traceback_utils.py\n",
            "spark-3.3.0-bin-hadoop3/python/pyspark/resource/\n",
            "spark-3.3.0-bin-hadoop3/python/pyspark/resource/tests/\n",
            "spark-3.3.0-bin-hadoop3/python/pyspark/resource/tests/__init__.py\n",
            "spark-3.3.0-bin-hadoop3/python/pyspark/resource/tests/test_resources.py\n",
            "spark-3.3.0-bin-hadoop3/python/pyspark/resource/profile.py\n",
            "spark-3.3.0-bin-hadoop3/python/pyspark/resource/__init__.py\n",
            "spark-3.3.0-bin-hadoop3/python/pyspark/resource/information.py\n",
            "spark-3.3.0-bin-hadoop3/python/pyspark/resource/requests.py\n",
            "spark-3.3.0-bin-hadoop3/python/pyspark/conf.py\n",
            "spark-3.3.0-bin-hadoop3/python/pyspark/__init__.py\n",
            "spark-3.3.0-bin-hadoop3/python/pyspark/__pycache__/\n",
            "spark-3.3.0-bin-hadoop3/python/pyspark/__pycache__/install.cpython-38.pyc\n",
            "spark-3.3.0-bin-hadoop3/python/pyspark/mllib/\n",
            "spark-3.3.0-bin-hadoop3/python/pyspark/mllib/tests/\n",
            "spark-3.3.0-bin-hadoop3/python/pyspark/mllib/tests/test_algorithms.py\n",
            "spark-3.3.0-bin-hadoop3/python/pyspark/mllib/tests/test_streaming_algorithms.py\n",
            "spark-3.3.0-bin-hadoop3/python/pyspark/mllib/tests/test_util.py\n",
            "spark-3.3.0-bin-hadoop3/python/pyspark/mllib/tests/test_feature.py\n",
            "spark-3.3.0-bin-hadoop3/python/pyspark/mllib/tests/__init__.py\n",
            "spark-3.3.0-bin-hadoop3/python/pyspark/mllib/tests/test_linalg.py\n",
            "spark-3.3.0-bin-hadoop3/python/pyspark/mllib/tests/test_stat.py\n",
            "spark-3.3.0-bin-hadoop3/python/pyspark/mllib/_typing.pyi\n",
            "spark-3.3.0-bin-hadoop3/python/pyspark/mllib/recommendation.pyi\n",
            "spark-3.3.0-bin-hadoop3/python/pyspark/mllib/feature.py\n",
            "spark-3.3.0-bin-hadoop3/python/pyspark/mllib/__init__.py\n",
            "spark-3.3.0-bin-hadoop3/python/pyspark/mllib/classification.py\n",
            "spark-3.3.0-bin-hadoop3/python/pyspark/mllib/random.pyi\n",
            "spark-3.3.0-bin-hadoop3/python/pyspark/mllib/recommendation.py\n",
            "spark-3.3.0-bin-hadoop3/python/pyspark/mllib/regression.py\n",
            "spark-3.3.0-bin-hadoop3/python/pyspark/mllib/tree.py\n",
            "spark-3.3.0-bin-hadoop3/python/pyspark/mllib/fpm.py\n",
            "spark-3.3.0-bin-hadoop3/python/pyspark/mllib/random.py\n",
            "spark-3.3.0-bin-hadoop3/python/pyspark/mllib/stat/\n",
            "spark-3.3.0-bin-hadoop3/python/pyspark/mllib/stat/distribution.py\n",
            "spark-3.3.0-bin-hadoop3/python/pyspark/mllib/stat/__init__.py\n",
            "spark-3.3.0-bin-hadoop3/python/pyspark/mllib/stat/KernelDensity.py\n",
            "spark-3.3.0-bin-hadoop3/python/pyspark/mllib/stat/test.py\n",
            "spark-3.3.0-bin-hadoop3/python/pyspark/mllib/stat/_statistics.py\n",
            "spark-3.3.0-bin-hadoop3/python/pyspark/mllib/clustering.py\n",
            "spark-3.3.0-bin-hadoop3/python/pyspark/mllib/common.py\n",
            "spark-3.3.0-bin-hadoop3/python/pyspark/mllib/linalg/\n",
            "spark-3.3.0-bin-hadoop3/python/pyspark/mllib/linalg/__init__.py\n",
            "spark-3.3.0-bin-hadoop3/python/pyspark/mllib/linalg/distributed.py\n",
            "spark-3.3.0-bin-hadoop3/python/pyspark/mllib/evaluation.py\n",
            "spark-3.3.0-bin-hadoop3/python/pyspark/mllib/util.py\n",
            "spark-3.3.0-bin-hadoop3/python/pyspark/resultiterable.py\n",
            "spark-3.3.0-bin-hadoop3/python/pyspark/profiler.py\n",
            "spark-3.3.0-bin-hadoop3/python/pyspark/statcounter.py\n",
            "spark-3.3.0-bin-hadoop3/python/pyspark/join.py\n",
            "spark-3.3.0-bin-hadoop3/python/pyspark/daemon.py\n",
            "spark-3.3.0-bin-hadoop3/python/pyspark/rdd.py\n",
            "spark-3.3.0-bin-hadoop3/python/pyspark/context.py\n",
            "spark-3.3.0-bin-hadoop3/python/pyspark/instrumentation_utils.py\n",
            "spark-3.3.0-bin-hadoop3/python/pyspark/cloudpickle/\n",
            "spark-3.3.0-bin-hadoop3/python/pyspark/cloudpickle/cloudpickle_fast.py\n",
            "spark-3.3.0-bin-hadoop3/python/pyspark/cloudpickle/__init__.py\n",
            "spark-3.3.0-bin-hadoop3/python/pyspark/cloudpickle/compat.py\n",
            "spark-3.3.0-bin-hadoop3/python/pyspark/cloudpickle/cloudpickle.py\n",
            "spark-3.3.0-bin-hadoop3/python/pyspark/version.py\n",
            "spark-3.3.0-bin-hadoop3/python/pyspark/py.typed\n",
            "spark-3.3.0-bin-hadoop3/python/pyspark/files.py\n",
            "spark-3.3.0-bin-hadoop3/python/pyspark/worker.py\n",
            "spark-3.3.0-bin-hadoop3/python/pyspark/shell.py\n",
            "spark-3.3.0-bin-hadoop3/python/pyspark/streaming/\n",
            "spark-3.3.0-bin-hadoop3/python/pyspark/streaming/tests/\n",
            "spark-3.3.0-bin-hadoop3/python/pyspark/streaming/tests/test_listener.py\n",
            "spark-3.3.0-bin-hadoop3/python/pyspark/streaming/tests/test_kinesis.py\n",
            "spark-3.3.0-bin-hadoop3/python/pyspark/streaming/tests/__init__.py\n",
            "spark-3.3.0-bin-hadoop3/python/pyspark/streaming/tests/test_dstream.py\n",
            "spark-3.3.0-bin-hadoop3/python/pyspark/streaming/tests/test_context.py\n",
            "spark-3.3.0-bin-hadoop3/python/pyspark/streaming/dstream.py\n",
            "spark-3.3.0-bin-hadoop3/python/pyspark/streaming/__init__.py\n",
            "spark-3.3.0-bin-hadoop3/python/pyspark/streaming/kinesis.py\n",
            "spark-3.3.0-bin-hadoop3/python/pyspark/streaming/listener.py\n",
            "spark-3.3.0-bin-hadoop3/python/pyspark/streaming/context.py\n",
            "spark-3.3.0-bin-hadoop3/python/pyspark/streaming/util.py\n",
            "spark-3.3.0-bin-hadoop3/python/pyspark/status.py\n",
            "spark-3.3.0-bin-hadoop3/python/pyspark/sql/\n",
            "spark-3.3.0-bin-hadoop3/python/pyspark/sql/tests/\n",
            "spark-3.3.0-bin-hadoop3/python/pyspark/sql/tests/test_functions.py\n",
            "spark-3.3.0-bin-hadoop3/python/pyspark/sql/tests/test_readwriter.py\n",
            "spark-3.3.0-bin-hadoop3/python/pyspark/sql/tests/test_utils.py\n",
            "spark-3.3.0-bin-hadoop3/python/pyspark/sql/tests/test_pandas_grouped_map.py\n",
            "spark-3.3.0-bin-hadoop3/python/pyspark/sql/tests/test_dataframe.py\n",
            "spark-3.3.0-bin-hadoop3/python/pyspark/sql/tests/test_pandas_map.py\n",
            "spark-3.3.0-bin-hadoop3/python/pyspark/sql/tests/test_udf.py\n",
            "spark-3.3.0-bin-hadoop3/python/pyspark/sql/tests/test_streaming.py\n",
            "spark-3.3.0-bin-hadoop3/python/pyspark/sql/tests/__init__.py\n",
            "spark-3.3.0-bin-hadoop3/python/pyspark/sql/tests/test_serde.py\n",
            "spark-3.3.0-bin-hadoop3/python/pyspark/sql/tests/test_pandas_udf_window.py\n",
            "spark-3.3.0-bin-hadoop3/python/pyspark/sql/tests/test_group.py\n",
            "spark-3.3.0-bin-hadoop3/python/pyspark/sql/tests/test_pandas_udf.py\n",
            "spark-3.3.0-bin-hadoop3/python/pyspark/sql/tests/test_pandas_cogrouped_map.py\n",
            "spark-3.3.0-bin-hadoop3/python/pyspark/sql/tests/test_pandas_udf_grouped_agg.py\n",
            "spark-3.3.0-bin-hadoop3/python/pyspark/sql/tests/test_pandas_udf_scalar.py\n",
            "spark-3.3.0-bin-hadoop3/python/pyspark/sql/tests/typing/\n",
            "spark-3.3.0-bin-hadoop3/python/pyspark/sql/tests/typing/test_column.yml\n",
            "spark-3.3.0-bin-hadoop3/python/pyspark/sql/tests/typing/test_session.yml\n",
            "spark-3.3.0-bin-hadoop3/python/pyspark/sql/tests/typing/test_dataframe.yml\n",
            "spark-3.3.0-bin-hadoop3/python/pyspark/sql/tests/typing/test_functions.yml\n",
            "spark-3.3.0-bin-hadoop3/python/pyspark/sql/tests/typing/test_readwriter.yml\n",
            "spark-3.3.0-bin-hadoop3/python/pyspark/sql/tests/typing/test_udf.yml\n",
            "spark-3.3.0-bin-hadoop3/python/pyspark/sql/tests/test_udf_profiler.py\n",
            "spark-3.3.0-bin-hadoop3/python/pyspark/sql/tests/test_pandas_udf_typehints_with_future_annotations.py\n",
            "spark-3.3.0-bin-hadoop3/python/pyspark/sql/tests/test_catalog.py\n",
            "spark-3.3.0-bin-hadoop3/python/pyspark/sql/tests/test_datasources.py\n",
            "spark-3.3.0-bin-hadoop3/python/pyspark/sql/tests/test_pandas_udf_typehints.py\n",
            "spark-3.3.0-bin-hadoop3/python/pyspark/sql/tests/test_arrow_map.py\n",
            "spark-3.3.0-bin-hadoop3/python/pyspark/sql/tests/test_types.py\n",
            "spark-3.3.0-bin-hadoop3/python/pyspark/sql/tests/test_column.py\n",
            "spark-3.3.0-bin-hadoop3/python/pyspark/sql/tests/test_context.py\n",
            "spark-3.3.0-bin-hadoop3/python/pyspark/sql/tests/test_conf.py\n",
            "spark-3.3.0-bin-hadoop3/python/pyspark/sql/tests/test_arrow.py\n",
            "spark-3.3.0-bin-hadoop3/python/pyspark/sql/tests/test_session.py\n",
            "spark-3.3.0-bin-hadoop3/python/pyspark/sql/pandas/\n",
            "spark-3.3.0-bin-hadoop3/python/pyspark/sql/pandas/functions.py\n",
            "spark-3.3.0-bin-hadoop3/python/pyspark/sql/pandas/serializers.py\n",
            "spark-3.3.0-bin-hadoop3/python/pyspark/sql/pandas/__init__.py\n",
            "spark-3.3.0-bin-hadoop3/python/pyspark/sql/pandas/typehints.py\n",
            "spark-3.3.0-bin-hadoop3/python/pyspark/sql/pandas/map_ops.py\n",
            "spark-3.3.0-bin-hadoop3/python/pyspark/sql/pandas/types.py\n",
            "spark-3.3.0-bin-hadoop3/python/pyspark/sql/pandas/group_ops.py\n",
            "spark-3.3.0-bin-hadoop3/python/pyspark/sql/pandas/functions.pyi\n",
            "spark-3.3.0-bin-hadoop3/python/pyspark/sql/pandas/utils.py\n",
            "spark-3.3.0-bin-hadoop3/python/pyspark/sql/pandas/conversion.py\n",
            "spark-3.3.0-bin-hadoop3/python/pyspark/sql/pandas/_typing/\n",
            "spark-3.3.0-bin-hadoop3/python/pyspark/sql/pandas/_typing/__init__.pyi\n",
            "spark-3.3.0-bin-hadoop3/python/pyspark/sql/pandas/_typing/protocols/\n",
            "spark-3.3.0-bin-hadoop3/python/pyspark/sql/pandas/_typing/protocols/__init__.pyi\n",
            "spark-3.3.0-bin-hadoop3/python/pyspark/sql/pandas/_typing/protocols/series.pyi\n",
            "spark-3.3.0-bin-hadoop3/python/pyspark/sql/pandas/_typing/protocols/frame.pyi\n",
            "spark-3.3.0-bin-hadoop3/python/pyspark/sql/_typing.pyi\n",
            "spark-3.3.0-bin-hadoop3/python/pyspark/sql/functions.py\n",
            "spark-3.3.0-bin-hadoop3/python/pyspark/sql/readwriter.py\n",
            "spark-3.3.0-bin-hadoop3/python/pyspark/sql/catalog.py\n",
            "spark-3.3.0-bin-hadoop3/python/pyspark/sql/sql_formatter.py\n",
            "spark-3.3.0-bin-hadoop3/python/pyspark/sql/window.py\n",
            "spark-3.3.0-bin-hadoop3/python/pyspark/sql/udf.py\n",
            "spark-3.3.0-bin-hadoop3/python/pyspark/sql/conf.py\n",
            "spark-3.3.0-bin-hadoop3/python/pyspark/sql/__init__.py\n",
            "spark-3.3.0-bin-hadoop3/python/pyspark/sql/session.py\n",
            "spark-3.3.0-bin-hadoop3/python/pyspark/sql/column.py\n",
            "spark-3.3.0-bin-hadoop3/python/pyspark/sql/group.py\n",
            "spark-3.3.0-bin-hadoop3/python/pyspark/sql/context.py\n",
            "spark-3.3.0-bin-hadoop3/python/pyspark/sql/types.py\n",
            "spark-3.3.0-bin-hadoop3/python/pyspark/sql/observation.py\n",
            "spark-3.3.0-bin-hadoop3/python/pyspark/sql/dataframe.py\n",
            "spark-3.3.0-bin-hadoop3/python/pyspark/sql/avro/\n",
            "spark-3.3.0-bin-hadoop3/python/pyspark/sql/avro/functions.py\n",
            "spark-3.3.0-bin-hadoop3/python/pyspark/sql/avro/__init__.py\n",
            "spark-3.3.0-bin-hadoop3/python/pyspark/sql/utils.py\n",
            "spark-3.3.0-bin-hadoop3/python/pyspark/sql/streaming.py\n",
            "spark-3.3.0-bin-hadoop3/python/pyspark/python/\n",
            "spark-3.3.0-bin-hadoop3/python/pyspark/python/pyspark/\n",
            "spark-3.3.0-bin-hadoop3/python/pyspark/python/pyspark/shell.py\n",
            "spark-3.3.0-bin-hadoop3/python/pyspark/shuffle.py\n",
            "spark-3.3.0-bin-hadoop3/python/pyspark/taskcontext.py\n",
            "spark-3.3.0-bin-hadoop3/python/pyspark/_globals.py\n",
            "spark-3.3.0-bin-hadoop3/python/pyspark/broadcast.py\n",
            "spark-3.3.0-bin-hadoop3/python/pyspark/util.py\n",
            "spark-3.3.0-bin-hadoop3/python/pyspark/storagelevel.py\n",
            "spark-3.3.0-bin-hadoop3/python/.coveragerc\n",
            "spark-3.3.0-bin-hadoop3/python/docs/\n",
            "spark-3.3.0-bin-hadoop3/python/docs/make2.bat\n",
            "spark-3.3.0-bin-hadoop3/python/docs/source/\n",
            "spark-3.3.0-bin-hadoop3/python/docs/source/reference/\n",
            "spark-3.3.0-bin-hadoop3/python/docs/source/reference/pyspark.sql/\n",
            "spark-3.3.0-bin-hadoop3/python/docs/source/reference/pyspark.sql/configuration.rst\n",
            "spark-3.3.0-bin-hadoop3/python/docs/source/reference/pyspark.sql/window.rst\n",
            "spark-3.3.0-bin-hadoop3/python/docs/source/reference/pyspark.sql/spark_session.rst\n",
            "spark-3.3.0-bin-hadoop3/python/docs/source/reference/pyspark.sql/index.rst\n",
            "spark-3.3.0-bin-hadoop3/python/docs/source/reference/pyspark.sql/grouping.rst\n",
            "spark-3.3.0-bin-hadoop3/python/docs/source/reference/pyspark.sql/catalog.rst\n",
            "spark-3.3.0-bin-hadoop3/python/docs/source/reference/pyspark.sql/column.rst\n",
            "spark-3.3.0-bin-hadoop3/python/docs/source/reference/pyspark.sql/io.rst\n",
            "spark-3.3.0-bin-hadoop3/python/docs/source/reference/pyspark.sql/observation.rst\n",
            "spark-3.3.0-bin-hadoop3/python/docs/source/reference/pyspark.sql/core_classes.rst\n",
            "spark-3.3.0-bin-hadoop3/python/docs/source/reference/pyspark.sql/row.rst\n",
            "spark-3.3.0-bin-hadoop3/python/docs/source/reference/pyspark.sql/avro.rst\n",
            "spark-3.3.0-bin-hadoop3/python/docs/source/reference/pyspark.sql/functions.rst\n",
            "spark-3.3.0-bin-hadoop3/python/docs/source/reference/pyspark.sql/dataframe.rst\n",
            "spark-3.3.0-bin-hadoop3/python/docs/source/reference/pyspark.sql/data_types.rst\n",
            "spark-3.3.0-bin-hadoop3/python/docs/source/reference/index.rst\n",
            "spark-3.3.0-bin-hadoop3/python/docs/source/reference/pyspark.ml.rst\n",
            "spark-3.3.0-bin-hadoop3/python/docs/source/reference/pyspark.rst\n",
            "spark-3.3.0-bin-hadoop3/python/docs/source/reference/pyspark.ss/\n",
            "spark-3.3.0-bin-hadoop3/python/docs/source/reference/pyspark.ss/index.rst\n",
            "spark-3.3.0-bin-hadoop3/python/docs/source/reference/pyspark.ss/query_management.rst\n",
            "spark-3.3.0-bin-hadoop3/python/docs/source/reference/pyspark.ss/io.rst\n",
            "spark-3.3.0-bin-hadoop3/python/docs/source/reference/pyspark.ss/core_classes.rst\n",
            "spark-3.3.0-bin-hadoop3/python/docs/source/reference/pyspark.pandas/\n",
            "spark-3.3.0-bin-hadoop3/python/docs/source/reference/pyspark.pandas/window.rst\n",
            "spark-3.3.0-bin-hadoop3/python/docs/source/reference/pyspark.pandas/index.rst\n",
            "spark-3.3.0-bin-hadoop3/python/docs/source/reference/pyspark.pandas/extensions.rst\n",
            "spark-3.3.0-bin-hadoop3/python/docs/source/reference/pyspark.pandas/ml.rst\n",
            "spark-3.3.0-bin-hadoop3/python/docs/source/reference/pyspark.pandas/frame.rst\n",
            "spark-3.3.0-bin-hadoop3/python/docs/source/reference/pyspark.pandas/io.rst\n",
            "spark-3.3.0-bin-hadoop3/python/docs/source/reference/pyspark.pandas/series.rst\n",
            "spark-3.3.0-bin-hadoop3/python/docs/source/reference/pyspark.pandas/indexing.rst\n",
            "spark-3.3.0-bin-hadoop3/python/docs/source/reference/pyspark.pandas/general_functions.rst\n",
            "spark-3.3.0-bin-hadoop3/python/docs/source/reference/pyspark.pandas/groupby.rst\n",
            "spark-3.3.0-bin-hadoop3/python/docs/source/reference/pyspark.mllib.rst\n",
            "spark-3.3.0-bin-hadoop3/python/docs/source/reference/pyspark.streaming.rst\n",
            "spark-3.3.0-bin-hadoop3/python/docs/source/reference/pyspark.resource.rst\n",
            "spark-3.3.0-bin-hadoop3/python/docs/source/index.rst\n",
            "spark-3.3.0-bin-hadoop3/python/docs/source/getting_started/\n",
            "spark-3.3.0-bin-hadoop3/python/docs/source/getting_started/index.rst\n",
            "spark-3.3.0-bin-hadoop3/python/docs/source/getting_started/quickstart_ps.ipynb\n",
            "spark-3.3.0-bin-hadoop3/python/docs/source/getting_started/quickstart_df.ipynb\n",
            "spark-3.3.0-bin-hadoop3/python/docs/source/getting_started/install.rst\n",
            "spark-3.3.0-bin-hadoop3/python/docs/source/conf.py\n",
            "spark-3.3.0-bin-hadoop3/python/docs/source/_templates/\n",
            "spark-3.3.0-bin-hadoop3/python/docs/source/_templates/autosummary/\n",
            "spark-3.3.0-bin-hadoop3/python/docs/source/_templates/autosummary/class.rst\n",
            "spark-3.3.0-bin-hadoop3/python/docs/source/_templates/autosummary/class_with_docs.rst\n",
            "spark-3.3.0-bin-hadoop3/python/docs/source/_static/\n",
            "spark-3.3.0-bin-hadoop3/python/docs/source/_static/copybutton.js\n",
            "spark-3.3.0-bin-hadoop3/python/docs/source/_static/css/\n",
            "spark-3.3.0-bin-hadoop3/python/docs/source/_static/css/pyspark.css\n",
            "spark-3.3.0-bin-hadoop3/python/docs/source/development/\n",
            "spark-3.3.0-bin-hadoop3/python/docs/source/development/setting_ide.rst\n",
            "spark-3.3.0-bin-hadoop3/python/docs/source/development/index.rst\n",
            "spark-3.3.0-bin-hadoop3/python/docs/source/development/debugging.rst\n",
            "spark-3.3.0-bin-hadoop3/python/docs/source/development/testing.rst\n",
            "spark-3.3.0-bin-hadoop3/python/docs/source/development/contributing.rst\n",
            "spark-3.3.0-bin-hadoop3/python/docs/source/user_guide/\n",
            "spark-3.3.0-bin-hadoop3/python/docs/source/user_guide/arrow_pandas.rst\n",
            "spark-3.3.0-bin-hadoop3/python/docs/source/user_guide/index.rst\n",
            "spark-3.3.0-bin-hadoop3/python/docs/source/user_guide/pandas_on_spark/\n",
            "spark-3.3.0-bin-hadoop3/python/docs/source/user_guide/pandas_on_spark/types.rst\n",
            "spark-3.3.0-bin-hadoop3/python/docs/source/user_guide/pandas_on_spark/best_practices.rst\n",
            "spark-3.3.0-bin-hadoop3/python/docs/source/user_guide/pandas_on_spark/options.rst\n",
            "spark-3.3.0-bin-hadoop3/python/docs/source/user_guide/pandas_on_spark/pandas_pyspark.rst\n",
            "spark-3.3.0-bin-hadoop3/python/docs/source/user_guide/pandas_on_spark/index.rst\n",
            "spark-3.3.0-bin-hadoop3/python/docs/source/user_guide/pandas_on_spark/typehints.rst\n",
            "spark-3.3.0-bin-hadoop3/python/docs/source/user_guide/pandas_on_spark/transform_apply.rst\n",
            "spark-3.3.0-bin-hadoop3/python/docs/source/user_guide/pandas_on_spark/supported_pandas_api.rst\n",
            "spark-3.3.0-bin-hadoop3/python/docs/source/user_guide/pandas_on_spark/from_to_dbms.rst\n",
            "spark-3.3.0-bin-hadoop3/python/docs/source/user_guide/pandas_on_spark/faq.rst\n",
            "spark-3.3.0-bin-hadoop3/python/docs/source/user_guide/python_packaging.rst\n",
            "spark-3.3.0-bin-hadoop3/python/docs/source/user_guide/sql/\n",
            "spark-3.3.0-bin-hadoop3/python/docs/source/user_guide/sql/arrow_pandas.rst\n",
            "spark-3.3.0-bin-hadoop3/python/docs/source/user_guide/sql/index.rst\n",
            "spark-3.3.0-bin-hadoop3/python/docs/source/migration_guide/\n",
            "spark-3.3.0-bin-hadoop3/python/docs/source/migration_guide/pyspark_2.3.0_to_2.3.1_above.rst\n",
            "spark-3.3.0-bin-hadoop3/python/docs/source/migration_guide/index.rst\n",
            "spark-3.3.0-bin-hadoop3/python/docs/source/migration_guide/pyspark_2.4_to_3.0.rst\n",
            "spark-3.3.0-bin-hadoop3/python/docs/source/migration_guide/pyspark_1.0_1.2_to_1.3.rst\n",
            "spark-3.3.0-bin-hadoop3/python/docs/source/migration_guide/pyspark_3.2_to_3.3.rst\n",
            "spark-3.3.0-bin-hadoop3/python/docs/source/migration_guide/pyspark_2.3_to_2.4.rst\n",
            "spark-3.3.0-bin-hadoop3/python/docs/source/migration_guide/koalas_to_pyspark.rst\n",
            "spark-3.3.0-bin-hadoop3/python/docs/source/migration_guide/pyspark_1.4_to_1.5.rst\n",
            "spark-3.3.0-bin-hadoop3/python/docs/source/migration_guide/pyspark_2.2_to_2.3.rst\n",
            "spark-3.3.0-bin-hadoop3/python/docs/source/migration_guide/pyspark_3.1_to_3.2.rst\n",
            "spark-3.3.0-bin-hadoop3/python/docs/make.bat\n",
            "spark-3.3.0-bin-hadoop3/python/docs/Makefile\n",
            "spark-3.3.0-bin-hadoop3/python/lib/\n",
            "spark-3.3.0-bin-hadoop3/python/lib/PY4J_LICENSE.txt\n",
            "spark-3.3.0-bin-hadoop3/python/lib/py4j-0.10.9.5-src.zip\n",
            "spark-3.3.0-bin-hadoop3/python/lib/pyspark.zip\n",
            "spark-3.3.0-bin-hadoop3/python/run-tests\n",
            "spark-3.3.0-bin-hadoop3/python/setup.cfg\n",
            "spark-3.3.0-bin-hadoop3/python/dist/\n",
            "spark-3.3.0-bin-hadoop3/python/pyspark.egg-info/\n",
            "spark-3.3.0-bin-hadoop3/python/pyspark.egg-info/dependency_links.txt\n",
            "spark-3.3.0-bin-hadoop3/python/pyspark.egg-info/PKG-INFO\n",
            "spark-3.3.0-bin-hadoop3/python/pyspark.egg-info/top_level.txt\n",
            "spark-3.3.0-bin-hadoop3/python/pyspark.egg-info/requires.txt\n",
            "spark-3.3.0-bin-hadoop3/python/pyspark.egg-info/SOURCES.txt\n",
            "spark-3.3.0-bin-hadoop3/licenses/\n",
            "spark-3.3.0-bin-hadoop3/licenses/LICENSE-respond.txt\n",
            "spark-3.3.0-bin-hadoop3/licenses/LICENSE-sbt-launch-lib.txt\n",
            "spark-3.3.0-bin-hadoop3/licenses/LICENSE-antlr.txt\n",
            "spark-3.3.0-bin-hadoop3/licenses/LICENSE-dagre-d3.txt\n",
            "spark-3.3.0-bin-hadoop3/licenses/LICENSE-pyrolite.txt\n",
            "spark-3.3.0-bin-hadoop3/licenses/LICENSE-sorttable.js.txt\n",
            "spark-3.3.0-bin-hadoop3/licenses/LICENSE-janino.txt\n",
            "spark-3.3.0-bin-hadoop3/licenses/LICENSE-protobuf.txt\n",
            "spark-3.3.0-bin-hadoop3/licenses/LICENSE-jquery.txt\n",
            "spark-3.3.0-bin-hadoop3/licenses/LICENSE-scopt.txt\n",
            "spark-3.3.0-bin-hadoop3/licenses/LICENSE-netlib.txt\n",
            "spark-3.3.0-bin-hadoop3/licenses/LICENSE-d3.min.js.txt\n",
            "spark-3.3.0-bin-hadoop3/licenses/LICENSE-graphlib-dot.txt\n",
            "spark-3.3.0-bin-hadoop3/licenses/LICENSE-AnchorJS.txt\n",
            "spark-3.3.0-bin-hadoop3/licenses/LICENSE-datatables.txt\n",
            "spark-3.3.0-bin-hadoop3/licenses/LICENSE-pmml-model.txt\n",
            "spark-3.3.0-bin-hadoop3/licenses/LICENSE-paranamer.txt\n",
            "spark-3.3.0-bin-hadoop3/licenses/LICENSE-jakarta-ws-rs-api\n",
            "spark-3.3.0-bin-hadoop3/licenses/LICENSE-dnsjava.txt\n",
            "spark-3.3.0-bin-hadoop3/licenses/LICENSE-jakarta.xml.bind-api.txt\n",
            "spark-3.3.0-bin-hadoop3/licenses/LICENSE-jakarta-annotation-api\n",
            "spark-3.3.0-bin-hadoop3/licenses/LICENSE-CC0.txt\n",
            "spark-3.3.0-bin-hadoop3/licenses/LICENSE-jodd.txt\n",
            "spark-3.3.0-bin-hadoop3/licenses/LICENSE-f2j.txt\n",
            "spark-3.3.0-bin-hadoop3/licenses/LICENSE-machinist.txt\n",
            "spark-3.3.0-bin-hadoop3/licenses/LICENSE-javolution.txt\n",
            "spark-3.3.0-bin-hadoop3/licenses/LICENSE-modernizr.txt\n",
            "spark-3.3.0-bin-hadoop3/licenses/LICENSE-spire.txt\n",
            "spark-3.3.0-bin-hadoop3/licenses/LICENSE-leveldbjni.txt\n",
            "spark-3.3.0-bin-hadoop3/licenses/LICENSE-join.txt\n",
            "spark-3.3.0-bin-hadoop3/licenses/LICENSE-zstd-jni.txt\n",
            "spark-3.3.0-bin-hadoop3/licenses/LICENSE-slf4j.txt\n",
            "spark-3.3.0-bin-hadoop3/licenses/LICENSE-arpack.txt\n",
            "spark-3.3.0-bin-hadoop3/licenses/LICENSE-jsp-api.txt\n",
            "spark-3.3.0-bin-hadoop3/licenses/LICENSE-JTransforms.txt\n",
            "spark-3.3.0-bin-hadoop3/licenses/LICENSE-JLargeArrays.txt\n",
            "spark-3.3.0-bin-hadoop3/licenses/LICENSE-bootstrap.txt\n",
            "spark-3.3.0-bin-hadoop3/licenses/LICENSE-reflectasm.txt\n",
            "spark-3.3.0-bin-hadoop3/licenses/LICENSE-javassist.html\n",
            "spark-3.3.0-bin-hadoop3/licenses/LICENSE-zstd.txt\n",
            "spark-3.3.0-bin-hadoop3/licenses/LICENSE-json-formatter.txt\n",
            "spark-3.3.0-bin-hadoop3/licenses/LICENSE-matchMedia-polyfill.txt\n",
            "spark-3.3.0-bin-hadoop3/licenses/LICENSE-scala.txt\n",
            "spark-3.3.0-bin-hadoop3/licenses/LICENSE-jakarta.activation-api.txt\n",
            "spark-3.3.0-bin-hadoop3/licenses/LICENSE-automaton.txt\n",
            "spark-3.3.0-bin-hadoop3/licenses/LICENSE-javax-transaction-transaction-api.txt\n",
            "spark-3.3.0-bin-hadoop3/licenses/LICENSE-jaxb-runtime.txt\n",
            "spark-3.3.0-bin-hadoop3/licenses/LICENSE-minlog.txt\n",
            "spark-3.3.0-bin-hadoop3/licenses/LICENSE-mustache.txt\n",
            "spark-3.3.0-bin-hadoop3/licenses/LICENSE-xmlenc.txt\n",
            "spark-3.3.0-bin-hadoop3/licenses/LICENSE-jline.txt\n",
            "spark-3.3.0-bin-hadoop3/licenses/LICENSE-istack-commons-runtime.txt\n",
            "spark-3.3.0-bin-hadoop3/licenses/LICENSE-py4j.txt\n",
            "spark-3.3.0-bin-hadoop3/licenses/LICENSE-vis-timeline.txt\n",
            "spark-3.3.0-bin-hadoop3/licenses/LICENSE-blas.txt\n",
            "spark-3.3.0-bin-hadoop3/licenses/LICENSE-re2j.txt\n",
            "spark-3.3.0-bin-hadoop3/licenses/LICENSE-kryo.txt\n",
            "spark-3.3.0-bin-hadoop3/licenses/LICENSE-cloudpickle.txt\n"
          ]
        }
      ]
    },
    {
      "cell_type": "code",
      "source": [
        "!ls"
      ],
      "metadata": {
        "colab": {
          "base_uri": "https://localhost:8080/"
        },
        "id": "d0aLI5_MXFq7",
        "outputId": "e46e1842-76fd-414d-d076-ab2a718f9784"
      },
      "execution_count": null,
      "outputs": [
        {
          "output_type": "stream",
          "name": "stdout",
          "text": [
            "retailstore.csv  spark-3.3.0-bin-hadoop3\n",
            "sample_data\t spark-3.3.0-bin-hadoop3.tgz\n"
          ]
        }
      ]
    },
    {
      "cell_type": "code",
      "source": [
        "!ls spark-3.3.0-bin-hadoop3"
      ],
      "metadata": {
        "colab": {
          "base_uri": "https://localhost:8080/"
        },
        "id": "5rCIbmgTXMt_",
        "outputId": "9c92c19c-4606-44b9-feb2-8ccc7b4e0cf7"
      },
      "execution_count": 3,
      "outputs": [
        {
          "output_type": "stream",
          "name": "stdout",
          "text": [
            "bin   data\tjars\t    LICENSE   NOTICE  R\t\t RELEASE  yarn\n",
            "conf  examples\tkubernetes  licenses  python  README.md  sbin\n"
          ]
        }
      ]
    },
    {
      "cell_type": "code",
      "source": [
        "import os"
      ],
      "metadata": {
        "id": "yn7IxQasXUMN"
      },
      "execution_count": 4,
      "outputs": []
    },
    {
      "cell_type": "code",
      "source": [
        "!pip install findspark"
      ],
      "metadata": {
        "colab": {
          "base_uri": "https://localhost:8080/"
        },
        "id": "re5aJM94Xc7F",
        "outputId": "d2a8efbf-5bbb-4e9a-8dc7-f5e4ea9929eb"
      },
      "execution_count": 5,
      "outputs": [
        {
          "output_type": "stream",
          "name": "stdout",
          "text": [
            "Looking in indexes: https://pypi.org/simple, https://us-python.pkg.dev/colab-wheels/public/simple/\n",
            "Collecting findspark\n",
            "  Downloading findspark-2.0.1-py2.py3-none-any.whl (4.4 kB)\n",
            "Installing collected packages: findspark\n",
            "Successfully installed findspark-2.0.1\n"
          ]
        }
      ]
    },
    {
      "cell_type": "code",
      "source": [
        "import findspark"
      ],
      "metadata": {
        "id": "ryNeb7_LXfv9"
      },
      "execution_count": 6,
      "outputs": []
    },
    {
      "cell_type": "code",
      "source": [
        "findspark.init()\n"
      ],
      "metadata": {
        "colab": {
          "base_uri": "https://localhost:8080/",
          "height": 311
        },
        "id": "HIZHAPK5XkpL",
        "outputId": "adf47d8c-facd-4746-b340-92270a86b03f"
      },
      "execution_count": 7,
      "outputs": [
        {
          "output_type": "error",
          "ename": "ValueError",
          "evalue": "ignored",
          "traceback": [
            "\u001b[0;31m---------------------------------------------------------------------------\u001b[0m",
            "\u001b[0;31mValueError\u001b[0m                                Traceback (most recent call last)",
            "\u001b[0;32m<ipython-input-7-5f9243a09cec>\u001b[0m in \u001b[0;36m<module>\u001b[0;34m()\u001b[0m\n\u001b[0;32m----> 1\u001b[0;31m \u001b[0mfindspark\u001b[0m\u001b[0;34m.\u001b[0m\u001b[0minit\u001b[0m\u001b[0;34m(\u001b[0m\u001b[0;34m)\u001b[0m\u001b[0;34m\u001b[0m\u001b[0;34m\u001b[0m\u001b[0m\n\u001b[0m",
            "\u001b[0;32m/usr/local/lib/python3.7/dist-packages/findspark.py\u001b[0m in \u001b[0;36minit\u001b[0;34m(spark_home, python_path, edit_rc, edit_profile)\u001b[0m\n\u001b[1;32m    141\u001b[0m \u001b[0;34m\u001b[0m\u001b[0m\n\u001b[1;32m    142\u001b[0m     \u001b[0;32mif\u001b[0m \u001b[0;32mnot\u001b[0m \u001b[0mspark_home\u001b[0m\u001b[0;34m:\u001b[0m\u001b[0;34m\u001b[0m\u001b[0;34m\u001b[0m\u001b[0m\n\u001b[0;32m--> 143\u001b[0;31m         \u001b[0mspark_home\u001b[0m \u001b[0;34m=\u001b[0m \u001b[0mfind\u001b[0m\u001b[0;34m(\u001b[0m\u001b[0;34m)\u001b[0m\u001b[0;34m\u001b[0m\u001b[0;34m\u001b[0m\u001b[0m\n\u001b[0m\u001b[1;32m    144\u001b[0m \u001b[0;34m\u001b[0m\u001b[0m\n\u001b[1;32m    145\u001b[0m     \u001b[0;32mif\u001b[0m \u001b[0;32mnot\u001b[0m \u001b[0mpython_path\u001b[0m\u001b[0;34m:\u001b[0m\u001b[0;34m\u001b[0m\u001b[0;34m\u001b[0m\u001b[0m\n",
            "\u001b[0;32m/usr/local/lib/python3.7/dist-packages/findspark.py\u001b[0m in \u001b[0;36mfind\u001b[0;34m()\u001b[0m\n\u001b[1;32m     45\u001b[0m     \u001b[0;32mif\u001b[0m \u001b[0;32mnot\u001b[0m \u001b[0mspark_home\u001b[0m\u001b[0;34m:\u001b[0m\u001b[0;34m\u001b[0m\u001b[0;34m\u001b[0m\u001b[0m\n\u001b[1;32m     46\u001b[0m         raise ValueError(\n\u001b[0;32m---> 47\u001b[0;31m             \u001b[0;34m\"Couldn't find Spark, make sure SPARK_HOME env is set\"\u001b[0m\u001b[0;34m\u001b[0m\u001b[0;34m\u001b[0m\u001b[0m\n\u001b[0m\u001b[1;32m     48\u001b[0m             \u001b[0;34m\" or Spark is in an expected location (e.g. from homebrew installation).\"\u001b[0m\u001b[0;34m\u001b[0m\u001b[0;34m\u001b[0m\u001b[0m\n\u001b[1;32m     49\u001b[0m         )\n",
            "\u001b[0;31mValueError\u001b[0m: Couldn't find Spark, make sure SPARK_HOME env is set or Spark is in an expected location (e.g. from homebrew installation)."
          ]
        }
      ]
    },
    {
      "cell_type": "code",
      "source": [
        "!ls /usr/lib/jvm"
      ],
      "metadata": {
        "colab": {
          "base_uri": "https://localhost:8080/"
        },
        "id": "_t8BAubkX_qy",
        "outputId": "ab96e006-dbaa-4c69-be49-294a2d925921"
      },
      "execution_count": null,
      "outputs": [
        {
          "output_type": "stream",
          "name": "stdout",
          "text": [
            "default-java  java-1.11.0-openjdk-amd64  java-11-openjdk-amd64\n"
          ]
        }
      ]
    },
    {
      "cell_type": "code",
      "source": [
        "os.environ[\"JAVA_HOME\"] = \"/usr/lib/jvm/java-11-openjdk-amd64\"\n",
        "os.environ[\"SPARK_HOME\"] = \"/content/spark-3.3.0-bin-hadoop3\""
      ],
      "metadata": {
        "id": "wJyuHSppZxYB"
      },
      "execution_count": 8,
      "outputs": []
    },
    {
      "cell_type": "code",
      "source": [
        "!ls /content/spark-3.3.0-bin-hadoop3"
      ],
      "metadata": {
        "colab": {
          "base_uri": "https://localhost:8080/"
        },
        "id": "V9nXvmwWaWHR",
        "outputId": "6e0f253a-61ec-4349-f957-7d7423e9a49a"
      },
      "execution_count": null,
      "outputs": [
        {
          "output_type": "stream",
          "name": "stdout",
          "text": [
            "bin   data\tjars\t    LICENSE   NOTICE  R\t\t RELEASE  yarn\n",
            "conf  examples\tkubernetes  licenses  python  README.md  sbin\n"
          ]
        }
      ]
    },
    {
      "cell_type": "code",
      "source": [
        "findspark.init()"
      ],
      "metadata": {
        "id": "8bRIsc0Pae9K"
      },
      "execution_count": 9,
      "outputs": []
    },
    {
      "cell_type": "code",
      "source": [
        "from pyspark.sql import SparkSession"
      ],
      "metadata": {
        "id": "MNdIgI6-apsB"
      },
      "execution_count": 10,
      "outputs": []
    },
    {
      "cell_type": "code",
      "source": [
        "spark = SparkSession.builder.master(\"local[*]\").getOrCreate()"
      ],
      "metadata": {
        "id": "1tR2ar1jauAJ"
      },
      "execution_count": 11,
      "outputs": []
    },
    {
      "cell_type": "code",
      "source": [
        "spark.read.option(\"header\",True).csv(\"retailstore.csv\").show()"
      ],
      "metadata": {
        "colab": {
          "base_uri": "https://localhost:8080/"
        },
        "id": "6VidsH0cbEb2",
        "outputId": "ffdfff88-270c-4a96-bfae-7fca0a5dfc9c"
      },
      "execution_count": null,
      "outputs": [
        {
          "output_type": "stream",
          "name": "stdout",
          "text": [
            "+----+------+------+-------+---------+\n",
            "| Age|Salary|Gender|Country|Purchased|\n",
            "+----+------+------+-------+---------+\n",
            "|  18| 20000|  Male|Germany|        N|\n",
            "|  19| 22000|Female| France|        N|\n",
            "|  20| 24000|Female|England|        N|\n",
            "|  21|  null|  Male|England|        N|\n",
            "|  22| 50000|  Male| France|        Y|\n",
            "|  23| 35000|Female|England|        N|\n",
            "|  24|  null|  Male|Germany|        N|\n",
            "|  25| 32000|Female| France|        Y|\n",
            "|null| 35000|  Male|Germany|        N|\n",
            "|  27| 37000|Female| France|        N|\n",
            "+----+------+------+-------+---------+\n",
            "\n"
          ]
        }
      ]
    },
    {
      "cell_type": "code",
      "source": [
        "a = 100"
      ],
      "metadata": {
        "id": "DUiJaJMdex7J"
      },
      "execution_count": null,
      "outputs": []
    },
    {
      "cell_type": "code",
      "source": [
        "b = 20\n"
      ],
      "metadata": {
        "id": "2GapBaoGfAui"
      },
      "execution_count": null,
      "outputs": []
    },
    {
      "cell_type": "code",
      "source": [
        "print(a + b)"
      ],
      "metadata": {
        "colab": {
          "base_uri": "https://localhost:8080/"
        },
        "id": "y09WK3HOfC-3",
        "outputId": "9f2e0ae9-5d9e-431b-e581-eff11f9f33de"
      },
      "execution_count": null,
      "outputs": [
        {
          "output_type": "stream",
          "name": "stdout",
          "text": [
            "120\n"
          ]
        }
      ]
    },
    {
      "cell_type": "code",
      "source": [
        "str1 = 'this is a'"
      ],
      "metadata": {
        "id": "AUjfay-DfF72"
      },
      "execution_count": null,
      "outputs": []
    },
    {
      "cell_type": "code",
      "source": [
        "str2 = 'new string lol'"
      ],
      "metadata": {
        "id": "-vzH2fgtfTbe"
      },
      "execution_count": null,
      "outputs": []
    },
    {
      "cell_type": "code",
      "source": [
        "print(str1 + str2)"
      ],
      "metadata": {
        "colab": {
          "base_uri": "https://localhost:8080/"
        },
        "id": "9H4c5pT-fVDF",
        "outputId": "b3b5af45-7221-4d10-9dbe-3149f9236fc0"
      },
      "execution_count": null,
      "outputs": [
        {
          "output_type": "stream",
          "name": "stdout",
          "text": [
            "this is anew string lol\n"
          ]
        }
      ]
    },
    {
      "cell_type": "code",
      "source": [
        "var_list = [1,20,80,0.30,'abc',59404404]"
      ],
      "metadata": {
        "id": "-Tru_pCrfW7d"
      },
      "execution_count": null,
      "outputs": []
    },
    {
      "cell_type": "code",
      "source": [
        "var_list[2]"
      ],
      "metadata": {
        "colab": {
          "base_uri": "https://localhost:8080/"
        },
        "id": "zr3wJkBLfw6s",
        "outputId": "29eb008b-9d5a-4554-8868-aa1e8271bfc4"
      },
      "execution_count": null,
      "outputs": [
        {
          "output_type": "execute_result",
          "data": {
            "text/plain": [
              "80"
            ]
          },
          "metadata": {},
          "execution_count": 33
        }
      ]
    },
    {
      "cell_type": "code",
      "source": [
        "print(var_list[4])"
      ],
      "metadata": {
        "colab": {
          "base_uri": "https://localhost:8080/"
        },
        "id": "A4NtaUINfygM",
        "outputId": "aba37fd4-ac17-4703-c321-b8cd1127c170"
      },
      "execution_count": null,
      "outputs": [
        {
          "output_type": "stream",
          "name": "stdout",
          "text": [
            "abc\n"
          ]
        }
      ]
    },
    {
      "cell_type": "code",
      "source": [
        "for i in range(5):\n",
        "    print(i)"
      ],
      "metadata": {
        "colab": {
          "base_uri": "https://localhost:8080/"
        },
        "id": "skrDbVHpf1tk",
        "outputId": "6cdbed2b-a39e-45b1-e241-c0c5760d19ce"
      },
      "execution_count": null,
      "outputs": [
        {
          "output_type": "stream",
          "name": "stdout",
          "text": [
            "0\n",
            "1\n",
            "2\n",
            "3\n",
            "4\n"
          ]
        }
      ]
    },
    {
      "cell_type": "code",
      "source": [
        "with open(\"my_file_1.txt\",\"a\") as f:\n",
        "  f.write(\"morecontent lol\")"
      ],
      "metadata": {
        "id": "ytkAs7tZgp8D"
      },
      "execution_count": null,
      "outputs": []
    },
    {
      "cell_type": "code",
      "source": [
        "!ls\n"
      ],
      "metadata": {
        "colab": {
          "base_uri": "https://localhost:8080/"
        },
        "id": "vpmHF8MXgyNK",
        "outputId": "51a4df1e-e3e8-467f-bee6-5a63bc65f82e"
      },
      "execution_count": null,
      "outputs": [
        {
          "output_type": "stream",
          "name": "stdout",
          "text": [
            "my_file_1.txt\t sample_data\t\t  spark-3.3.0-bin-hadoop3.tgz\n",
            "retailstore.csv  spark-3.3.0-bin-hadoop3\n"
          ]
        }
      ]
    },
    {
      "cell_type": "code",
      "source": [
        "!cat my_file_1.txt"
      ],
      "metadata": {
        "colab": {
          "base_uri": "https://localhost:8080/"
        },
        "id": "NpJFSSIlgzUl",
        "outputId": "2afbb8ec-8052-4ac6-acb8-5a5b8ee32d09"
      },
      "execution_count": null,
      "outputs": [
        {
          "output_type": "stream",
          "name": "stdout",
          "text": [
            "sample content lolmorecontent lol"
          ]
        }
      ]
    },
    {
      "cell_type": "code",
      "source": [
        "sc = spark.sparkContext"
      ],
      "metadata": {
        "id": "pvk7zv4Sg1qC"
      },
      "execution_count": null,
      "outputs": []
    },
    {
      "cell_type": "code",
      "source": [
        "!ls"
      ],
      "metadata": {
        "colab": {
          "base_uri": "https://localhost:8080/"
        },
        "id": "uLF4ovX9iXNJ",
        "outputId": "07f32a88-b9ea-450b-e025-85f0c1432060"
      },
      "execution_count": null,
      "outputs": [
        {
          "output_type": "stream",
          "name": "stdout",
          "text": [
            "my_file_1.txt\t sample_data\t\t  spark-3.3.0-bin-hadoop3.tgz\n",
            "retailstore.csv  spark-3.3.0-bin-hadoop3\n"
          ]
        }
      ]
    },
    {
      "cell_type": "code",
      "source": [
        "my_csv_rdd = sc.textFile('retailstore.csv')"
      ],
      "metadata": {
        "id": "cwqCBC6viy0g"
      },
      "execution_count": null,
      "outputs": []
    },
    {
      "cell_type": "code",
      "source": [
        "my_csv_rdd.collect()"
      ],
      "metadata": {
        "colab": {
          "base_uri": "https://localhost:8080/"
        },
        "id": "3NmEMPKDi3n_",
        "outputId": "2d99dfdb-33ef-4774-cab2-d356bf16a0af"
      },
      "execution_count": null,
      "outputs": [
        {
          "output_type": "execute_result",
          "data": {
            "text/plain": [
              "['Age,Salary,Gender,Country,Purchased',\n",
              " '18,20000,Male,Germany,N',\n",
              " '19,22000,Female,France,N',\n",
              " '20,24000,Female,England,N',\n",
              " '21,,Male,England,N',\n",
              " '22,50000,Male,France,Y',\n",
              " '23,35000,Female,England,N',\n",
              " '24,,Male,Germany,N',\n",
              " '25,32000,Female,France,Y',\n",
              " ',35000,Male,Germany,N',\n",
              " '27,37000,Female,France,N']"
            ]
          },
          "metadata": {},
          "execution_count": 44
        }
      ]
    },
    {
      "cell_type": "code",
      "source": [
        "my_csv_rdd.take(3)\n"
      ],
      "metadata": {
        "colab": {
          "base_uri": "https://localhost:8080/"
        },
        "id": "-VB60fv5i9Kv",
        "outputId": "401a042f-1265-44bf-c118-c76430e5b4bc"
      },
      "execution_count": null,
      "outputs": [
        {
          "output_type": "execute_result",
          "data": {
            "text/plain": [
              "['Age,Salary,Gender,Country,Purchased',\n",
              " '18,20000,Male,Germany,N',\n",
              " '19,22000,Female,France,N']"
            ]
          },
          "metadata": {},
          "execution_count": 46
        }
      ]
    },
    {
      "cell_type": "code",
      "source": [
        "def calculat_sum(a,b):\n",
        "  return a + b"
      ],
      "metadata": {
        "id": "pYhiBhP1jKA2"
      },
      "execution_count": null,
      "outputs": []
    },
    {
      "cell_type": "code",
      "source": [
        "calculat_sum(4,7)"
      ],
      "metadata": {
        "colab": {
          "base_uri": "https://localhost:8080/"
        },
        "id": "7uXVq08OklVM",
        "outputId": "8f874f6c-fcf1-4a46-94d2-11c7ac113721"
      },
      "execution_count": null,
      "outputs": [
        {
          "output_type": "execute_result",
          "data": {
            "text/plain": [
              "11"
            ]
          },
          "metadata": {},
          "execution_count": 49
        }
      ]
    },
    {
      "cell_type": "code",
      "source": [
        "var_sum = calculat_sum(3,6)"
      ],
      "metadata": {
        "id": "yM6CmC_skq5z"
      },
      "execution_count": null,
      "outputs": []
    },
    {
      "cell_type": "code",
      "source": [
        "print(var_sum)"
      ],
      "metadata": {
        "colab": {
          "base_uri": "https://localhost:8080/"
        },
        "id": "slEYaKowk_hr",
        "outputId": "47de7631-6118-4e4e-dc17-d0e1b4eb4d58"
      },
      "execution_count": null,
      "outputs": [
        {
          "output_type": "stream",
          "name": "stdout",
          "text": [
            "9\n"
          ]
        }
      ]
    },
    {
      "cell_type": "code",
      "source": [
        "def calculat_sum_mult(a,b):\n",
        "  return a+b, a*b"
      ],
      "metadata": {
        "id": "ZiPCI-VclBI3"
      },
      "execution_count": null,
      "outputs": []
    },
    {
      "cell_type": "code",
      "source": [
        "var_sum1, var_mult1 = calculat_sum_mult(40,2)"
      ],
      "metadata": {
        "id": "Wo67lZLHlJQK"
      },
      "execution_count": null,
      "outputs": []
    },
    {
      "cell_type": "code",
      "source": [
        "print(var_sum1)\n",
        "print(var_mult1)"
      ],
      "metadata": {
        "colab": {
          "base_uri": "https://localhost:8080/"
        },
        "id": "jHY7tKeflRFa",
        "outputId": "54b2833e-60c7-48c7-f327-b386703394df"
      },
      "execution_count": null,
      "outputs": [
        {
          "output_type": "stream",
          "name": "stdout",
          "text": [
            "42\n",
            "80\n"
          ]
        }
      ]
    },
    {
      "cell_type": "code",
      "source": [
        "my_var = lambda x : x *2"
      ],
      "metadata": {
        "id": "Ru7-0xjQlVWb"
      },
      "execution_count": null,
      "outputs": []
    },
    {
      "cell_type": "code",
      "source": [
        "print(my_var(20))"
      ],
      "metadata": {
        "colab": {
          "base_uri": "https://localhost:8080/"
        },
        "id": "-oiN0cFhl9FS",
        "outputId": "bfeb9bc5-b402-43f8-c03c-48979e706bc2"
      },
      "execution_count": null,
      "outputs": [
        {
          "output_type": "stream",
          "name": "stdout",
          "text": [
            "40\n"
          ]
        }
      ]
    },
    {
      "cell_type": "code",
      "source": [
        "my_lambda = lambda a, b : a + b"
      ],
      "metadata": {
        "id": "sNk5gtBSl_S5"
      },
      "execution_count": null,
      "outputs": []
    },
    {
      "cell_type": "code",
      "source": [
        "print(my_lambda(10,20))"
      ],
      "metadata": {
        "colab": {
          "base_uri": "https://localhost:8080/"
        },
        "id": "ycId3v7Hmvhv",
        "outputId": "36994ed3-373b-47b5-a326-9001818fb5c4"
      },
      "execution_count": null,
      "outputs": [
        {
          "output_type": "stream",
          "name": "stdout",
          "text": [
            "30\n"
          ]
        }
      ]
    },
    {
      "cell_type": "code",
      "source": [
        "def calculateSum(a,b):\n",
        "  return a + b"
      ],
      "metadata": {
        "id": "PrPF4bjkmzR_"
      },
      "execution_count": null,
      "outputs": []
    },
    {
      "cell_type": "code",
      "source": [
        "print(calculateSum(10,30))"
      ],
      "metadata": {
        "colab": {
          "base_uri": "https://localhost:8080/"
        },
        "id": "gf_F5OP4m3TP",
        "outputId": "4b1b62da-a661-46e5-8e7b-68ccc28c1650"
      },
      "execution_count": null,
      "outputs": [
        {
          "output_type": "stream",
          "name": "stdout",
          "text": [
            "40\n"
          ]
        }
      ]
    },
    {
      "cell_type": "code",
      "source": [
        "def calculateSumAndMult(a,b):\n",
        "  return a+b , a*b - (2*a)"
      ],
      "metadata": {
        "id": "ZqrmN8qjm7oH"
      },
      "execution_count": null,
      "outputs": []
    },
    {
      "cell_type": "code",
      "source": [
        "print(calculateSumAndMult(10,2))"
      ],
      "metadata": {
        "colab": {
          "base_uri": "https://localhost:8080/"
        },
        "id": "YOW_98nSnAmX",
        "outputId": "c3749dd8-c43a-4c75-d426-46c8de6e0de0"
      },
      "execution_count": null,
      "outputs": [
        {
          "output_type": "stream",
          "name": "stdout",
          "text": [
            "(12, 0)\n"
          ]
        }
      ]
    },
    {
      "cell_type": "code",
      "source": [
        "my_csv_rdd2 = my_csv_rdd.map(lambda x : x.replace(\"Male\",\"M\"))"
      ],
      "metadata": {
        "id": "87932-QunLE2"
      },
      "execution_count": null,
      "outputs": []
    },
    {
      "cell_type": "code",
      "source": [
        "my_csv_rdd2.collect()"
      ],
      "metadata": {
        "colab": {
          "base_uri": "https://localhost:8080/"
        },
        "id": "YeNacX2lpPHu",
        "outputId": "062ee2e7-8b67-4d3c-ddf6-01e8d0aea809"
      },
      "execution_count": null,
      "outputs": [
        {
          "output_type": "execute_result",
          "data": {
            "text/plain": [
              "['Age,Salary,Gender,Country,Purchased',\n",
              " '18,20000,M,Germany,N',\n",
              " '19,22000,Female,France,N',\n",
              " '20,24000,Female,England,N',\n",
              " '21,,M,England,N',\n",
              " '22,50000,M,France,Y',\n",
              " '23,35000,Female,England,N',\n",
              " '24,,M,Germany,N',\n",
              " '25,32000,Female,France,Y',\n",
              " ',35000,M,Germany,N',\n",
              " '27,37000,Female,France,N']"
            ]
          },
          "metadata": {},
          "execution_count": 67
        }
      ]
    },
    {
      "cell_type": "code",
      "source": [
        "femaleCustomers=my_csv_rdd2.filter(lambda x: \"Female\" in x)"
      ],
      "metadata": {
        "id": "fVTrfT0Wp885"
      },
      "execution_count": null,
      "outputs": []
    },
    {
      "cell_type": "code",
      "source": [
        "femaleCustomers.collect()"
      ],
      "metadata": {
        "colab": {
          "base_uri": "https://localhost:8080/"
        },
        "id": "oTaAJzNhqZPA",
        "outputId": "20ddf016-d811-49be-9758-165ac22e5850"
      },
      "execution_count": null,
      "outputs": [
        {
          "output_type": "execute_result",
          "data": {
            "text/plain": [
              "['19,22000,Female,France,N',\n",
              " '20,24000,Female,England,N',\n",
              " '23,35000,Female,England,N',\n",
              " '25,32000,Female,France,Y',\n",
              " '27,37000,Female,France,N']"
            ]
          },
          "metadata": {},
          "execution_count": 69
        }
      ]
    },
    {
      "cell_type": "code",
      "source": [
        "words = femaleCustomers.flatMap(lambda z: z.split(\",\"))"
      ],
      "metadata": {
        "id": "ksho4MNoqn2o"
      },
      "execution_count": null,
      "outputs": []
    },
    {
      "cell_type": "code",
      "source": [
        "words.collect()"
      ],
      "metadata": {
        "colab": {
          "base_uri": "https://localhost:8080/"
        },
        "id": "9lXjEliJrwyH",
        "outputId": "6b241b37-0ddd-46c0-d512-4c2ea6ad28b0"
      },
      "execution_count": null,
      "outputs": [
        {
          "output_type": "execute_result",
          "data": {
            "text/plain": [
              "['19',\n",
              " '22000',\n",
              " 'Female',\n",
              " 'France',\n",
              " 'N',\n",
              " '20',\n",
              " '24000',\n",
              " 'Female',\n",
              " 'England',\n",
              " 'N',\n",
              " '23',\n",
              " '35000',\n",
              " 'Female',\n",
              " 'England',\n",
              " 'N',\n",
              " '25',\n",
              " '32000',\n",
              " 'Female',\n",
              " 'France',\n",
              " 'Y',\n",
              " '27',\n",
              " '37000',\n",
              " 'Female',\n",
              " 'France',\n",
              " 'N']"
            ]
          },
          "metadata": {},
          "execution_count": 71
        }
      ]
    },
    {
      "cell_type": "code",
      "source": [
        "my_csv_rdd.collect()"
      ],
      "metadata": {
        "colab": {
          "base_uri": "https://localhost:8080/"
        },
        "id": "8nUEU9PSrzHG",
        "outputId": "13944ad5-9d7c-48a8-a06b-c0381fa528b0"
      },
      "execution_count": null,
      "outputs": [
        {
          "output_type": "execute_result",
          "data": {
            "text/plain": [
              "['Age,Salary,Gender,Country,Purchased',\n",
              " '18,20000,Male,Germany,N',\n",
              " '19,22000,Female,France,N',\n",
              " '20,24000,Female,England,N',\n",
              " '21,,Male,England,N',\n",
              " '22,50000,Male,France,Y',\n",
              " '23,35000,Female,England,N',\n",
              " '24,,Male,Germany,N',\n",
              " '25,32000,Female,France,Y',\n",
              " ',35000,Male,Germany,N',\n",
              " '27,37000,Female,France,N']"
            ]
          },
          "metadata": {},
          "execution_count": 72
        }
      ]
    },
    {
      "cell_type": "code",
      "source": [
        "def transformRDD(customer) :\n",
        "  words =customer.split(\",\")\n",
        "\n",
        "  if words[2] == \"Male\" :\n",
        "      words[2]=\"0\"\n",
        "\n",
        "  else :\n",
        "      words[2]=\"1\"\n",
        "\n",
        "      return \",\".join(words)"
      ],
      "metadata": {
        "id": "Ave9NpX7svbI"
      },
      "execution_count": null,
      "outputs": []
    },
    {
      "cell_type": "code",
      "source": [
        "my_csv_transformed = my_csv_rdd.map(transformRDD)"
      ],
      "metadata": {
        "id": "n06GyKJFvS7r"
      },
      "execution_count": null,
      "outputs": []
    },
    {
      "cell_type": "code",
      "source": [
        "my_csv_transformed.collect()"
      ],
      "metadata": {
        "colab": {
          "base_uri": "https://localhost:8080/"
        },
        "id": "pu_9gXwkwkYs",
        "outputId": "7b213c5e-a159-4901-c531-1a95a4bce218"
      },
      "execution_count": null,
      "outputs": [
        {
          "output_type": "execute_result",
          "data": {
            "text/plain": [
              "['Age,Salary,1,Country,Purchased',\n",
              " None,\n",
              " '19,22000,1,France,N',\n",
              " '20,24000,1,England,N',\n",
              " None,\n",
              " None,\n",
              " '23,35000,1,England,N',\n",
              " None,\n",
              " '25,32000,1,France,Y',\n",
              " None,\n",
              " '27,37000,1,France,N']"
            ]
          },
          "metadata": {},
          "execution_count": 76
        }
      ]
    },
    {
      "cell_type": "code",
      "source": [
        "!ls"
      ],
      "metadata": {
        "colab": {
          "base_uri": "https://localhost:8080/"
        },
        "id": "Rb2rjmocw9hb",
        "outputId": "3e3096f1-e158-4c42-aad6-a1cf157f3ac6"
      },
      "execution_count": null,
      "outputs": [
        {
          "output_type": "stream",
          "name": "stdout",
          "text": [
            "sample_data\n"
          ]
        }
      ]
    },
    {
      "cell_type": "code",
      "source": [
        "!wget https://raw.githubusercontent.com/futurexskill/bigdata/master/retailstore.csv"
      ],
      "metadata": {
        "colab": {
          "base_uri": "https://localhost:8080/"
        },
        "id": "BKibAjwEgd70",
        "outputId": "8b3dadc2-a586-4e52-f6d1-dc8e6caaa7da"
      },
      "execution_count": null,
      "outputs": [
        {
          "output_type": "stream",
          "name": "stdout",
          "text": [
            "--2022-08-01 08:25:05--  https://raw.githubusercontent.com/futurexskill/bigdata/master/retailstore.csv\n",
            "Resolving raw.githubusercontent.com (raw.githubusercontent.com)... 185.199.108.133, 185.199.109.133, 185.199.110.133, ...\n",
            "Connecting to raw.githubusercontent.com (raw.githubusercontent.com)|185.199.108.133|:443... connected.\n",
            "HTTP request sent, awaiting response... 200 OK\n",
            "Length: 279 [text/plain]\n",
            "Saving to: ‘retailstore.csv’\n",
            "\n",
            "retailstore.csv     100%[===================>]     279  --.-KB/s    in 0s      \n",
            "\n",
            "2022-08-01 08:25:06 (8.88 MB/s) - ‘retailstore.csv’ saved [279/279]\n",
            "\n"
          ]
        }
      ]
    },
    {
      "cell_type": "code",
      "source": [
        "!ls"
      ],
      "metadata": {
        "colab": {
          "base_uri": "https://localhost:8080/"
        },
        "id": "yQbAwxv0giwR",
        "outputId": "c1704d8f-d007-4b89-f857-a9b7984f75d6"
      },
      "execution_count": null,
      "outputs": [
        {
          "output_type": "stream",
          "name": "stdout",
          "text": [
            "retailstore.csv  sample_data\n"
          ]
        }
      ]
    },
    {
      "cell_type": "code",
      "source": [
        "customer_df = spark.read.csv(\"retailstore.csv\",header=True)"
      ],
      "metadata": {
        "id": "V4zyLkmSgj3R"
      },
      "execution_count": null,
      "outputs": []
    },
    {
      "cell_type": "code",
      "source": [
        "customer_df.show()"
      ],
      "metadata": {
        "colab": {
          "base_uri": "https://localhost:8080/"
        },
        "id": "TCcscirfgsiR",
        "outputId": "32f86d94-1068-4db0-c548-dcc06498a775"
      },
      "execution_count": null,
      "outputs": [
        {
          "output_type": "stream",
          "name": "stdout",
          "text": [
            "+----+------+------+-------+---------+\n",
            "| Age|Salary|Gender|Country|Purchased|\n",
            "+----+------+------+-------+---------+\n",
            "|  18| 20000|  Male|Germany|        N|\n",
            "|  19| 22000|Female| France|        N|\n",
            "|  20| 24000|Female|England|        N|\n",
            "|  21|  null|  Male|England|        N|\n",
            "|  22| 50000|  Male| France|        Y|\n",
            "|  23| 35000|Female|England|        N|\n",
            "|  24|  null|  Male|Germany|        N|\n",
            "|  25| 32000|Female| France|        Y|\n",
            "|null| 35000|  Male|Germany|        N|\n",
            "|  27| 37000|Female| France|        N|\n",
            "+----+------+------+-------+---------+\n",
            "\n"
          ]
        }
      ]
    },
    {
      "cell_type": "code",
      "source": [
        "type(customer_df)"
      ],
      "metadata": {
        "colab": {
          "base_uri": "https://localhost:8080/"
        },
        "id": "tyv9DUgWhQ1Q",
        "outputId": "f12bec1a-72b3-4d0b-aa71-658a39a84d8c"
      },
      "execution_count": null,
      "outputs": [
        {
          "output_type": "execute_result",
          "data": {
            "text/plain": [
              "pyspark.sql.dataframe.DataFrame"
            ]
          },
          "metadata": {},
          "execution_count": 19
        }
      ]
    },
    {
      "cell_type": "code",
      "source": [
        "customer_df.describe().show()"
      ],
      "metadata": {
        "colab": {
          "base_uri": "https://localhost:8080/"
        },
        "id": "bUT-J2zRhbDY",
        "outputId": "1ff71537-972e-410d-842d-29ed884f50c2"
      },
      "execution_count": null,
      "outputs": [
        {
          "output_type": "stream",
          "name": "stdout",
          "text": [
            "+-------+-----------------+-----------------+------+-------+---------+\n",
            "|summary|              Age|           Salary|Gender|Country|Purchased|\n",
            "+-------+-----------------+-----------------+------+-------+---------+\n",
            "|  count|                9|                8|    10|     10|       10|\n",
            "|   mean|22.11111111111111|          31875.0|  null|   null|     null|\n",
            "| stddev|2.934469476943168|9818.895777311942|  null|   null|     null|\n",
            "|    min|               18|            20000|Female|England|        N|\n",
            "|    max|               27|            50000|  Male|Germany|        Y|\n",
            "+-------+-----------------+-----------------+------+-------+---------+\n",
            "\n"
          ]
        }
      ]
    },
    {
      "cell_type": "code",
      "source": [
        "country_df = customer_df.select(\"country\")"
      ],
      "metadata": {
        "id": "CwK-lx4QhqF4"
      },
      "execution_count": null,
      "outputs": []
    },
    {
      "cell_type": "code",
      "source": [
        "country_df.show()"
      ],
      "metadata": {
        "colab": {
          "base_uri": "https://localhost:8080/"
        },
        "id": "fwNroDzJhx_P",
        "outputId": "d4b4e154-6291-4bb7-908a-5a3be1ba747f"
      },
      "execution_count": null,
      "outputs": [
        {
          "output_type": "stream",
          "name": "stdout",
          "text": [
            "+-------+\n",
            "|country|\n",
            "+-------+\n",
            "|Germany|\n",
            "| France|\n",
            "|England|\n",
            "|England|\n",
            "| France|\n",
            "|England|\n",
            "|Germany|\n",
            "| France|\n",
            "|Germany|\n",
            "| France|\n",
            "+-------+\n",
            "\n"
          ]
        }
      ]
    },
    {
      "cell_type": "code",
      "source": [
        "customer_df.groupBy(\"country\").count().show()"
      ],
      "metadata": {
        "colab": {
          "base_uri": "https://localhost:8080/"
        },
        "id": "0QGYnfj8h0IH",
        "outputId": "5b80b4d4-cda3-44a3-fc3f-7ee0880e0914"
      },
      "execution_count": null,
      "outputs": [
        {
          "output_type": "stream",
          "name": "stdout",
          "text": [
            "+-------+-----+\n",
            "|country|count|\n",
            "+-------+-----+\n",
            "|Germany|    3|\n",
            "| France|    4|\n",
            "|England|    3|\n",
            "+-------+-----+\n",
            "\n"
          ]
        }
      ]
    },
    {
      "cell_type": "code",
      "source": [
        "customer_df.createOrReplaceTempView(\"customer\")"
      ],
      "metadata": {
        "id": "G72j3KIyiAAm"
      },
      "execution_count": null,
      "outputs": []
    },
    {
      "cell_type": "code",
      "source": [
        "results = spark.sql(\"select * from customer\")"
      ],
      "metadata": {
        "id": "blGLk994iM1P"
      },
      "execution_count": null,
      "outputs": []
    },
    {
      "cell_type": "code",
      "source": [
        "new_results = spark.sql(\"select * from customer where age>22\")"
      ],
      "metadata": {
        "id": "uRVZXc5AiQRH"
      },
      "execution_count": null,
      "outputs": []
    },
    {
      "cell_type": "code",
      "source": [
        "new_results.show()"
      ],
      "metadata": {
        "colab": {
          "base_uri": "https://localhost:8080/"
        },
        "id": "H9yMnbMVjIpd",
        "outputId": "4982eb59-2d27-405b-daeb-e0d3d8059901"
      },
      "execution_count": null,
      "outputs": [
        {
          "output_type": "stream",
          "name": "stdout",
          "text": [
            "+---+------+------+-------+---------+\n",
            "|Age|Salary|Gender|Country|Purchased|\n",
            "+---+------+------+-------+---------+\n",
            "| 23| 35000|Female|England|        N|\n",
            "| 24|  null|  Male|Germany|        N|\n",
            "| 25| 32000|Female| France|        Y|\n",
            "| 27| 37000|Female| France|        N|\n",
            "+---+------+------+-------+---------+\n",
            "\n"
          ]
        }
      ]
    },
    {
      "cell_type": "code",
      "source": [
        "filtered_df = customer_df.filter('age>22')"
      ],
      "metadata": {
        "id": "UcY7Y7bJjK9c"
      },
      "execution_count": null,
      "outputs": []
    },
    {
      "cell_type": "code",
      "source": [
        "filtered_df.show()"
      ],
      "metadata": {
        "colab": {
          "base_uri": "https://localhost:8080/"
        },
        "id": "v7Ut8k1CjcCV",
        "outputId": "722a84ef-a3e9-4a08-d55b-00f0ab7368fc"
      },
      "execution_count": null,
      "outputs": [
        {
          "output_type": "stream",
          "name": "stdout",
          "text": [
            "+---+------+------+-------+---------+\n",
            "|Age|Salary|Gender|Country|Purchased|\n",
            "+---+------+------+-------+---------+\n",
            "| 23| 35000|Female|England|        N|\n",
            "| 24|  null|  Male|Germany|        N|\n",
            "| 25| 32000|Female| France|        Y|\n",
            "| 27| 37000|Female| France|        N|\n",
            "+---+------+------+-------+---------+\n",
            "\n"
          ]
        }
      ]
    },
    {
      "cell_type": "code",
      "source": [
        "type(filtered_df)"
      ],
      "metadata": {
        "colab": {
          "base_uri": "https://localhost:8080/"
        },
        "id": "Ao2trueSjd0T",
        "outputId": "4fbc7a15-495c-41d1-f2d0-ad9fc5ea8d9f"
      },
      "execution_count": null,
      "outputs": [
        {
          "output_type": "execute_result",
          "data": {
            "text/plain": [
              "pyspark.sql.dataframe.DataFrame"
            ]
          },
          "metadata": {},
          "execution_count": 34
        }
      ]
    },
    {
      "cell_type": "code",
      "source": [
        "customer_df.groupBy(\"gender\").agg({\"salary\": \"avg\"}).show()"
      ],
      "metadata": {
        "colab": {
          "base_uri": "https://localhost:8080/"
        },
        "id": "UNuO4s4yjgXr",
        "outputId": "039626b3-2066-48c6-f251-c1826ba29015"
      },
      "execution_count": null,
      "outputs": [
        {
          "output_type": "stream",
          "name": "stdout",
          "text": [
            "+------+-----------+\n",
            "|gender|avg(salary)|\n",
            "+------+-----------+\n",
            "|Female|    30000.0|\n",
            "|  Male|    35000.0|\n",
            "+------+-----------+\n",
            "\n"
          ]
        }
      ]
    },
    {
      "cell_type": "code",
      "source": [
        "customer_df.whithColumn('doublesalary',customer_df['salary']*2).show()"
      ],
      "metadata": {
        "colab": {
          "base_uri": "https://localhost:8080/",
          "height": 321
        },
        "id": "GtWZGxO8kEMD",
        "outputId": "74d5d3d1-0b71-4e94-fe5f-ede9474e60b6"
      },
      "execution_count": null,
      "outputs": [
        {
          "output_type": "error",
          "ename": "AttributeError",
          "evalue": "ignored",
          "traceback": [
            "\u001b[0;31m---------------------------------------------------------------------------\u001b[0m",
            "\u001b[0;31mAttributeError\u001b[0m                            Traceback (most recent call last)",
            "\u001b[0;32m<ipython-input-37-4eabca1f8ba5>\u001b[0m in \u001b[0;36m<module>\u001b[0;34m()\u001b[0m\n\u001b[0;32m----> 1\u001b[0;31m \u001b[0mcustomer_df\u001b[0m\u001b[0;34m.\u001b[0m\u001b[0mwhithColumn\u001b[0m\u001b[0;34m(\u001b[0m\u001b[0;34m'doublesalary'\u001b[0m\u001b[0;34m,\u001b[0m\u001b[0mcustomer_df\u001b[0m\u001b[0;34m[\u001b[0m\u001b[0;34m'salary'\u001b[0m\u001b[0;34m]\u001b[0m\u001b[0;34m*\u001b[0m\u001b[0;36m2\u001b[0m\u001b[0;34m)\u001b[0m\u001b[0;34m.\u001b[0m\u001b[0mshow\u001b[0m\u001b[0;34m(\u001b[0m\u001b[0;34m)\u001b[0m\u001b[0;34m\u001b[0m\u001b[0;34m\u001b[0m\u001b[0m\n\u001b[0m",
            "\u001b[0;32m/content/spark-3.3.0-bin-hadoop3/python/pyspark/sql/dataframe.py\u001b[0m in \u001b[0;36m__getattr__\u001b[0;34m(self, name)\u001b[0m\n\u001b[1;32m   1987\u001b[0m         \u001b[0;32mif\u001b[0m \u001b[0mname\u001b[0m \u001b[0;32mnot\u001b[0m \u001b[0;32min\u001b[0m \u001b[0mself\u001b[0m\u001b[0;34m.\u001b[0m\u001b[0mcolumns\u001b[0m\u001b[0;34m:\u001b[0m\u001b[0;34m\u001b[0m\u001b[0;34m\u001b[0m\u001b[0m\n\u001b[1;32m   1988\u001b[0m             raise AttributeError(\n\u001b[0;32m-> 1989\u001b[0;31m                 \u001b[0;34m\"'%s' object has no attribute '%s'\"\u001b[0m \u001b[0;34m%\u001b[0m \u001b[0;34m(\u001b[0m\u001b[0mself\u001b[0m\u001b[0;34m.\u001b[0m\u001b[0m__class__\u001b[0m\u001b[0;34m.\u001b[0m\u001b[0m__name__\u001b[0m\u001b[0;34m,\u001b[0m \u001b[0mname\u001b[0m\u001b[0;34m)\u001b[0m\u001b[0;34m\u001b[0m\u001b[0;34m\u001b[0m\u001b[0m\n\u001b[0m\u001b[1;32m   1990\u001b[0m             )\n\u001b[1;32m   1991\u001b[0m         \u001b[0mjc\u001b[0m \u001b[0;34m=\u001b[0m \u001b[0mself\u001b[0m\u001b[0;34m.\u001b[0m\u001b[0m_jdf\u001b[0m\u001b[0;34m.\u001b[0m\u001b[0mapply\u001b[0m\u001b[0;34m(\u001b[0m\u001b[0mname\u001b[0m\u001b[0;34m)\u001b[0m\u001b[0;34m\u001b[0m\u001b[0;34m\u001b[0m\u001b[0m\n",
            "\u001b[0;31mAttributeError\u001b[0m: 'DataFrame' object has no attribute 'whithColumn'"
          ]
        }
      ]
    },
    {
      "cell_type": "code",
      "source": [
        "customer_df.withColumn('doublesalary',customer_df['salary']*2).show()"
      ],
      "metadata": {
        "colab": {
          "base_uri": "https://localhost:8080/"
        },
        "id": "2gpfONPHkZ4S",
        "outputId": "71023b8e-1a84-43d9-8104-6d0ee7f5b617"
      },
      "execution_count": null,
      "outputs": [
        {
          "output_type": "stream",
          "name": "stdout",
          "text": [
            "+----+------+------+-------+---------+------------+\n",
            "| Age|Salary|Gender|Country|Purchased|doublesalary|\n",
            "+----+------+------+-------+---------+------------+\n",
            "|  18| 20000|  Male|Germany|        N|     40000.0|\n",
            "|  19| 22000|Female| France|        N|     44000.0|\n",
            "|  20| 24000|Female|England|        N|     48000.0|\n",
            "|  21|  null|  Male|England|        N|        null|\n",
            "|  22| 50000|  Male| France|        Y|    100000.0|\n",
            "|  23| 35000|Female|England|        N|     70000.0|\n",
            "|  24|  null|  Male|Germany|        N|        null|\n",
            "|  25| 32000|Female| France|        Y|     64000.0|\n",
            "|null| 35000|  Male|Germany|        N|     70000.0|\n",
            "|  27| 37000|Female| France|        N|     74000.0|\n",
            "+----+------+------+-------+---------+------------+\n",
            "\n"
          ]
        }
      ]
    },
    {
      "cell_type": "code",
      "source": [
        "from pyspark.sql.functions import lit"
      ],
      "metadata": {
        "id": "cET_t7jjk7EZ"
      },
      "execution_count": null,
      "outputs": []
    },
    {
      "cell_type": "code",
      "source": [
        "customer_df.withColumn(\"new_col\",lit(\"A\")).show()"
      ],
      "metadata": {
        "colab": {
          "base_uri": "https://localhost:8080/"
        },
        "id": "2gd3dIaWlSBw",
        "outputId": "9a4238d1-ea82-43fd-89aa-f6c850f7fc72"
      },
      "execution_count": null,
      "outputs": [
        {
          "output_type": "stream",
          "name": "stdout",
          "text": [
            "+----+------+------+-------+---------+-------+\n",
            "| Age|Salary|Gender|Country|Purchased|new_col|\n",
            "+----+------+------+-------+---------+-------+\n",
            "|  18| 20000|  Male|Germany|        N|      A|\n",
            "|  19| 22000|Female| France|        N|      A|\n",
            "|  20| 24000|Female|England|        N|      A|\n",
            "|  21|  null|  Male|England|        N|      A|\n",
            "|  22| 50000|  Male| France|        Y|      A|\n",
            "|  23| 35000|Female|England|        N|      A|\n",
            "|  24|  null|  Male|Germany|        N|      A|\n",
            "|  25| 32000|Female| France|        Y|      A|\n",
            "|null| 35000|  Male|Germany|        N|      A|\n",
            "|  27| 37000|Female| France|        N|      A|\n",
            "+----+------+------+-------+---------+-------+\n",
            "\n"
          ]
        }
      ]
    },
    {
      "cell_type": "code",
      "source": [
        "drop_df = customer_df.drop('salary')"
      ],
      "metadata": {
        "id": "5shN1ExIlYoY"
      },
      "execution_count": null,
      "outputs": []
    },
    {
      "cell_type": "code",
      "source": [
        "drop_df.show()"
      ],
      "metadata": {
        "colab": {
          "base_uri": "https://localhost:8080/"
        },
        "id": "PsdXuTT-mJ_O",
        "outputId": "415a348b-b701-4b90-be1b-eb6a7a52275a"
      },
      "execution_count": null,
      "outputs": [
        {
          "output_type": "stream",
          "name": "stdout",
          "text": [
            "+----+------+-------+---------+\n",
            "| Age|Gender|Country|Purchased|\n",
            "+----+------+-------+---------+\n",
            "|  18|  Male|Germany|        N|\n",
            "|  19|Female| France|        N|\n",
            "|  20|Female|England|        N|\n",
            "|  21|  Male|England|        N|\n",
            "|  22|  Male| France|        Y|\n",
            "|  23|Female|England|        N|\n",
            "|  24|  Male|Germany|        N|\n",
            "|  25|Female| France|        Y|\n",
            "|null|  Male|Germany|        N|\n",
            "|  27|Female| France|        N|\n",
            "+----+------+-------+---------+\n",
            "\n"
          ]
        }
      ]
    },
    {
      "cell_type": "code",
      "source": [
        "customer_df.na.drop().show()"
      ],
      "metadata": {
        "colab": {
          "base_uri": "https://localhost:8080/"
        },
        "id": "DdHlxfuKmLoX",
        "outputId": "5a2bd3f5-94da-4a59-ef80-f838551b55a4"
      },
      "execution_count": null,
      "outputs": [
        {
          "output_type": "stream",
          "name": "stdout",
          "text": [
            "+---+------+------+-------+---------+\n",
            "|Age|Salary|Gender|Country|Purchased|\n",
            "+---+------+------+-------+---------+\n",
            "| 18| 20000|  Male|Germany|        N|\n",
            "| 19| 22000|Female| France|        N|\n",
            "| 20| 24000|Female|England|        N|\n",
            "| 22| 50000|  Male| France|        Y|\n",
            "| 23| 35000|Female|England|        N|\n",
            "| 25| 32000|Female| France|        Y|\n",
            "| 27| 37000|Female| France|        N|\n",
            "+---+------+------+-------+---------+\n",
            "\n"
          ]
        }
      ]
    },
    {
      "cell_type": "code",
      "source": [
        "customer_df.na.fill('NEW_VALUE').show()"
      ],
      "metadata": {
        "colab": {
          "base_uri": "https://localhost:8080/"
        },
        "id": "Oi8qdxqMmXzV",
        "outputId": "7e0b2415-aacb-4eae-d954-7358e44aa87f"
      },
      "execution_count": null,
      "outputs": [
        {
          "output_type": "stream",
          "name": "stdout",
          "text": [
            "+---------+---------+------+-------+---------+\n",
            "|      Age|   Salary|Gender|Country|Purchased|\n",
            "+---------+---------+------+-------+---------+\n",
            "|       18|    20000|  Male|Germany|        N|\n",
            "|       19|    22000|Female| France|        N|\n",
            "|       20|    24000|Female|England|        N|\n",
            "|       21|NEW_VALUE|  Male|England|        N|\n",
            "|       22|    50000|  Male| France|        Y|\n",
            "|       23|    35000|Female|England|        N|\n",
            "|       24|NEW_VALUE|  Male|Germany|        N|\n",
            "|       25|    32000|Female| France|        Y|\n",
            "|NEW_VALUE|    35000|  Male|Germany|        N|\n",
            "|       27|    37000|Female| France|        N|\n",
            "+---------+---------+------+-------+---------+\n",
            "\n"
          ]
        }
      ]
    },
    {
      "cell_type": "code",
      "source": [
        "!wget https://raw.githubusercontent.com/alexriley7/Hadoop_Data_Transform/main/fact_purchase.csv"
      ],
      "metadata": {
        "id": "L5hlIY47mfpV",
        "colab": {
          "base_uri": "https://localhost:8080/"
        },
        "outputId": "1c03df24-62bf-4b97-8571-b836e34d7195"
      },
      "execution_count": 12,
      "outputs": [
        {
          "output_type": "stream",
          "name": "stdout",
          "text": [
            "--2022-08-04 08:32:05--  https://raw.githubusercontent.com/alexriley7/Hadoop_Data_Transform/main/fact_purchase.csv\n",
            "Resolving raw.githubusercontent.com (raw.githubusercontent.com)... 185.199.108.133, 185.199.110.133, 185.199.111.133, ...\n",
            "Connecting to raw.githubusercontent.com (raw.githubusercontent.com)|185.199.108.133|:443... connected.\n",
            "HTTP request sent, awaiting response... 200 OK\n",
            "Length: 437933 (428K) [text/plain]\n",
            "Saving to: ‘fact_purchase.csv’\n",
            "\n",
            "fact_purchase.csv   100%[===================>] 427.67K  --.-KB/s    in 0.03s   \n",
            "\n",
            "2022-08-04 08:32:06 (16.4 MB/s) - ‘fact_purchase.csv’ saved [437933/437933]\n",
            "\n"
          ]
        }
      ]
    },
    {
      "cell_type": "code",
      "source": [
        "!ls"
      ],
      "metadata": {
        "colab": {
          "base_uri": "https://localhost:8080/"
        },
        "id": "aUVEORWG--pH",
        "outputId": "0d077293-8379-4293-bbd9-8d47b7981bdc"
      },
      "execution_count": 13,
      "outputs": [
        {
          "output_type": "stream",
          "name": "stdout",
          "text": [
            "fact_purchase.csv  spark-3.3.0-bin-hadoop3\n",
            "sample_data\t   spark-3.3.0-bin-hadoop3.tgz\n"
          ]
        }
      ]
    },
    {
      "cell_type": "code",
      "source": [
        "!wget https://raw.githubusercontent.com/alexriley7/Hadoop_Data_Transform/main/dim_stockUnit.csv"
      ],
      "metadata": {
        "colab": {
          "base_uri": "https://localhost:8080/"
        },
        "id": "TVKK_1xb_GS1",
        "outputId": "5faf4cc4-3c62-4425-987b-847aef8903ab"
      },
      "execution_count": 15,
      "outputs": [
        {
          "output_type": "stream",
          "name": "stdout",
          "text": [
            "--2022-08-04 08:33:40--  https://raw.githubusercontent.com/alexriley7/Hadoop_Data_Transform/main/dim_stockUnit.csv\n",
            "Resolving raw.githubusercontent.com (raw.githubusercontent.com)... 185.199.108.133, 185.199.111.133, 185.199.110.133, ...\n",
            "Connecting to raw.githubusercontent.com (raw.githubusercontent.com)|185.199.108.133|:443... connected.\n",
            "HTTP request sent, awaiting response... 200 OK\n",
            "Length: 142546 (139K) [text/plain]\n",
            "Saving to: ‘dim_stockUnit.csv’\n",
            "\n",
            "dim_stockUnit.csv   100%[===================>] 139.21K  --.-KB/s    in 0.02s   \n",
            "\n",
            "2022-08-04 08:33:41 (8.64 MB/s) - ‘dim_stockUnit.csv’ saved [142546/142546]\n",
            "\n"
          ]
        }
      ]
    },
    {
      "cell_type": "code",
      "source": [
        "!ls"
      ],
      "metadata": {
        "colab": {
          "base_uri": "https://localhost:8080/"
        },
        "id": "S1WSIf8R_Rtg",
        "outputId": "f4bf8c1f-5bf3-4238-b702-f7b0bf9aa8b6"
      },
      "execution_count": 17,
      "outputs": [
        {
          "output_type": "stream",
          "name": "stdout",
          "text": [
            "dim_stockUnit.csv  sample_data\t\t    spark-3.3.0-bin-hadoop3.tgz\n",
            "fact_purchase.csv  spark-3.3.0-bin-hadoop3\n"
          ]
        }
      ]
    },
    {
      "cell_type": "code",
      "source": [
        "spark.read.option(\"header\",True).csv(\"dim_stockUnit.csv\").show()"
      ],
      "metadata": {
        "colab": {
          "base_uri": "https://localhost:8080/"
        },
        "id": "BTSngyMG_S0t",
        "outputId": "824f705f-e72c-442b-8f8e-8c52d20aa07e"
      },
      "execution_count": 18,
      "outputs": [
        {
          "output_type": "stream",
          "name": "stdout",
          "text": [
            "+--------------+-----------------+--------------------+-----+---------------+--------------+-----+---------+--------------+------------------+----------------+-------+--------+----------+------------------------+-----------------------+-----+----------+--------------------+-----------+\n",
            "|Stock Item Key|WWI Stock Item ID|          Stock Item|Color|Selling Package|Buying Package|Brand|     Size|Lead Time Days|Quantity Per Outer|Is Chiller Stock|Barcode|Tax Rate|Unit Price|Recommended Retail Price|Typical Weight Per Unit|Photo|Valid From|            Valid To|Lineage Key|\n",
            "+--------------+-----------------+--------------------+-----+---------------+--------------+-----+---------+--------------+------------------+----------------+-------+--------+----------+------------------------+-----------------------+-----+----------+--------------------+-----------+\n",
            "|             0|                0|             Unknown|  N/A|            N/A|           N/A|  N/A|      N/A|             0|                 0|               0|    N/A|       0|         0|                       0|                      0| NULL|   00:00.0|#################...|          0|\n",
            "|             1|              219|Void fill 400 L b...|  N/A|           Each|          Each|  N/A|     400L|            14|                10|               0|    N/A|      14|        50|                   74.75|                      1| NULL|   00:00.0|             00:00.0|          5|\n",
            "|             2|              218|Void fill 300 L b...|  N/A|           Each|          Each|  N/A|     300L|            14|                10|               0|    N/A|      14|      37.5|                   56.06|                   0.75| NULL|   00:00.0|             00:00.0|          5|\n",
            "|             3|              217|Void fill 200 L b...|  N/A|           Each|          Each|  N/A|     200L|            14|                10|               0|    N/A|      14|        25|                   37.38|                    0.5| NULL|   00:00.0|             00:00.0|          5|\n",
            "|             4|              216|Void fill 100 L b...|  N/A|           Each|          Each|  N/A|     100L|            14|                10|               0|    N/A|      14|      12.5|                   18.69|                   0.25| NULL|   00:00.0|             00:00.0|          5|\n",
            "|             5|              215|Air cushion machi...|  N/A|           Each|          Each|  N/A|      N/A|            20|                 1|               0|    N/A|      20|      1899|                 2839.01|                     10| NULL|   00:00.0|             00:00.0|          5|\n",
            "|             6|              214|Air cushion film ...|  N/A|           Each|          Each|  N/A|     325m|            14|                 1|               0|    N/A|      14|        90|                  134.55|                      6| NULL|   00:00.0|             00:00.0|          5|\n",
            "|             7|              213|Air cushion film ...|  N/A|           Each|          Each|  N/A|     325m|            14|                 1|               0|    N/A|      14|        87|                  130.07|                      5| NULL|   00:00.0|             00:00.0|          5|\n",
            "|             8|              212|Large  replacemen...|  N/A|           Each|          Each|  N/A|     18mm|            14|                10|               0|    N/A|      14|       4.3|                    6.43|                    0.8| NULL|   00:00.0|             00:00.0|          5|\n",
            "|             9|              211|Small 9mm replace...|  N/A|           Each|          Each|  N/A|      9mm|            14|                10|               0|    N/A|      14|       4.1|                    6.13|                    0.7| NULL|   00:00.0|             00:00.0|          5|\n",
            "|            10|              210|Packing knife wit...|  N/A|           Each|          Each|  N/A|     18mm|            14|                 5|               0|    N/A|      14|       2.4|                    3.59|                    0.5| NULL|   00:00.0|             00:00.0|          5|\n",
            "|            11|              209|Packing knife wit...|  N/A|           Each|          Each|  N/A|      9mm|            14|                 5|               0|    N/A|      14|      1.89|                    2.83|                    0.5| NULL|   00:00.0|             00:00.0|          5|\n",
            "|            12|              208|Permanent marker ...|  N/A|           Each|          Each|  N/A|      5mm|            14|                12|               0|    N/A|      14|       2.7|                    4.04|                    0.1| NULL|   00:00.0|             00:00.0|          5|\n",
            "|            13|              207|Permanent marker ...|  N/A|           Each|          Each|  N/A|      5mm|            14|                12|               0|    N/A|      14|       2.7|                    4.04|                    0.1| NULL|   00:00.0|             00:00.0|          5|\n",
            "|            14|              206|Permanent marker ...|  N/A|           Each|          Each|  N/A|      5mm|            14|                12|               0|    N/A|      14|       2.7|                    4.04|                    0.1| NULL|   00:00.0|             00:00.0|          5|\n",
            "|            15|              205|Tape dispenser (B...|  N/A|           Each|          Each|  N/A|      N/A|            20|                10|               0|    N/A|      20|        32|                   47.84|                      1| NULL|   00:00.0|             00:00.0|          5|\n",
            "|            16|              204|Tape dispenser (Red)|  N/A|           Each|          Each|  N/A|      N/A|            20|                10|               0|    N/A|      20|        32|                   47.84|                      1| NULL|   00:00.0|             00:00.0|          5|\n",
            "|            17|              203|Tape dispenser (B...|  N/A|           Each|          Each|  N/A|      N/A|            20|                10|               0|    N/A|      20|        32|                   47.84|                      1| NULL|   00:00.0|             00:00.0|          5|\n",
            "|            18|              202|Red and white urg...|  N/A|           Each|          Each|  N/A|48mmx100m|            14|                24|               0|    N/A|      14|       4.1|                    6.13|                    0.7| NULL|   00:00.0|             00:00.0|          5|\n",
            "|            19|              201|Red and white urg...|  N/A|           Each|          Each|  N/A| 48mmx75m|            14|                24|               0|    N/A|      14|       3.7|                    5.53|                    0.5| NULL|   00:00.0|             00:00.0|          5|\n",
            "+--------------+-----------------+--------------------+-----+---------------+--------------+-----+---------+--------------+------------------+----------------+-------+--------+----------+------------------------+-----------------------+-----+----------+--------------------+-----------+\n",
            "only showing top 20 rows\n",
            "\n"
          ]
        }
      ]
    },
    {
      "cell_type": "code",
      "source": [
        "dim_stockUnitDF = spark.read.csv(\"dim_stockUnit.csv\",header=True)"
      ],
      "metadata": {
        "id": "RmbvHu5Ephal"
      },
      "execution_count": 20,
      "outputs": []
    },
    {
      "cell_type": "code",
      "source": [
        "fact_purchaseDF = spark.read.csv(\"fact_purchase.csv\",header=True)"
      ],
      "metadata": {
        "id": "Ai9SceKdp274"
      },
      "execution_count": 21,
      "outputs": []
    },
    {
      "cell_type": "code",
      "source": [
        "dim_stockUnitDF.Show()"
      ],
      "metadata": {
        "colab": {
          "base_uri": "https://localhost:8080/",
          "height": 287
        },
        "id": "K9Q3z234p_5T",
        "outputId": "2a8e1ccb-e712-4e52-a947-acfe7f32da37"
      },
      "execution_count": 22,
      "outputs": [
        {
          "output_type": "error",
          "ename": "AttributeError",
          "evalue": "ignored",
          "traceback": [
            "\u001b[0;31m---------------------------------------------------------------------------\u001b[0m",
            "\u001b[0;31mAttributeError\u001b[0m                            Traceback (most recent call last)",
            "\u001b[0;32m<ipython-input-22-1c0a729b3fa8>\u001b[0m in \u001b[0;36m<module>\u001b[0;34m()\u001b[0m\n\u001b[0;32m----> 1\u001b[0;31m \u001b[0mdim_stockUnitDF\u001b[0m\u001b[0;34m.\u001b[0m\u001b[0mShow\u001b[0m\u001b[0;34m(\u001b[0m\u001b[0;34m)\u001b[0m\u001b[0;34m\u001b[0m\u001b[0;34m\u001b[0m\u001b[0m\n\u001b[0m",
            "\u001b[0;32m/content/spark-3.3.0-bin-hadoop3/python/pyspark/sql/dataframe.py\u001b[0m in \u001b[0;36m__getattr__\u001b[0;34m(self, name)\u001b[0m\n\u001b[1;32m   1987\u001b[0m         \u001b[0;32mif\u001b[0m \u001b[0mname\u001b[0m \u001b[0;32mnot\u001b[0m \u001b[0;32min\u001b[0m \u001b[0mself\u001b[0m\u001b[0;34m.\u001b[0m\u001b[0mcolumns\u001b[0m\u001b[0;34m:\u001b[0m\u001b[0;34m\u001b[0m\u001b[0;34m\u001b[0m\u001b[0m\n\u001b[1;32m   1988\u001b[0m             raise AttributeError(\n\u001b[0;32m-> 1989\u001b[0;31m                 \u001b[0;34m\"'%s' object has no attribute '%s'\"\u001b[0m \u001b[0;34m%\u001b[0m \u001b[0;34m(\u001b[0m\u001b[0mself\u001b[0m\u001b[0;34m.\u001b[0m\u001b[0m__class__\u001b[0m\u001b[0;34m.\u001b[0m\u001b[0m__name__\u001b[0m\u001b[0;34m,\u001b[0m \u001b[0mname\u001b[0m\u001b[0;34m)\u001b[0m\u001b[0;34m\u001b[0m\u001b[0;34m\u001b[0m\u001b[0m\n\u001b[0m\u001b[1;32m   1990\u001b[0m             )\n\u001b[1;32m   1991\u001b[0m         \u001b[0mjc\u001b[0m \u001b[0;34m=\u001b[0m \u001b[0mself\u001b[0m\u001b[0;34m.\u001b[0m\u001b[0m_jdf\u001b[0m\u001b[0;34m.\u001b[0m\u001b[0mapply\u001b[0m\u001b[0;34m(\u001b[0m\u001b[0mname\u001b[0m\u001b[0;34m)\u001b[0m\u001b[0;34m\u001b[0m\u001b[0;34m\u001b[0m\u001b[0m\n",
            "\u001b[0;31mAttributeError\u001b[0m: 'DataFrame' object has no attribute 'Show'"
          ]
        }
      ]
    },
    {
      "cell_type": "code",
      "source": [
        "dim_stockUnitDF.show()"
      ],
      "metadata": {
        "colab": {
          "base_uri": "https://localhost:8080/"
        },
        "id": "IyBGD2KpqC_v",
        "outputId": "69937aff-44ce-4cf5-84a5-bcbe7df0de9e"
      },
      "execution_count": 23,
      "outputs": [
        {
          "output_type": "stream",
          "name": "stdout",
          "text": [
            "+--------------+-----------------+--------------------+-----+---------------+--------------+-----+---------+--------------+------------------+----------------+-------+--------+----------+------------------------+-----------------------+-----+----------+--------------------+-----------+\n",
            "|Stock Item Key|WWI Stock Item ID|          Stock Item|Color|Selling Package|Buying Package|Brand|     Size|Lead Time Days|Quantity Per Outer|Is Chiller Stock|Barcode|Tax Rate|Unit Price|Recommended Retail Price|Typical Weight Per Unit|Photo|Valid From|            Valid To|Lineage Key|\n",
            "+--------------+-----------------+--------------------+-----+---------------+--------------+-----+---------+--------------+------------------+----------------+-------+--------+----------+------------------------+-----------------------+-----+----------+--------------------+-----------+\n",
            "|             0|                0|             Unknown|  N/A|            N/A|           N/A|  N/A|      N/A|             0|                 0|               0|    N/A|       0|         0|                       0|                      0| NULL|   00:00.0|#################...|          0|\n",
            "|             1|              219|Void fill 400 L b...|  N/A|           Each|          Each|  N/A|     400L|            14|                10|               0|    N/A|      14|        50|                   74.75|                      1| NULL|   00:00.0|             00:00.0|          5|\n",
            "|             2|              218|Void fill 300 L b...|  N/A|           Each|          Each|  N/A|     300L|            14|                10|               0|    N/A|      14|      37.5|                   56.06|                   0.75| NULL|   00:00.0|             00:00.0|          5|\n",
            "|             3|              217|Void fill 200 L b...|  N/A|           Each|          Each|  N/A|     200L|            14|                10|               0|    N/A|      14|        25|                   37.38|                    0.5| NULL|   00:00.0|             00:00.0|          5|\n",
            "|             4|              216|Void fill 100 L b...|  N/A|           Each|          Each|  N/A|     100L|            14|                10|               0|    N/A|      14|      12.5|                   18.69|                   0.25| NULL|   00:00.0|             00:00.0|          5|\n",
            "|             5|              215|Air cushion machi...|  N/A|           Each|          Each|  N/A|      N/A|            20|                 1|               0|    N/A|      20|      1899|                 2839.01|                     10| NULL|   00:00.0|             00:00.0|          5|\n",
            "|             6|              214|Air cushion film ...|  N/A|           Each|          Each|  N/A|     325m|            14|                 1|               0|    N/A|      14|        90|                  134.55|                      6| NULL|   00:00.0|             00:00.0|          5|\n",
            "|             7|              213|Air cushion film ...|  N/A|           Each|          Each|  N/A|     325m|            14|                 1|               0|    N/A|      14|        87|                  130.07|                      5| NULL|   00:00.0|             00:00.0|          5|\n",
            "|             8|              212|Large  replacemen...|  N/A|           Each|          Each|  N/A|     18mm|            14|                10|               0|    N/A|      14|       4.3|                    6.43|                    0.8| NULL|   00:00.0|             00:00.0|          5|\n",
            "|             9|              211|Small 9mm replace...|  N/A|           Each|          Each|  N/A|      9mm|            14|                10|               0|    N/A|      14|       4.1|                    6.13|                    0.7| NULL|   00:00.0|             00:00.0|          5|\n",
            "|            10|              210|Packing knife wit...|  N/A|           Each|          Each|  N/A|     18mm|            14|                 5|               0|    N/A|      14|       2.4|                    3.59|                    0.5| NULL|   00:00.0|             00:00.0|          5|\n",
            "|            11|              209|Packing knife wit...|  N/A|           Each|          Each|  N/A|      9mm|            14|                 5|               0|    N/A|      14|      1.89|                    2.83|                    0.5| NULL|   00:00.0|             00:00.0|          5|\n",
            "|            12|              208|Permanent marker ...|  N/A|           Each|          Each|  N/A|      5mm|            14|                12|               0|    N/A|      14|       2.7|                    4.04|                    0.1| NULL|   00:00.0|             00:00.0|          5|\n",
            "|            13|              207|Permanent marker ...|  N/A|           Each|          Each|  N/A|      5mm|            14|                12|               0|    N/A|      14|       2.7|                    4.04|                    0.1| NULL|   00:00.0|             00:00.0|          5|\n",
            "|            14|              206|Permanent marker ...|  N/A|           Each|          Each|  N/A|      5mm|            14|                12|               0|    N/A|      14|       2.7|                    4.04|                    0.1| NULL|   00:00.0|             00:00.0|          5|\n",
            "|            15|              205|Tape dispenser (B...|  N/A|           Each|          Each|  N/A|      N/A|            20|                10|               0|    N/A|      20|        32|                   47.84|                      1| NULL|   00:00.0|             00:00.0|          5|\n",
            "|            16|              204|Tape dispenser (Red)|  N/A|           Each|          Each|  N/A|      N/A|            20|                10|               0|    N/A|      20|        32|                   47.84|                      1| NULL|   00:00.0|             00:00.0|          5|\n",
            "|            17|              203|Tape dispenser (B...|  N/A|           Each|          Each|  N/A|      N/A|            20|                10|               0|    N/A|      20|        32|                   47.84|                      1| NULL|   00:00.0|             00:00.0|          5|\n",
            "|            18|              202|Red and white urg...|  N/A|           Each|          Each|  N/A|48mmx100m|            14|                24|               0|    N/A|      14|       4.1|                    6.13|                    0.7| NULL|   00:00.0|             00:00.0|          5|\n",
            "|            19|              201|Red and white urg...|  N/A|           Each|          Each|  N/A| 48mmx75m|            14|                24|               0|    N/A|      14|       3.7|                    5.53|                    0.5| NULL|   00:00.0|             00:00.0|          5|\n",
            "+--------------+-----------------+--------------------+-----+---------------+--------------+-----+---------+--------------+------------------+----------------+-------+--------+----------+------------------------+-----------------------+-----+----------+--------------------+-----------+\n",
            "only showing top 20 rows\n",
            "\n"
          ]
        }
      ]
    },
    {
      "cell_type": "code",
      "source": [
        "fact_purchaseDF.show()"
      ],
      "metadata": {
        "colab": {
          "base_uri": "https://localhost:8080/"
        },
        "id": "jjFTZDfbqK0B",
        "outputId": "c9929926-032e-462a-e959-67cc8a1193c1"
      },
      "execution_count": 24,
      "outputs": [
        {
          "output_type": "stream",
          "name": "stdout",
          "text": [
            "+------------+---------+------------+--------------+---------------------+--------------+----------------+---------------+-------+------------------+-----------+\n",
            "|Purchase Key| Date Key|Supplier Key|Stock Item Key|WWI Purchase Order ID|Ordered Outers|Ordered Quantity|Received Outers|Package|Is Order Finalized|Lineage Key|\n",
            "+------------+---------+------------+--------------+---------------------+--------------+----------------+---------------+-------+------------------+-----------+\n",
            "|           5| 1/1/2013|          17|           143|                    2|             1|              12|              1| Carton|                 1|         10|\n",
            "|          95| 1/2/2013|          17|           143|                    7|             6|              72|              6| Carton|                 1|         10|\n",
            "|         140| 1/3/2013|          17|           143|                   12|            11|             132|             11| Carton|                 1|         10|\n",
            "|         172| 1/4/2013|          17|           143|                   17|             9|             108|              9| Carton|                 1|         10|\n",
            "|         187| 1/5/2013|          17|           143|                   21|             2|              24|              2| Carton|                 1|         10|\n",
            "|         202| 1/7/2013|          17|           143|                   26|             2|              24|              2| Carton|                 1|         10|\n",
            "|         220| 1/9/2013|          17|           143|                   32|             2|              24|              2| Carton|                 1|         10|\n",
            "|         225|1/10/2013|          17|           143|                   36|             3|              36|              3| Carton|                 1|         10|\n",
            "|         231|1/11/2013|          17|           143|                   39|             6|              72|              6| Carton|                 1|         10|\n",
            "|         241|1/14/2013|          17|           143|                   43|             8|              96|              8| Carton|                 1|         10|\n",
            "|         248|1/15/2013|          17|           143|                   47|             9|             108|              9| Carton|                 1|         10|\n",
            "|         255|1/16/2013|          17|           143|                   50|             6|              72|              6| Carton|                 1|         10|\n",
            "|         259|1/17/2013|          17|           143|                   51|             5|              60|              5| Carton|                 1|         10|\n",
            "|         264|1/18/2013|          17|           143|                   52|            13|             156|             13| Carton|                 1|         10|\n",
            "|         270|1/19/2013|          17|           143|                   54|             9|             108|              9| Carton|                 1|         10|\n",
            "|         272|1/21/2013|          17|           143|                   56|            18|             216|             18| Carton|                 1|         10|\n",
            "|         277|1/22/2013|          17|           143|                   57|            29|             348|             29| Carton|                 1|         10|\n",
            "|         281|1/23/2013|          17|           143|                   58|            28|             336|             28| Carton|                 1|         10|\n",
            "|         286|1/24/2013|          17|           143|                   59|            27|             324|             27| Carton|                 1|         10|\n",
            "|         291|1/25/2013|          17|           143|                   60|            26|             312|             26| Carton|                 1|         10|\n",
            "+------------+---------+------------+--------------+---------------------+--------------+----------------+---------------+-------+------------------+-----------+\n",
            "only showing top 20 rows\n",
            "\n"
          ]
        }
      ]
    },
    {
      "cell_type": "code",
      "source": [
        "from pyspark.sql.types import IntegerType,FloatType"
      ],
      "metadata": {
        "id": "KGi3xYrfqNGm"
      },
      "execution_count": 25,
      "outputs": []
    },
    {
      "cell_type": "code",
      "source": [
        "fact_purchaseDF1 = fact_purchaseDF"
      ],
      "metadata": {
        "id": "rEAxoT_er2PE"
      },
      "execution_count": 26,
      "outputs": []
    },
    {
      "cell_type": "code",
      "source": [
        "dim_stockUnitDF1 = dim_stockUnitDF"
      ],
      "metadata": {
        "id": "zVHr1TxywJVI"
      },
      "execution_count": 27,
      "outputs": []
    },
    {
      "cell_type": "code",
      "source": [
        "fact_purchaseDF1.join(dim_stockUnitDF1,fact_purchaseDF1(\"Stock Item Key\") === dim_stockUnitDF1(\"Stock Item Key\"),\"inner\").show(True)"
      ],
      "metadata": {
        "colab": {
          "base_uri": "https://localhost:8080/",
          "height": 130
        },
        "id": "XS_rj7T6wPEo",
        "outputId": "b6047430-c470-460e-f51e-9904827cc33c"
      },
      "execution_count": 28,
      "outputs": [
        {
          "output_type": "error",
          "ename": "SyntaxError",
          "evalue": "ignored",
          "traceback": [
            "\u001b[0;36m  File \u001b[0;32m\"<ipython-input-28-4f57280e005e>\"\u001b[0;36m, line \u001b[0;32m1\u001b[0m\n\u001b[0;31m    fact_purchaseDF1.join(dim_stockUnitDF1,fact_purchaseDF1(\"Stock Item Key\") === dim_stockUnitDF1(\"Stock Item Key\"),\"inner\").show(True)\u001b[0m\n\u001b[0m                                                                                ^\u001b[0m\n\u001b[0;31mSyntaxError\u001b[0m\u001b[0;31m:\u001b[0m invalid syntax\n"
          ]
        }
      ]
    },
    {
      "cell_type": "code",
      "source": [
        "fact_purchaseDF3 = fact_purchaseDF1.join(\"dim_stockUnitDF1,fact_purchaseDF1.Stock Item Key == fact_purchaseDF1.Stock Item Key\")"
      ],
      "metadata": {
        "colab": {
          "base_uri": "https://localhost:8080/",
          "height": 287
        },
        "id": "UALsMwsVw9OV",
        "outputId": "e2ba28b9-95a2-495f-e0cb-6e211a70ae0a"
      },
      "execution_count": 34,
      "outputs": [
        {
          "output_type": "error",
          "ename": "AttributeError",
          "evalue": "ignored",
          "traceback": [
            "\u001b[0;31m---------------------------------------------------------------------------\u001b[0m",
            "\u001b[0;31mAttributeError\u001b[0m                            Traceback (most recent call last)",
            "\u001b[0;32m<ipython-input-34-7a85ad7cb83d>\u001b[0m in \u001b[0;36m<module>\u001b[0;34m()\u001b[0m\n\u001b[0;32m----> 1\u001b[0;31m \u001b[0mfact_purchaseDF3\u001b[0m \u001b[0;34m=\u001b[0m \u001b[0mfact_purchaseDF1\u001b[0m\u001b[0;34m.\u001b[0m\u001b[0mjoin\u001b[0m\u001b[0;34m(\u001b[0m\u001b[0;34m\"dim_stockUnitDF1,fact_purchaseDF1.Stock Item Key == fact_purchaseDF1.Stock Item Key\"\u001b[0m\u001b[0;34m)\u001b[0m\u001b[0;34m\u001b[0m\u001b[0;34m\u001b[0m\u001b[0m\n\u001b[0m",
            "\u001b[0;32m/content/spark-3.3.0-bin-hadoop3/python/pyspark/sql/dataframe.py\u001b[0m in \u001b[0;36mjoin\u001b[0;34m(self, other, on, how)\u001b[0m\n\u001b[1;32m   1530\u001b[0m \u001b[0;34m\u001b[0m\u001b[0m\n\u001b[1;32m   1531\u001b[0m         \u001b[0;32mif\u001b[0m \u001b[0mon\u001b[0m \u001b[0;32mis\u001b[0m \u001b[0;32mNone\u001b[0m \u001b[0;32mand\u001b[0m \u001b[0mhow\u001b[0m \u001b[0;32mis\u001b[0m \u001b[0;32mNone\u001b[0m\u001b[0;34m:\u001b[0m\u001b[0;34m\u001b[0m\u001b[0;34m\u001b[0m\u001b[0m\n\u001b[0;32m-> 1532\u001b[0;31m             \u001b[0mjdf\u001b[0m \u001b[0;34m=\u001b[0m \u001b[0mself\u001b[0m\u001b[0;34m.\u001b[0m\u001b[0m_jdf\u001b[0m\u001b[0;34m.\u001b[0m\u001b[0mjoin\u001b[0m\u001b[0;34m(\u001b[0m\u001b[0mother\u001b[0m\u001b[0;34m.\u001b[0m\u001b[0m_jdf\u001b[0m\u001b[0;34m)\u001b[0m\u001b[0;34m\u001b[0m\u001b[0;34m\u001b[0m\u001b[0m\n\u001b[0m\u001b[1;32m   1533\u001b[0m         \u001b[0;32melse\u001b[0m\u001b[0;34m:\u001b[0m\u001b[0;34m\u001b[0m\u001b[0;34m\u001b[0m\u001b[0m\n\u001b[1;32m   1534\u001b[0m             \u001b[0;32mif\u001b[0m \u001b[0mhow\u001b[0m \u001b[0;32mis\u001b[0m \u001b[0;32mNone\u001b[0m\u001b[0;34m:\u001b[0m\u001b[0;34m\u001b[0m\u001b[0;34m\u001b[0m\u001b[0m\n",
            "\u001b[0;31mAttributeError\u001b[0m: 'str' object has no attribute '_jdf'"
          ]
        }
      ]
    },
    {
      "cell_type": "code",
      "source": [
        ""
      ],
      "metadata": {
        "id": "Zd8w13M11L6X"
      },
      "execution_count": null,
      "outputs": []
    },
    {
      "cell_type": "code",
      "source": [
        "fact_purchaseDF1 = fact_purchaseDF1.withColumn(\"Stock Item Key\", fact_purchaseDF1[\"Stock Item Key\"].cast(IntegerType()))"
      ],
      "metadata": {
        "id": "ly3kBs-Ty3aw"
      },
      "execution_count": 33,
      "outputs": []
    },
    {
      "cell_type": "code",
      "source": [
        "dim_stockUnitDF1 = dim_stockUnitDF1.withColumn(\"Stock Item Key\", dim_stockUnitDF1[\"Stock Item Key\"].cast(IntegerType()))"
      ],
      "metadata": {
        "id": "GRtxL5N21Neu"
      },
      "execution_count": 35,
      "outputs": []
    },
    {
      "cell_type": "code",
      "source": [
        "fact_purchaseDF3 = fact_purchaseDF1.join(\"dim_stockUnitDF1,fact_purchaseDF1.Stock Item Key == fact_purchaseDF1.Stock Item Key\")"
      ],
      "metadata": {
        "colab": {
          "base_uri": "https://localhost:8080/",
          "height": 287
        },
        "id": "A6aVSs851UMZ",
        "outputId": "af5a2579-cd00-4d4e-bbf0-d47ae0864a2a"
      },
      "execution_count": 36,
      "outputs": [
        {
          "output_type": "error",
          "ename": "AttributeError",
          "evalue": "ignored",
          "traceback": [
            "\u001b[0;31m---------------------------------------------------------------------------\u001b[0m",
            "\u001b[0;31mAttributeError\u001b[0m                            Traceback (most recent call last)",
            "\u001b[0;32m<ipython-input-36-7a85ad7cb83d>\u001b[0m in \u001b[0;36m<module>\u001b[0;34m()\u001b[0m\n\u001b[0;32m----> 1\u001b[0;31m \u001b[0mfact_purchaseDF3\u001b[0m \u001b[0;34m=\u001b[0m \u001b[0mfact_purchaseDF1\u001b[0m\u001b[0;34m.\u001b[0m\u001b[0mjoin\u001b[0m\u001b[0;34m(\u001b[0m\u001b[0;34m\"dim_stockUnitDF1,fact_purchaseDF1.Stock Item Key == fact_purchaseDF1.Stock Item Key\"\u001b[0m\u001b[0;34m)\u001b[0m\u001b[0;34m\u001b[0m\u001b[0;34m\u001b[0m\u001b[0m\n\u001b[0m",
            "\u001b[0;32m/content/spark-3.3.0-bin-hadoop3/python/pyspark/sql/dataframe.py\u001b[0m in \u001b[0;36mjoin\u001b[0;34m(self, other, on, how)\u001b[0m\n\u001b[1;32m   1530\u001b[0m \u001b[0;34m\u001b[0m\u001b[0m\n\u001b[1;32m   1531\u001b[0m         \u001b[0;32mif\u001b[0m \u001b[0mon\u001b[0m \u001b[0;32mis\u001b[0m \u001b[0;32mNone\u001b[0m \u001b[0;32mand\u001b[0m \u001b[0mhow\u001b[0m \u001b[0;32mis\u001b[0m \u001b[0;32mNone\u001b[0m\u001b[0;34m:\u001b[0m\u001b[0;34m\u001b[0m\u001b[0;34m\u001b[0m\u001b[0m\n\u001b[0;32m-> 1532\u001b[0;31m             \u001b[0mjdf\u001b[0m \u001b[0;34m=\u001b[0m \u001b[0mself\u001b[0m\u001b[0;34m.\u001b[0m\u001b[0m_jdf\u001b[0m\u001b[0;34m.\u001b[0m\u001b[0mjoin\u001b[0m\u001b[0;34m(\u001b[0m\u001b[0mother\u001b[0m\u001b[0;34m.\u001b[0m\u001b[0m_jdf\u001b[0m\u001b[0;34m)\u001b[0m\u001b[0;34m\u001b[0m\u001b[0;34m\u001b[0m\u001b[0m\n\u001b[0m\u001b[1;32m   1533\u001b[0m         \u001b[0;32melse\u001b[0m\u001b[0;34m:\u001b[0m\u001b[0;34m\u001b[0m\u001b[0;34m\u001b[0m\u001b[0m\n\u001b[1;32m   1534\u001b[0m             \u001b[0;32mif\u001b[0m \u001b[0mhow\u001b[0m \u001b[0;32mis\u001b[0m \u001b[0;32mNone\u001b[0m\u001b[0;34m:\u001b[0m\u001b[0;34m\u001b[0m\u001b[0;34m\u001b[0m\u001b[0m\n",
            "\u001b[0;31mAttributeError\u001b[0m: 'str' object has no attribute '_jdf'"
          ]
        }
      ]
    },
    {
      "cell_type": "code",
      "source": [
        ""
      ],
      "metadata": {
        "id": "OMhqsAotBb38"
      },
      "execution_count": null,
      "outputs": []
    },
    {
      "cell_type": "code",
      "source": [
        "!ls\n"
      ],
      "metadata": {
        "colab": {
          "base_uri": "https://localhost:8080/"
        },
        "id": "Ac1T1LDS2UJg",
        "outputId": "2c3bcfc8-1bbc-4a59-b114-75ef268857e1"
      },
      "execution_count": 37,
      "outputs": [
        {
          "output_type": "stream",
          "name": "stdout",
          "text": [
            "dim_stockUnit.csv  sample_data\t\t    spark-3.3.0-bin-hadoop3.tgz\n",
            "fact_purchase.csv  spark-3.3.0-bin-hadoop3\n"
          ]
        }
      ]
    },
    {
      "cell_type": "code",
      "source": [
        "!rm dim_stockUnit.csv"
      ],
      "metadata": {
        "id": "TDzXopd62WYG"
      },
      "execution_count": 38,
      "outputs": []
    },
    {
      "cell_type": "code",
      "source": [
        "!rm fact_purchase.csv"
      ],
      "metadata": {
        "id": "1wKoXRPy2bls"
      },
      "execution_count": 39,
      "outputs": []
    },
    {
      "cell_type": "code",
      "source": [
        "! rm fact_purchaseDF"
      ],
      "metadata": {
        "colab": {
          "base_uri": "https://localhost:8080/"
        },
        "id": "IQ2vgVaH2dXf",
        "outputId": "47549c05-a165-4816-9229-3972a8b7a5d9"
      },
      "execution_count": 40,
      "outputs": [
        {
          "output_type": "stream",
          "name": "stdout",
          "text": [
            "rm: cannot remove 'fact_purchaseDF': No such file or directory\n"
          ]
        }
      ]
    },
    {
      "cell_type": "code",
      "source": [
        "!rm fact_purchase1"
      ],
      "metadata": {
        "colab": {
          "base_uri": "https://localhost:8080/"
        },
        "id": "aHc3Cfbs2g3L",
        "outputId": "016b5160-b55f-4d09-aefe-4fff81083886"
      },
      "execution_count": 41,
      "outputs": [
        {
          "output_type": "stream",
          "name": "stdout",
          "text": [
            "rm: cannot remove 'fact_purchase1': No such file or directory\n"
          ]
        }
      ]
    },
    {
      "cell_type": "code",
      "source": [
        "fact_purchaseDF.drop()"
      ],
      "metadata": {
        "colab": {
          "base_uri": "https://localhost:8080/"
        },
        "id": "oxt3oaaJ2oeh",
        "outputId": "16711145-b0ce-468e-9690-b7c94307a5c8"
      },
      "execution_count": 42,
      "outputs": [
        {
          "output_type": "execute_result",
          "data": {
            "text/plain": [
              "DataFrame[Purchase Key: string, Date Key: string, Supplier Key: string, Stock Item Key: string, WWI Purchase Order ID: string, Ordered Outers: string, Ordered Quantity: string, Received Outers: string, Package: string, Is Order Finalized: string, Lineage Key: string]"
            ]
          },
          "metadata": {},
          "execution_count": 42
        }
      ]
    },
    {
      "cell_type": "code",
      "source": [
        "!ls\n"
      ],
      "metadata": {
        "colab": {
          "base_uri": "https://localhost:8080/"
        },
        "id": "4ocjginH-BhF",
        "outputId": "02c09d01-dd31-4f30-b975-426d81515907"
      },
      "execution_count": 48,
      "outputs": [
        {
          "output_type": "stream",
          "name": "stdout",
          "text": [
            "sample_data  spark-3.3.0-bin-hadoop3  spark-3.3.0-bin-hadoop3.tgz\n"
          ]
        }
      ]
    },
    {
      "cell_type": "code",
      "source": [
        "!wget https://raw.githubusercontent.com/alexriley7/Hadoop_Data_Transform/main/fact_purchase.csv"
      ],
      "metadata": {
        "colab": {
          "base_uri": "https://localhost:8080/"
        },
        "id": "_PoppK2H2qef",
        "outputId": "33462e31-c5b8-453c-aced-01323e742051"
      },
      "execution_count": 49,
      "outputs": [
        {
          "output_type": "stream",
          "name": "stdout",
          "text": [
            "--2022-08-04 13:08:29--  https://raw.githubusercontent.com/alexriley7/Hadoop_Data_Transform/main/fact_purchase.csv\n",
            "Resolving raw.githubusercontent.com (raw.githubusercontent.com)... 185.199.108.133, 185.199.109.133, 185.199.110.133, ...\n",
            "Connecting to raw.githubusercontent.com (raw.githubusercontent.com)|185.199.108.133|:443... connected.\n",
            "HTTP request sent, awaiting response... 200 OK\n",
            "Length: 437933 (428K) [text/plain]\n",
            "Saving to: ‘fact_purchase.csv’\n",
            "\n",
            "fact_purchase.csv   100%[===================>] 427.67K  --.-KB/s    in 0.02s   \n",
            "\n",
            "2022-08-04 13:08:30 (18.6 MB/s) - ‘fact_purchase.csv’ saved [437933/437933]\n",
            "\n"
          ]
        }
      ]
    },
    {
      "cell_type": "code",
      "source": [
        "!wget https://raw.githubusercontent.com/alexriley7/Hadoop_Data_Transform/main/dim_stockUnit.csv"
      ],
      "metadata": {
        "colab": {
          "base_uri": "https://localhost:8080/"
        },
        "id": "e9KLqt2d-ME5",
        "outputId": "a3ff9eec-f1b7-4d99-e7f6-25eb72958a48"
      },
      "execution_count": 50,
      "outputs": [
        {
          "output_type": "stream",
          "name": "stdout",
          "text": [
            "--2022-08-04 13:08:43--  https://raw.githubusercontent.com/alexriley7/Hadoop_Data_Transform/main/dim_stockUnit.csv\n",
            "Resolving raw.githubusercontent.com (raw.githubusercontent.com)... 185.199.108.133, 185.199.109.133, 185.199.110.133, ...\n",
            "Connecting to raw.githubusercontent.com (raw.githubusercontent.com)|185.199.108.133|:443... connected.\n",
            "HTTP request sent, awaiting response... 200 OK\n",
            "Length: 142498 (139K) [text/plain]\n",
            "Saving to: ‘dim_stockUnit.csv’\n",
            "\n",
            "dim_stockUnit.csv   100%[===================>] 139.16K  --.-KB/s    in 0.02s   \n",
            "\n",
            "2022-08-04 13:08:43 (8.23 MB/s) - ‘dim_stockUnit.csv’ saved [142498/142498]\n",
            "\n"
          ]
        }
      ]
    },
    {
      "cell_type": "code",
      "source": [
        "!ls"
      ],
      "metadata": {
        "colab": {
          "base_uri": "https://localhost:8080/"
        },
        "id": "kfgkWqik-PZi",
        "outputId": "aa7f4e57-215b-45dc-fbc2-cea1f9f3ca49"
      },
      "execution_count": 51,
      "outputs": [
        {
          "output_type": "stream",
          "name": "stdout",
          "text": [
            "dim_stockUnit.csv  sample_data\t\t    spark-3.3.0-bin-hadoop3.tgz\n",
            "fact_purchase.csv  spark-3.3.0-bin-hadoop3\n"
          ]
        }
      ]
    },
    {
      "cell_type": "code",
      "source": [
        "dim_stockUnitDF_a = spark.read.csv(\"dim_stockUnit.csv\",header=True)"
      ],
      "metadata": {
        "id": "W-bGKDoY-QWI"
      },
      "execution_count": 52,
      "outputs": []
    },
    {
      "cell_type": "code",
      "source": [
        "fact_purchaseDF_a = spark.read.csv(\"fact_purchase.csv\",header=True)"
      ],
      "metadata": {
        "id": "a_CZPlLo-b6y"
      },
      "execution_count": 53,
      "outputs": []
    },
    {
      "cell_type": "code",
      "source": [
        "dim_stockUnitDF_a = dim_stockUnitDF_b"
      ],
      "metadata": {
        "colab": {
          "base_uri": "https://localhost:8080/",
          "height": 165
        },
        "id": "zUZwyf1A-hc4",
        "outputId": "13494afb-2f15-4c1d-f52e-944209ad1150"
      },
      "execution_count": 54,
      "outputs": [
        {
          "output_type": "error",
          "ename": "NameError",
          "evalue": "ignored",
          "traceback": [
            "\u001b[0;31m---------------------------------------------------------------------------\u001b[0m",
            "\u001b[0;31mNameError\u001b[0m                                 Traceback (most recent call last)",
            "\u001b[0;32m<ipython-input-54-92ff891d9227>\u001b[0m in \u001b[0;36m<module>\u001b[0;34m()\u001b[0m\n\u001b[0;32m----> 1\u001b[0;31m \u001b[0mdim_stockUnitDF_a\u001b[0m \u001b[0;34m=\u001b[0m \u001b[0mdim_stockUnitDF_b\u001b[0m\u001b[0;34m\u001b[0m\u001b[0;34m\u001b[0m\u001b[0m\n\u001b[0m",
            "\u001b[0;31mNameError\u001b[0m: name 'dim_stockUnitDF_b' is not defined"
          ]
        }
      ]
    },
    {
      "cell_type": "code",
      "source": [
        "dim_stockUnitDF_b = dim_stockUnitDF_a"
      ],
      "metadata": {
        "id": "nLna_jWV-l2I"
      },
      "execution_count": 55,
      "outputs": []
    },
    {
      "cell_type": "code",
      "source": [
        "fact_purchaseDF_b = fact_purchaseDF_a"
      ],
      "metadata": {
        "id": "y5PvUstn-pzI"
      },
      "execution_count": 56,
      "outputs": []
    },
    {
      "cell_type": "code",
      "source": [
        "!ls"
      ],
      "metadata": {
        "colab": {
          "base_uri": "https://localhost:8080/"
        },
        "id": "9_G1jnW4-uDf",
        "outputId": "c58cd99b-4f25-452d-9ce2-4054b61b1e78"
      },
      "execution_count": 57,
      "outputs": [
        {
          "output_type": "stream",
          "name": "stdout",
          "text": [
            "dim_stockUnit.csv  sample_data\t\t    spark-3.3.0-bin-hadoop3.tgz\n",
            "fact_purchase.csv  spark-3.3.0-bin-hadoop3\n"
          ]
        }
      ]
    },
    {
      "cell_type": "code",
      "source": [
        "fact_purchaseDF_c = fact_purchaseDF_b.withColumn(\"Stock_Item_Key\", fact_purchaseDF_b[\"Stock_Item_Key\"].cast(IntegerType()))"
      ],
      "metadata": {
        "id": "3rMXZWt2-zi_"
      },
      "execution_count": 61,
      "outputs": []
    },
    {
      "cell_type": "code",
      "source": [
        "dim_stockUnitDF_c = dim_stockUnitDF_b.withColumn(\"Stock_Item_Key\", dim_stockUnitDF_b[\"Stock_Item_Key\"].cast(IntegerType()))"
      ],
      "metadata": {
        "id": "XkI3W2u-BLhi"
      },
      "execution_count": 62,
      "outputs": []
    },
    {
      "cell_type": "code",
      "source": [
        "fact_purchaseDF_d = fact_purchaseDF_c.join(dim_stockUnitDF_c,fact_purchaseDF_c.Stock_Item_Key == dim_stockUnitDF_c.Stock_Item_Key)"
      ],
      "metadata": {
        "id": "IxAmVtsrBdIO"
      },
      "execution_count": 63,
      "outputs": []
    },
    {
      "cell_type": "code",
      "source": [
        "fact_purchaseDF_d.show()"
      ],
      "metadata": {
        "colab": {
          "base_uri": "https://localhost:8080/"
        },
        "id": "yEKWf9haB_Dv",
        "outputId": "35d41c6b-32da-4b4f-f753-0326a43f8ee0"
      },
      "execution_count": 64,
      "outputs": [
        {
          "output_type": "stream",
          "name": "stdout",
          "text": [
            "+------------+---------+------------+--------------+---------------------+--------------+----------------+---------------+-------+------------------+-----------+--------------+-----------------+--------------------+-----+---------------+--------------+-----+----+--------------+------------------+----------------+-------+--------+----------+------------------------+-----------------------+-----+----------+--------+-----------+\n",
            "|Purchase Key| Date_Key|Supplier_Key|Stock_Item_Key|WWI_Purchase_Order_ID|Ordered_Outers|Ordered_Quantity|Received_Outers|Package|Is_Order_Finalized|Lineage_Key|Stock_Item_Key|WWI_Stock_Item_ID|          Stock Item|Color|Selling_Package|Buying_Package|Brand|Size|Lead_Time_Days|Quantity_Per_Outer|Is_Chiller_Stock|Barcode|Tax_Rate|Unit_Price|Recommended_Retail_Price|Typical_Weight_Per_Unit|Photo|Valid_From|Valid_To|Lineage_Key|\n",
            "+------------+---------+------------+--------------+---------------------+--------------+----------------+---------------+-------+------------------+-----------+--------------+-----------------+--------------------+-----+---------------+--------------+-----+----+--------------+------------------+----------------+-------+--------+----------+------------------------+-----------------------+-----+----------+--------+-----------+\n",
            "|           5| 1/1/2013|          17|           143|                    2|             1|              12|              1| Carton|                 1|         10|           143|               77|\"\"\"The Gu\"\" red s...|White|           Each|        Carton|  N/A| XXS|             7|                12|               0|    N/A|       7|        18|                   26.91|                   0.25| NULL|   00:00.0| 00:00.0|          5|\n",
            "|          95| 1/2/2013|          17|           143|                    7|             6|              72|              6| Carton|                 1|         10|           143|               77|\"\"\"The Gu\"\" red s...|White|           Each|        Carton|  N/A| XXS|             7|                12|               0|    N/A|       7|        18|                   26.91|                   0.25| NULL|   00:00.0| 00:00.0|          5|\n",
            "|         140| 1/3/2013|          17|           143|                   12|            11|             132|             11| Carton|                 1|         10|           143|               77|\"\"\"The Gu\"\" red s...|White|           Each|        Carton|  N/A| XXS|             7|                12|               0|    N/A|       7|        18|                   26.91|                   0.25| NULL|   00:00.0| 00:00.0|          5|\n",
            "|         172| 1/4/2013|          17|           143|                   17|             9|             108|              9| Carton|                 1|         10|           143|               77|\"\"\"The Gu\"\" red s...|White|           Each|        Carton|  N/A| XXS|             7|                12|               0|    N/A|       7|        18|                   26.91|                   0.25| NULL|   00:00.0| 00:00.0|          5|\n",
            "|         187| 1/5/2013|          17|           143|                   21|             2|              24|              2| Carton|                 1|         10|           143|               77|\"\"\"The Gu\"\" red s...|White|           Each|        Carton|  N/A| XXS|             7|                12|               0|    N/A|       7|        18|                   26.91|                   0.25| NULL|   00:00.0| 00:00.0|          5|\n",
            "|         202| 1/7/2013|          17|           143|                   26|             2|              24|              2| Carton|                 1|         10|           143|               77|\"\"\"The Gu\"\" red s...|White|           Each|        Carton|  N/A| XXS|             7|                12|               0|    N/A|       7|        18|                   26.91|                   0.25| NULL|   00:00.0| 00:00.0|          5|\n",
            "|         220| 1/9/2013|          17|           143|                   32|             2|              24|              2| Carton|                 1|         10|           143|               77|\"\"\"The Gu\"\" red s...|White|           Each|        Carton|  N/A| XXS|             7|                12|               0|    N/A|       7|        18|                   26.91|                   0.25| NULL|   00:00.0| 00:00.0|          5|\n",
            "|         225|1/10/2013|          17|           143|                   36|             3|              36|              3| Carton|                 1|         10|           143|               77|\"\"\"The Gu\"\" red s...|White|           Each|        Carton|  N/A| XXS|             7|                12|               0|    N/A|       7|        18|                   26.91|                   0.25| NULL|   00:00.0| 00:00.0|          5|\n",
            "|         231|1/11/2013|          17|           143|                   39|             6|              72|              6| Carton|                 1|         10|           143|               77|\"\"\"The Gu\"\" red s...|White|           Each|        Carton|  N/A| XXS|             7|                12|               0|    N/A|       7|        18|                   26.91|                   0.25| NULL|   00:00.0| 00:00.0|          5|\n",
            "|         241|1/14/2013|          17|           143|                   43|             8|              96|              8| Carton|                 1|         10|           143|               77|\"\"\"The Gu\"\" red s...|White|           Each|        Carton|  N/A| XXS|             7|                12|               0|    N/A|       7|        18|                   26.91|                   0.25| NULL|   00:00.0| 00:00.0|          5|\n",
            "|         248|1/15/2013|          17|           143|                   47|             9|             108|              9| Carton|                 1|         10|           143|               77|\"\"\"The Gu\"\" red s...|White|           Each|        Carton|  N/A| XXS|             7|                12|               0|    N/A|       7|        18|                   26.91|                   0.25| NULL|   00:00.0| 00:00.0|          5|\n",
            "|         255|1/16/2013|          17|           143|                   50|             6|              72|              6| Carton|                 1|         10|           143|               77|\"\"\"The Gu\"\" red s...|White|           Each|        Carton|  N/A| XXS|             7|                12|               0|    N/A|       7|        18|                   26.91|                   0.25| NULL|   00:00.0| 00:00.0|          5|\n",
            "|         259|1/17/2013|          17|           143|                   51|             5|              60|              5| Carton|                 1|         10|           143|               77|\"\"\"The Gu\"\" red s...|White|           Each|        Carton|  N/A| XXS|             7|                12|               0|    N/A|       7|        18|                   26.91|                   0.25| NULL|   00:00.0| 00:00.0|          5|\n",
            "|         264|1/18/2013|          17|           143|                   52|            13|             156|             13| Carton|                 1|         10|           143|               77|\"\"\"The Gu\"\" red s...|White|           Each|        Carton|  N/A| XXS|             7|                12|               0|    N/A|       7|        18|                   26.91|                   0.25| NULL|   00:00.0| 00:00.0|          5|\n",
            "|         270|1/19/2013|          17|           143|                   54|             9|             108|              9| Carton|                 1|         10|           143|               77|\"\"\"The Gu\"\" red s...|White|           Each|        Carton|  N/A| XXS|             7|                12|               0|    N/A|       7|        18|                   26.91|                   0.25| NULL|   00:00.0| 00:00.0|          5|\n",
            "|         272|1/21/2013|          17|           143|                   56|            18|             216|             18| Carton|                 1|         10|           143|               77|\"\"\"The Gu\"\" red s...|White|           Each|        Carton|  N/A| XXS|             7|                12|               0|    N/A|       7|        18|                   26.91|                   0.25| NULL|   00:00.0| 00:00.0|          5|\n",
            "|         277|1/22/2013|          17|           143|                   57|            29|             348|             29| Carton|                 1|         10|           143|               77|\"\"\"The Gu\"\" red s...|White|           Each|        Carton|  N/A| XXS|             7|                12|               0|    N/A|       7|        18|                   26.91|                   0.25| NULL|   00:00.0| 00:00.0|          5|\n",
            "|         281|1/23/2013|          17|           143|                   58|            28|             336|             28| Carton|                 1|         10|           143|               77|\"\"\"The Gu\"\" red s...|White|           Each|        Carton|  N/A| XXS|             7|                12|               0|    N/A|       7|        18|                   26.91|                   0.25| NULL|   00:00.0| 00:00.0|          5|\n",
            "|         286|1/24/2013|          17|           143|                   59|            27|             324|             27| Carton|                 1|         10|           143|               77|\"\"\"The Gu\"\" red s...|White|           Each|        Carton|  N/A| XXS|             7|                12|               0|    N/A|       7|        18|                   26.91|                   0.25| NULL|   00:00.0| 00:00.0|          5|\n",
            "|         291|1/25/2013|          17|           143|                   60|            26|             312|             26| Carton|                 1|         10|           143|               77|\"\"\"The Gu\"\" red s...|White|           Each|        Carton|  N/A| XXS|             7|                12|               0|    N/A|       7|        18|                   26.91|                   0.25| NULL|   00:00.0| 00:00.0|          5|\n",
            "+------------+---------+------------+--------------+---------------------+--------------+----------------+---------------+-------+------------------+-----------+--------------+-----------------+--------------------+-----+---------------+--------------+-----+----+--------------+------------------+----------------+-------+--------+----------+------------------------+-----------------------+-----+----------+--------+-----------+\n",
            "only showing top 20 rows\n",
            "\n"
          ]
        }
      ]
    },
    {
      "cell_type": "code",
      "source": [
        "select"
      ],
      "metadata": {
        "id": "9pkQUFnKCFEJ"
      },
      "execution_count": null,
      "outputs": []
    }
  ]
}